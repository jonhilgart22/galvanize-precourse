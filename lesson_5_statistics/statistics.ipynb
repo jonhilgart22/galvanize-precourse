{
 "cells": [
  {
   "cell_type": "code",
   "execution_count": 36,
   "metadata": {
    "collapsed": true
   },
   "outputs": [],
   "source": [
    "import pickle\n",
    "import numpy as np\n",
    "import scipy.stats as scs\n",
    "\n",
    "# Don't change this. This fixes the randomness in sampling\n",
    "np.random.seed(seed=1234)\n",
    "\n",
    "\n",
    "# This loads in the list of numbers you are going to deal with\n",
    "def load_pickle(file_name):\n",
    "    \"\"\"INPUT:\n",
    "    - file_name(STR) [The name of the file]\n",
    "    OUTPUT:\n",
    "    - population(NUMPY ARRAY) [A array of numbers for the exercise]\n",
    "    \"\"\"\n",
    "    return pickle.load(open(file_name, 'rb'))"
   ]
  },
  {
   "cell_type": "code",
   "execution_count": 37,
   "metadata": {
    "collapsed": true
   },
   "outputs": [],
   "source": [
    "def draw_sample(population, n):\n",
    "    \"\"\"INPUT:\n",
    "    - population(NUMPY ARRAY) [The array containing all the numbers]\n",
    "    - n(INT) [The number of sample you wanna draw]\n",
    "    OUTPUT:\n",
    "    - sample(NUMPY ARRAY) [A array that contains a subset of the population]\n",
    "    Hint: Use np.random.choice(). Google it. Google is your best friend\n",
    "    \"\"\"\n",
    "    return np.random.choice(population,n)\n",
    "    "
   ]
  },
  {
   "cell_type": "code",
   "execution_count": 38,
   "metadata": {
    "collapsed": false
   },
   "outputs": [],
   "source": [
    "def get_mean(st):\n",
    "    \"\"\"INPUT:\n",
    "    - lst(NUMPY ARRAY) [The array of numbers where we find the mean of]\n",
    "    OUTPUT:\n",
    "    - mean_value(FLOAT)\n",
    "    Hint: Don't use np.mean().\n",
    "    Then use np.mean(arr) to see if you got the same value\n",
    "    \"\"\"\n",
    "    total=0\n",
    "    length = len(st)\n",
    "  \n",
    "    for count,item in enumerate(st):\n",
    "        total += item\n",
    "        \n",
    "        if length-1 == count:\n",
    "            return( total/length)\n",
    "\n"
   ]
  },
  {
   "cell_type": "code",
   "execution_count": 39,
   "metadata": {
    "collapsed": false
   },
   "outputs": [],
   "source": [
    "def get_median(st):\n",
    "    \"\"\"INPUT:\n",
    "    - lst(NUMPY ARRAY) [The array of numbers where we find the median of]\n",
    "    OUTPUT:\n",
    "    - median_value(FLOAT) [The median of the data]\n",
    "    \"\"\"\n",
    "    len_st = len(st)\n",
    "\n",
    "    if len_st%2==0:\n",
    "       \n",
    "        first_number =int((len_st+1)/2)\n",
    "        second_number=int((len_st-1)/2)\n",
    "        median=(st[first_number]+st[second_number])/2 \n",
    "       \n",
    "        return median\n",
    "    else:\n",
    "        \n",
    "    \n",
    "        median = st[int(len_st/2)]\n",
    "      \n",
    "        return median\n",
    "        \n",
    "    \n",
    "        \n"
   ]
  },
  {
   "cell_type": "code",
   "execution_count": 29,
   "metadata": {
    "collapsed": false
   },
   "outputs": [],
   "source": [
    "def get_variance(st, sample=True):\n",
    "    \"\"\"INPUT:\n",
    "    - lst(NUMPY ARRAY) [Either the sample or the population]\n",
    "    - sample(BOOL) [True if sample variance, False if population variance]\n",
    "    OUTPUT:\n",
    "    - lst_variance(FLOAT) [Sample or population variance depending]\n",
    "    \"\"\"\n",
    "    mean=get_mean(st)\n",
    "    length_st = len(st)\n",
    "   \n",
    "    total_summed=0\n",
    "    for count, item in enumerate(st):\n",
    "        total_summed+=(item-mean)**2\n",
    "    \n",
    "    if sample==True: #This is for a sample\n",
    "        #print (total_summed / (length_st-1),\"variance\")\n",
    "        return (total_summed / (length_st-1))\n",
    "    \n",
    "    elif sample == False: # This is for the population\n",
    "        #print (total_summed / (length_st),\"variance\")\n",
    "        return (total_summed / (length_st))\n",
    "        \n",
    "        \n",
    "\n",
    "#get_variance([111,222,333,444],False)\n",
    "        "
   ]
  },
  {
   "cell_type": "code",
   "execution_count": 34,
   "metadata": {
    "collapsed": false
   },
   "outputs": [
    {
     "data": {
      "text/plain": [
       "124.10177275123833"
      ]
     },
     "execution_count": 34,
     "metadata": {},
     "output_type": "execute_result"
    }
   ],
   "source": [
    "import math\n",
    "\n",
    "def get_standard_deviation(st, sample=True):\n",
    "    \"\"\"INPUT:\n",
    "    - lst(NUMPY ARRAY) [Either the sample or the population]\n",
    "    - sample(BOOL) [True if sample standard deviation, False if population standard deviation]\n",
    "    OUTPUT:\n",
    "    - lst_standard_deviation(FLOAT) [Sample or population standard deviation depending]\n",
    "    \"\"\"\n",
    "    \n",
    "    if sample==True:\n",
    "        #print ((math.sqrt(get_variance(st,True))),\"SD\")\n",
    "        return (math.sqrt(get_variance(st,True)))\n",
    "    else:\n",
    "        #print((math.sqrt(get_variance(st,False))),\"Sd\")\n",
    "        return (math.sqrt(get_variance(st,False)))\n",
    "\n",
    "get_standard_deviation([111,222,333,444],False)\n",
    "#get_variance([111,222,333,444],False)\n",
    "    "
   ]
  },
  {
   "cell_type": "code",
   "execution_count": 42,
   "metadata": {
    "collapsed": true
   },
   "outputs": [],
   "source": [
    "def get_range(st):\n",
    "    \"\"\"INPUT:\n",
    "    - lst(NUMPY ARRAY)\n",
    "    OUTPUT:\n",
    "    - range(FLOAT) [range]\n",
    "    \"\"\"\n",
    "    return len(st)"
   ]
  },
  {
   "cell_type": "code",
   "execution_count": 45,
   "metadata": {
    "collapsed": false
   },
   "outputs": [
    {
     "name": "stdout",
     "output_type": "stream",
     "text": [
      "First 5 element of the population:  [ 32.27485507  32.35296049  28.35444889  22.40936273  28.87387165]\n",
      "Population mean:  30.0052317791\n",
      "Sample 100 mean:  29.4908423505\n",
      "Sample 1000 mean:  30.143262639\n",
      "Population Variance 27.5263979629\n",
      "Sample 100 variance 26.199394717\n",
      "Sample 1000 variance 26.8242698436\n"
     ]
    }
   ],
   "source": [
    "population = load_pickle('population.pkl')\n",
    "print('First 5 element of the population: ', population[:5])\n",
    "sample_100 = draw_sample(population, 100)\n",
    "#print( sample_100, \"100 sample\")\n",
    "sample_1000 = draw_sample(population, 1000)\n",
    "population_mean = get_mean(population)\n",
    "sample_100_mean = get_mean(sample_100)\n",
    "sample_1000_mean = get_mean(sample_1000)\n",
    "population_variance = get_variance(population,False)\n",
    "sample_100_variance=get_variance(sample_100,True)\n",
    "sample_1000_variance=get_variance(sample_1000,True)\n",
    "print('Population mean: ', population_mean)\n",
    "print('Sample 100 mean: ', sample_100_mean)\n",
    "print('Sample 1000 mean: ', sample_1000_mean)\n",
    "print('Population Variance',population_variance)\n",
    "print(\"Sample 100 variance\",sample_100_variance)\n",
    "print(\"Sample 1000 variance\", sample_1000_variance)"
   ]
  },
  {
   "cell_type": "code",
   "execution_count": null,
   "metadata": {
    "collapsed": true
   },
   "outputs": [],
   "source": []
  }
 ],
 "metadata": {
  "anaconda-cloud": {},
  "kernelspec": {
   "display_name": "Python [Root]",
   "language": "python",
   "name": "Python [Root]"
  },
  "language_info": {
   "codemirror_mode": {
    "name": "ipython",
    "version": 3
   },
   "file_extension": ".py",
   "mimetype": "text/x-python",
   "name": "python",
   "nbconvert_exporter": "python",
   "pygments_lexer": "ipython3",
   "version": "3.5.2"
  }
 },
 "nbformat": 4,
 "nbformat_minor": 0
}
