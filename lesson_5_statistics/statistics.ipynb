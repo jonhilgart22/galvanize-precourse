{
 "cells": [
  {
   "cell_type": "code",
   "execution_count": 1,
   "metadata": {
    "collapsed": true
   },
   "outputs": [],
   "source": [
    "import pickle\n",
    "import numpy as np\n",
    "import scipy.stats as scs\n",
    "\n",
    "# Don't change this. This fixes the randomness in sampling\n",
    "np.random.seed(seed=1234)\n",
    "\n",
    "\n",
    "# This loads in the list of numbers you are going to deal with\n",
    "def load_pickle(file_name):\n",
    "    \"\"\"INPUT:\n",
    "    - file_name(STR) [The name of the file]\n",
    "    OUTPUT:\n",
    "    - population(NUMPY ARRAY) [A array of numbers for the exercise]\n",
    "    \"\"\"\n",
    "    return pickle.load(open(file_name))"
   ]
  },
  {
   "cell_type": "code",
   "execution_count": null,
   "metadata": {
    "collapsed": true
   },
   "outputs": [],
   "source": [
    "def draw_sample(population, n):\n",
    "    \"\"\"INPUT:\n",
    "    - population(NUMPY ARRAY) [The array containing all the numbers]\n",
    "    - n(INT) [The number of sample you wanna draw]\n",
    "    OUTPUT:\n",
    "    - sample(NUMPY ARRAY) [A array that contains a subset of the population]\n",
    "    Hint: Use np.random.choice(). Google it. Google is your best friend\n",
    "    \"\"\"\n",
    "    pass"
   ]
  },
  {
   "cell_type": "code",
   "execution_count": null,
   "metadata": {
    "collapsed": true
   },
   "outputs": [],
   "source": [
    "def get_mean(lst):\n",
    "    \"\"\"INPUT:\n",
    "    - lst(NUMPY ARRAY) [The array of numbers where we find the mean of]\n",
    "    OUTPUT:\n",
    "    - mean_value(FLOAT)\n",
    "    Hint: Don't use np.mean().\n",
    "    Then use np.mean(arr) to see if you got the same value\n",
    "    \"\"\"\n",
    "    pass"
   ]
  },
  {
   "cell_type": "code",
   "execution_count": null,
   "metadata": {
    "collapsed": true
   },
   "outputs": [],
   "source": [
    "def get_median(lst):\n",
    "    \"\"\"INPUT:\n",
    "    - lst(NUMPY ARRAY) [The array of numbers where we find the median of]\n",
    "    OUTPUT:\n",
    "    - median_value(FLOAT) [The median of the data]\n",
    "    \"\"\"\n",
    "    pass"
   ]
  },
  {
   "cell_type": "code",
   "execution_count": null,
   "metadata": {
    "collapsed": true
   },
   "outputs": [],
   "source": [
    "def get_variance(lst, sample=True):\n",
    "    \"\"\"INPUT:\n",
    "    - lst(NUMPY ARRAY) [Either the sample or the population]\n",
    "    - sample(BOOL) [True if sample variance, False if population variance]\n",
    "    OUTPUT:\n",
    "    - lst_variance(FLOAT) [Sample or population variance depending]\n",
    "    \"\"\"\n",
    "    pass"
   ]
  },
  {
   "cell_type": "code",
   "execution_count": null,
   "metadata": {
    "collapsed": true
   },
   "outputs": [],
   "source": [
    "def get_standard_deviation(lst, sample=True):\n",
    "    \"\"\"INPUT:\n",
    "    - lst(NUMPY ARRAY) [Either the sample or the population]\n",
    "    - sample(BOOL) [True if sample standard deviation, False if population standard deviation]\n",
    "    OUTPUT:\n",
    "    - lst_standard_deviation(FLOAT) [Sample or population standard deviation depending]\n",
    "    \"\"\"\n",
    "    pass"
   ]
  },
  {
   "cell_type": "code",
   "execution_count": null,
   "metadata": {
    "collapsed": true
   },
   "outputs": [],
   "source": [
    "def get_range(lst):\n",
    "    \"\"\"INPUT:\n",
    "    - lst(NUMPY ARRAY)\n",
    "    OUTPUT:\n",
    "    - range(FLOAT) [range]\n",
    "    \"\"\"\n",
    "    pass"
   ]
  },
  {
   "cell_type": "code",
   "execution_count": null,
   "metadata": {
    "collapsed": true
   },
   "outputs": [],
   "source": [
    "population = load_pickle('population.pkl')\n",
    "print 'First 5 element of the population: ', population[:5]\n",
    "sample_100 = draw_sample(population, 100)\n",
    "sample_1000 = draw_sample(population, 1000)\n",
    "population_mean = get_mean(population)\n",
    "sample_100_mean = get_mean(sample)\n",
    "sample_1000_mean = get_mean(sample)\n",
    "print 'Population mean: ', population_mean\n",
    "print 'Sample 100 mean: ', sample_100_mean\n",
    "print 'Sample 1000 mean: ', sample_1000_mean"
   ]
  }
 ],
 "metadata": {
  "kernelspec": {
   "display_name": "Python 2",
   "language": "python",
   "name": "python2"
  },
  "language_info": {
   "codemirror_mode": {
    "name": "ipython",
    "version": 2
   },
   "file_extension": ".py",
   "mimetype": "text/x-python",
   "name": "python",
   "nbconvert_exporter": "python",
   "pygments_lexer": "ipython2",
   "version": "2.7.11"
  }
 },
 "nbformat": 4,
 "nbformat_minor": 0
}
