{
 "cells": [
  {
   "cell_type": "code",
   "execution_count": 2,
   "metadata": {
    "collapsed": true
   },
   "outputs": [],
   "source": [
    "import pickle\n",
    "import numpy as np\n",
    "import scipy.stats as scs\n",
    "\n",
    "# Don't change this. This fixes the randomness in sampling\n",
    "np.random.seed(seed=1234)\n",
    "\n",
    "\n",
    "# This loads in the list of numbers you are going to deal with\n",
    "def load_pickle(file_name):\n",
    "    \"\"\"INPUT:\n",
    "    - file_name(STR) [The name of the file]\n",
    "    OUTPUT:\n",
    "    - population(NUMPY ARRAY) [A array of numbers for the exercise]\n",
    "    \"\"\"\n",
    "    \n",
    "    return pickle.load(open(file_name, 'rb')) "
   ]
  },
  {
   "cell_type": "code",
   "execution_count": 1,
   "metadata": {
    "collapsed": false
   },
   "outputs": [],
   "source": [
    "# Python 2\n",
    "\n",
    "import pickle\n",
    "import numpy as np\n",
    "\n",
    "def load_pickle(file_name):\n",
    "    return pickle.load(open(file_name))\n",
    "\n",
    "population = load_pickle('population.pkl')\n",
    "np.savetxt('temp.csv', population, delimiter=',')"
   ]
  },
  {
   "cell_type": "code",
   "execution_count": 8,
   "metadata": {
    "collapsed": true
   },
   "outputs": [],
   "source": [
    "# Python 3\n",
    "import numpy as np\n",
    "import pickle\n",
    "\n",
    "my_data = np.genfromtxt('temp.csv', delimiter=',')\n",
    "pickle.dump(my_data, open('population.pkl', 'wb'))\n"
   ]
  },
  {
   "cell_type": "code",
   "execution_count": null,
   "metadata": {
    "collapsed": true
   },
   "outputs": [],
   "source": [
    "def draw_sample(population, n):\n",
    "    \"\"\"INPUT:\n",
    "    - population(NUMPY ARRAY) [The array containing all the numbers]\n",
    "    - n(INT) [The number of sample you wanna draw]\n",
    "    OUTPUT:\n",
    "    - sample(NUMPY ARRAY) [A array that contains a subset of the population]\n",
    "    Hint: Use np.random.choice(). Google it. Google is your best friend\n",
    "    \"\"\"\n",
    "    pass"
   ]
  },
  {
   "cell_type": "code",
   "execution_count": null,
   "metadata": {
    "collapsed": true
   },
   "outputs": [],
   "source": [
    "def get_mean(lst):\n",
    "    \"\"\"INPUT:\n",
    "    - lst(NUMPY ARRAY) [The array of numbers where we find the mean of]\n",
    "    OUTPUT:\n",
    "    - mean_value(FLOAT)\n",
    "    Hint: Don't use np.mean().\n",
    "    Then use np.mean(arr) to see if you got the same value\n",
    "    \"\"\"\n",
    "    pass"
   ]
  },
  {
   "cell_type": "code",
   "execution_count": null,
   "metadata": {
    "collapsed": true
   },
   "outputs": [],
   "source": [
    "def get_median(lst):\n",
    "    \"\"\"INPUT:\n",
    "    - lst(NUMPY ARRAY) [The array of numbers where we find the median of]\n",
    "    OUTPUT:\n",
    "    - median_value(FLOAT) [The median of the data]\n",
    "    \"\"\"\n",
    "    pass"
   ]
  },
  {
   "cell_type": "code",
   "execution_count": null,
   "metadata": {
    "collapsed": true
   },
   "outputs": [],
   "source": [
    "def get_variance(lst, sample=True):\n",
    "    \"\"\"INPUT:\n",
    "    - lst(NUMPY ARRAY) [Either the sample or the population]\n",
    "    - sample(BOOL) [True if sample variance, False if population variance]\n",
    "    OUTPUT:\n",
    "    - lst_variance(FLOAT) [Sample or population variance depending]\n",
    "    \"\"\"\n",
    "    pass"
   ]
  },
  {
   "cell_type": "code",
   "execution_count": null,
   "metadata": {
    "collapsed": true
   },
   "outputs": [],
   "source": [
    "def get_standard_deviation(lst, sample=True):\n",
    "    \"\"\"INPUT:\n",
    "    - lst(NUMPY ARRAY) [Either the sample or the population]\n",
    "    - sample(BOOL) [True if sample standard deviation, False if population standard deviation]\n",
    "    OUTPUT:\n",
    "    - lst_standard_deviation(FLOAT) [Sample or population standard deviation depending]\n",
    "    \"\"\"\n",
    "    pass"
   ]
  },
  {
   "cell_type": "code",
   "execution_count": null,
   "metadata": {
    "collapsed": true
   },
   "outputs": [],
   "source": [
    "def get_range(lst):\n",
    "    \"\"\"INPUT:\n",
    "    - lst(NUMPY ARRAY)\n",
    "    OUTPUT:\n",
    "    - range(FLOAT) [range]\n",
    "    \"\"\"\n",
    "    pass"
   ]
  },
  {
   "cell_type": "code",
   "execution_count": 9,
   "metadata": {
    "collapsed": false
   },
   "outputs": [
    {
     "name": "stdout",
     "output_type": "stream",
     "text": [
      "First 5 element of the population:  [ 32.27485507  32.35296049  28.35444889  22.40936273  28.87387165]\n"
     ]
    }
   ],
   "source": [
    "population = load_pickle('population.pkl')\n",
    "print('First 5 element of the population: ', population[:5])"
   ]
  },
  {
   "cell_type": "code",
   "execution_count": 11,
   "metadata": {
    "collapsed": false
   },
   "outputs": [
    {
     "data": {
      "text/plain": [
       "(20005,)"
      ]
     },
     "execution_count": 11,
     "metadata": {},
     "output_type": "execute_result"
    }
   ],
   "source": [
    "population.shape"
   ]
  },
  {
   "cell_type": "code",
   "execution_count": null,
   "metadata": {
    "collapsed": true
   },
   "outputs": [],
   "source": [
    "sample_100 = draw_sample(population, 100)\n",
    "sample_1000 = draw_sample(population, 1000)\n",
    "population_mean = get_mean(population)\n",
    "sample_100_mean = get_mean(sample)\n",
    "sample_1000_mean = get_mean(sample)\n",
    "print('Population mean: ', population_mean)\n",
    "print('Sample 100 mean: ', sample_100_mean)\n",
    "print('Sample 1000 mean: ', sample_1000_mean)"
   ]
  }
 ],
 "metadata": {
  "kernelspec": {
   "display_name": "Python 3",
   "language": "python",
   "name": "python3"
  },
  "language_info": {
   "codemirror_mode": {
    "name": "ipython",
    "version": 3
   },
   "file_extension": ".py",
   "mimetype": "text/x-python",
   "name": "python",
   "nbconvert_exporter": "python",
   "pygments_lexer": "ipython3",
   "version": "3.4.4"
  }
 },
 "nbformat": 4,
 "nbformat_minor": 0
}
