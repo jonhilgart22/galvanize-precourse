{
 "cells": [
  {
   "cell_type": "markdown",
   "metadata": {},
   "source": [
    "---\n",
    "Python Resources\n",
    "====\n",
    "\n",
    "![](http://ct.fra.bz/ol/fz/sw/i60/2/7/20/frabz-I-can-speak-python-No-its-a-computer-language-8bbace.jpg)"
   ]
  },
  {
   "cell_type": "markdown",
   "metadata": {},
   "source": [
    "---\n",
    "Table of Contents\n",
    "----\n",
    "- [General Resources](#general-resources)\n",
    "- [Python Fundmentals](#python-fundamentals)\n",
    "- [Becoming a Pythonista](#advanced-python)\n",
    "- [Python Style](#python-style)\n",
    "- [Python Documentation](#documentation)\n",
    "- [Jupyter Notebooks](#jupyter-notebooks)"
   ]
  },
  {
   "cell_type": "markdown",
   "metadata": {},
   "source": [
    "---\n",
    "General Resources\n",
    "---\n",
    "\n",
    "If you still feel new to Python, you might benefit from looking at one of these resources:  \n",
    "\n",
    "- [Codecademy: Python](https://www.codecademy.com/learn/python)\n",
    "- [Dive Into Python](http://www.diveintopython.net/)  \n",
    "- [Learn Python the Hard Way](http://learnpythonthehardway.org/)  \n",
    "\n",
    "Here's a couple Coursera courses on programming in Python as well:  \n",
    "\n",
    "- [Learn to Program: The Fundamentals](https://www.coursera.org/course/programming1)\n",
    "- [Learn to Program: Crafting Quality Code](https://www.coursera.org/course/programming2)\n"
   ]
  },
  {
   "cell_type": "markdown",
   "metadata": {},
   "source": [
    "----\n",
    "Python Fundamentals\n",
    "---\n",
    "\n",
    "### You should be comfortable with everything below:\n",
    "\n",
    "- Basic data structures and their associated methods:\n",
    "  - int, float\n",
    "  - string\n",
    "  - list\n",
    "  - dict\n",
    "  - set\n",
    "- Control structures:\n",
    "    - if, elif, else\n",
    "    - for\n",
    "    - while\n",
    "    - break, continue, pass\n",
    "- Enumerations\n",
    "  - for loops\n",
    "  - [comprehensions: list, set, dictionary](http://python-3-patterns-idioms-test.readthedocs.io/en/latest/Comprehensions.html)\n",
    "  - enumerate\n",
    "  - zip\n",
    "- Functions\n",
    "  - Declaration\n",
    "  - Calling\n",
    "  - Keyword arguments\n",
    "- Object orientation\n",
    "  - Classes\n",
    "  - Methods\n",
    "  - Properties (instance variables)\n",
    "  - self\n",
    "- Modules\n",
    "  - import\n",
    "  - global import (`from numpy import *`)\n",
    "  - aliasing (`import numpy as np`)\n",
    "- IO\n",
    "  - Read a file\n",
    "  - Write to a file\n",
    "\n",
    "The [Python 3 documentation is a surprisingly good resource](https://docs.python.org/3/tutorial/) to learn more about these ideas.\n",
    "\n",
    "----\n",
    "### Test yourself with these questions:\n",
    "\n",
    "<details><summary>\n",
    "What's the difference between for and while statements?\n",
    "</summary>\n",
    "The for statement iterates through a collection or iterable object or generator function. <br>\n",
    "The while statement simply loops until a condition is False. <br>\n",
    "<br>\n",
    "\n",
    "</details>\n",
    "<br>\n",
    "<br>\n",
    "<details><summary>\n",
    "What is the advantage of storing things in a set rather than a list?\n",
    "</summary>\n",
    "Checking for membership is much faster in sets than lists. <br>\n",
    "<br>\n",
    "Set look-up is a constant, short time. It is like checking a mailbox in apartment building.\n",
    "Lists require looking at each item that could take far longer. It might have to check every item!\n",
    "</details>"
   ]
  },
  {
   "cell_type": "markdown",
   "metadata": {},
   "source": [
    "----\n",
    "Jupyter Notebooks\n",
    "---\n",
    "\n",
    "Check out [cool features of Jupyter Notebooks](http://blog.dominodatalab.com/lesser-known-ways-of-using-notebooks/)"
   ]
  },
  {
   "cell_type": "markdown",
   "metadata": {},
   "source": [
    "----\n",
    "Advanced Python\n",
    "----\n",
    "This is a bunch of syntax and special tools that are available in Python that come in very handy.\n",
    "\n",
    "- [Generators](#generators)\n",
    "- [Looping tools](#looping-tools)\n",
    "- [List comprehensions](#list-comprehensions)\n",
    "- [Lambda functions](#lambda-functions)\n",
    "- [Sets and Dictionaries](#sets-and-dictionaries)\n",
    "- [Mutable vs Immutable](#mutable-vs-immutable)\n",
    "- [Permutations and Combinations](#permutations-and-Combinations)\n",
    "- [File I/O](#file-io)\n",
    "- [Exception Handling](#exception-handling)\n"
   ]
  },
  {
   "cell_type": "markdown",
   "metadata": {},
   "source": [
    "### Generators\n",
    "\n",
    "A generator is an object that produces a sequence of results instead of a single value. Generators use very little memory since they don't actually store the elements; rather, a generator \"generates\" the next  element using a rule.  \n",
    "\n",
    "__Gotchas__:\n",
    "\n",
    "- You can only go through a generator once.  \n",
    "- In Python 3, you use the next() function to get the next element of a generator. This is different from Python 2 where you use the .next() method to get the next element.  \n",
    "- For those familiar with Python 2's _xrange_, there is no _xrange_ in Python 3. Python 3's _range_ __replaces__ Python 2's _xrange_. Hence, Python 3 _range_ is memory efficient, as you won't store a full list in memory, only the generator.   \n",
    "\n",
    "First look at a bit of code:\n",
    "\n",
    "```python\n",
    "for i in range(1000):\n",
    "    print(i)\n",
    "```\n",
    "\n",
    "The `range` function will create an object that can iterate over 1000 numbers.  The `range` function will generate the next value when it's needed, but won't pre-generate everything. If you actually want a list of numbers, then use list(range(1000)) to force the integers out.  "
   ]
  },
  {
   "cell_type": "code",
   "execution_count": 1,
   "metadata": {
    "collapsed": false
   },
   "outputs": [
    {
     "name": "stdout",
     "output_type": "stream",
     "text": [
      "range(0, 5)\n"
     ]
    }
   ],
   "source": [
    "# Prints generator object, not the actual numbers \n",
    "print(range(5))"
   ]
  },
  {
   "cell_type": "code",
   "execution_count": 2,
   "metadata": {
    "collapsed": false
   },
   "outputs": [
    {
     "name": "stdout",
     "output_type": "stream",
     "text": [
      "[0, 1, 2, 3, 4]\n"
     ]
    }
   ],
   "source": [
    "# Cast the range to be a list and the numbers appear\n",
    "print(list(range(5)))"
   ]
  },
  {
   "cell_type": "code",
   "execution_count": 3,
   "metadata": {
    "collapsed": false
   },
   "outputs": [
    {
     "name": "stdout",
     "output_type": "stream",
     "text": [
      "0\n",
      "1\n",
      "2\n",
      "3\n",
      "4\n",
      "\n",
      "0\n",
      "1\n",
      "2\n",
      "3\n",
      "4\n"
     ]
    }
   ],
   "source": [
    "# Iterating through either of them has the same effect\n",
    "for i in range(5): \n",
    "    print(i)\n",
    "    \n",
    "print()\n",
    "    \n",
    "for i in list(range(5)):\n",
    "    print(i)"
   ]
  },
  {
   "cell_type": "code",
   "execution_count": 4,
   "metadata": {
    "collapsed": false
   },
   "outputs": [],
   "source": [
    "small_generator = iter(range(3))"
   ]
  },
  {
   "cell_type": "code",
   "execution_count": 5,
   "metadata": {
    "collapsed": false
   },
   "outputs": [
    {
     "name": "stdout",
     "output_type": "stream",
     "text": [
      "0\n"
     ]
    }
   ],
   "source": [
    "# Use next() function to get the next element of the generator\n",
    "print(next(small_generator)) "
   ]
  },
  {
   "cell_type": "code",
   "execution_count": 6,
   "metadata": {
    "collapsed": false
   },
   "outputs": [
    {
     "name": "stdout",
     "output_type": "stream",
     "text": [
      "1\n",
      "2\n"
     ]
    }
   ],
   "source": [
    "print(next(small_generator)) \n",
    "print(next(small_generator))"
   ]
  },
  {
   "cell_type": "code",
   "execution_count": 7,
   "metadata": {
    "collapsed": false
   },
   "outputs": [
    {
     "ename": "StopIteration",
     "evalue": "",
     "output_type": "error",
     "traceback": [
      "\u001b[1;31m---------------------------------------------------------------------------\u001b[0m",
      "\u001b[1;31mStopIteration\u001b[0m                             Traceback (most recent call last)",
      "\u001b[1;32m<ipython-input-7-9596863f2b08>\u001b[0m in \u001b[0;36m<module>\u001b[1;34m()\u001b[0m\n\u001b[0;32m      1\u001b[0m \u001b[1;31m# Once you go through all the elements, then the generator cannot be used again\u001b[0m\u001b[1;33m\u001b[0m\u001b[1;33m\u001b[0m\u001b[0m\n\u001b[1;32m----> 2\u001b[1;33m \u001b[0mprint\u001b[0m\u001b[1;33m(\u001b[0m\u001b[0mnext\u001b[0m\u001b[1;33m(\u001b[0m\u001b[0msmall_generator\u001b[0m\u001b[1;33m)\u001b[0m\u001b[1;33m)\u001b[0m\u001b[1;33m\u001b[0m\u001b[0m\n\u001b[0m",
      "\u001b[1;31mStopIteration\u001b[0m: "
     ]
    }
   ],
   "source": [
    "# Once you go through all the elements, then the generator cannot be used again\n",
    "print(next(small_generator)) "
   ]
  },
  {
   "cell_type": "code",
   "execution_count": 8,
   "metadata": {
    "collapsed": false
   },
   "outputs": [
    {
     "name": "stdout",
     "output_type": "stream",
     "text": [
      "The size of object as a generator: 48\n",
      "The size of object is an actual list with lots of numbers 1008\n",
      "\n",
      "The size of object as a generator: 48\n",
      "The size of object is an actual list with lots of numbers 900112\n"
     ]
    }
   ],
   "source": [
    "# A generator 'scales' well with large lists gains due to effecient memory management\n",
    "import sys\n",
    "\n",
    "print(\"The size of object as a generator:\", sys.getsizeof(range(100)))\n",
    "print(\"The size of object is an actual list with lots of numbers\", sys.getsizeof(list(range(100))))\n",
    "\n",
    "print()\n",
    "\n",
    "print(\"The size of object as a generator:\", sys.getsizeof(range(100000)))\n",
    "print(\"The size of object is an actual list with lots of numbers\", sys.getsizeof(list(range(100000))))"
   ]
  },
  {
   "cell_type": "markdown",
   "metadata": {},
   "source": [
    "### Looping tools\n",
    "\n",
    "There are a couple handy tools in python that help you clean up your code when you're looping through a list. First, when possible, use the most simple pythonic loop:\n",
    "\n",
    "```python\n",
    "for item in L:\n",
    "    print(item)\n",
    "```"
   ]
  },
  {
   "cell_type": "code",
   "execution_count": 9,
   "metadata": {
    "collapsed": false
   },
   "outputs": [
    {
     "name": "stdout",
     "output_type": "stream",
     "text": [
      "apple\n",
      "banana\n",
      "carrot\n"
     ]
    }
   ],
   "source": [
    "L = ['apple', 'banana', 'carrot']\n",
    "\n",
    "for item in L:\n",
    "    print(item)"
   ]
  },
  {
   "cell_type": "markdown",
   "metadata": {},
   "source": [
    "### Enumerate\n",
    "\n",
    "If you need to know the index, you've probably seen code like this:\n",
    "\n",
    "```python\n",
    "for i in range(len(L)):\n",
    "    print(i, L[i])\n",
    "```\n",
    "\n",
    "But you should really use `enumerate` (a generator!):\n",
    "\n",
    "```python\n",
    "for i, item in enumerate(L):\n",
    "    print(i, item)\n",
    "```\n",
    "\n",
    "Isn't that cleaner?"
   ]
  },
  {
   "cell_type": "code",
   "execution_count": 10,
   "metadata": {
    "collapsed": false
   },
   "outputs": [
    {
     "name": "stdout",
     "output_type": "stream",
     "text": [
      "<enumerate object at 0x000002AF3231F048>\n",
      "[(0, 'apple'), (1, 'banana'), (2, 'carrot')]\n",
      "\n",
      "0 apple\n",
      "1 banana\n",
      "2 carrot\n",
      "\n",
      "0 apple\n",
      "1 banana\n",
      "2 carrot\n"
     ]
    }
   ],
   "source": [
    "L = ['apple', 'banana', 'carrot']\n",
    "\n",
    "print(enumerate(L)) # an enumerate generator\n",
    "print(list(enumerate(L))) # see what is actually inside\n",
    "\n",
    "print()\n",
    "\n",
    "for i in range(len(L)):\n",
    "    print(i, L[i])\n",
    "    \n",
    "print()\n",
    "\n",
    "for i, item in enumerate(L): # same result but code looks cleaner and more explicit\n",
    "    print(i, item)"
   ]
  },
  {
   "cell_type": "markdown",
   "metadata": {},
   "source": [
    "### Zip\n",
    "\n",
    "Let's say you have two lists and you want to loop over both of them at the same time. You could do this:\n",
    "\n",
    "```python\n",
    "first_names = ['Brian', 'Alessandro', 'Amy', 'Mike', 'Jared']\n",
    "last_names = ['Spiering', 'Gagliardi', 'Yuan', 'Bowles', 'Thompson']\n",
    "\n",
    "for i in range(len(first_names)):\n",
    "    print(first_names[i], last_names[i])\n",
    "```\n",
    "\n",
    "But python has a handy `zip` function to zip two lists together:\n",
    "Notice: in Python 2, zip returns a list of tuples. Python 3's zip returns a zip object, which is always a generator--memory efficiency to the MAX! Again, to get the list of tuples, iterate through the generator with the list() function."
   ]
  },
  {
   "cell_type": "code",
   "execution_count": 11,
   "metadata": {
    "collapsed": false
   },
   "outputs": [
    {
     "name": "stdout",
     "output_type": "stream",
     "text": [
      "Brian Spiering\n",
      "Alessandro Gagliardi\n",
      "Amy Yuan\n",
      "Mike Bowles\n",
      "Jared Thompson\n",
      "\n",
      "<zip object at 0x000002AF322E1988>\n",
      "[('Brian', 'Spiering'), ('Alessandro', 'Gagliardi'), ('Amy', 'Yuan'), ('Mike', 'Bowles'), ('Jared', 'Thompson')]\n"
     ]
    }
   ],
   "source": [
    "first_names = ['Brian', 'Alessandro', 'Amy', 'Mike', 'Jared']\n",
    "last_names = ['Spiering', 'Gagliardi', 'Yuan', 'Bowles', 'Thompson']\n",
    "\n",
    "for i in range(len(first_names)):\n",
    "    print(first_names[i], last_names[i])\n",
    "\n",
    "print()\n",
    "\n",
    "print(zip(first_names, last_names)) # zip generator\n",
    "print(list(zip(first_names, last_names))) # actual list of tuples"
   ]
  },
  {
   "cell_type": "code",
   "execution_count": 12,
   "metadata": {
    "collapsed": false
   },
   "outputs": [
    {
     "name": "stdout",
     "output_type": "stream",
     "text": [
      "<enumerate object at 0x000002AF322D0E58>\n",
      "[(0, ('Brian', 'Spiering')), (1, ('Alessandro', 'Gagliardi')), (2, ('Amy', 'Yuan')), (3, ('Mike', 'Bowles')), (4, ('Jared', 'Thompson'))]\n",
      "\n",
      "0 Brian Spiering\n",
      "1 Alessandro Gagliardi\n",
      "2 Amy Yuan\n",
      "3 Mike Bowles\n",
      "4 Jared Thompson\n"
     ]
    }
   ],
   "source": [
    "print(enumerate(zip(first_names, last_names))) # generator of generator!\n",
    "print(list(enumerate(zip(first_names, last_names)))) # take a piece of the insides\n",
    "\n",
    "print()\n",
    "# If you want like a combination of zip and enumerate:  \n",
    "for i, (first, last) in enumerate(zip(first_names, last_names)): # notice how I had to unpack first and last name\n",
    "    print(i, first, last)"
   ]
  },
  {
   "cell_type": "markdown",
   "metadata": {},
   "source": [
    "## List comprehensions\n",
    "\n",
    "For simple things, you can do your for loop on one line. Let's say you want to create a new list that has all the items from the first list doubled. You could do this:\n",
    "\n",
    "```python\n",
    "doubled = []\n",
    "for item in L:\n",
    "    doubled.append(item - 2)\n",
    "```\n",
    "\n",
    "But using a list comprehension, you can do this:\n",
    "\n",
    "```python\n",
    "doubled = [item - 2 for item in L]\n",
    "```\n",
    "\n",
    "The general format is: [do_something_here(x) for x in iterable_here].  \n",
    "The do_something_here() function can be as easy or complicated as you want."
   ]
  },
  {
   "cell_type": "code",
   "execution_count": 13,
   "metadata": {
    "collapsed": false
   },
   "outputs": [
    {
     "name": "stdout",
     "output_type": "stream",
     "text": [
      "10000 loops, best of 3: 59.9 µs per loop\n"
     ]
    }
   ],
   "source": [
    "%%timeit \n",
    "doubled = []\n",
    "for item in range(500):\n",
    "    doubled.append(2 * item)"
   ]
  },
  {
   "cell_type": "code",
   "execution_count": 14,
   "metadata": {
    "collapsed": false
   },
   "outputs": [
    {
     "name": "stdout",
     "output_type": "stream",
     "text": [
      "10000 loops, best of 3: 34 µs per loop\n"
     ]
    }
   ],
   "source": [
    "% timeit [2 * item for item in range(500)] # list comphrensions are also faster than appends"
   ]
  },
  {
   "cell_type": "code",
   "execution_count": 15,
   "metadata": {
    "collapsed": false
   },
   "outputs": [
    {
     "name": "stdout",
     "output_type": "stream",
     "text": [
      "[1, 2, 3, 4, 5, 6, 7, 8, 9, 10]\n",
      "[-15, -4, 37, 204, 665, 1660, 3501, 6572, 11329, 18300]\n"
     ]
    }
   ],
   "source": [
    "x_values = list(range(10))\n",
    "print([x + 1 for x in x_values]) # simple do_something() function\n",
    "\n",
    "def polynomial_function(x):\n",
    "    return 3 * x ** 4 - 2 * x ** 3 + 10 * x - 15\n",
    "\n",
    "print([polynomial_function(x) for x in x_values]) # complicated do_something() function we just made"
   ]
  },
  {
   "cell_type": "markdown",
   "metadata": {},
   "source": [
    "### 2D list comprehensions\n",
    "\n",
    "You can similarly do a double for loop. This is what it would look like the standard way:\n",
    "\n",
    "```python\n",
    "L = [[1, 2, 3], [4, 5, 6], [7, 8, 9]]\n",
    "doubled = []\n",
    "for row in L:\n",
    "    row2 = []\n",
    "    for item in row:\n",
    "        row2.append(item - 2)\n",
    "    doubled.append(row2)\n",
    "```\n",
    "\n",
    "And with a list comprehension:\n",
    "\n",
    "```python\n",
    "doubled = [[item - 2 for item in row] for row in L]\n",
    "```\n",
    "\n",
    "And if you wanted to flatten a 2-dimesionsional list:\n",
    "\n",
    "```python\n",
    "In [1]: L = [[1, 2, 3], [4, 5, 6], [7, 8, 9]]\n",
    "\n",
    "In [2]: [item for row in L for item in row]\n",
    "Out[2]: [1, 2, 3, 4, 5, 6, 7, 8, 9]\n",
    "```  \n",
    "\n",
    "Note the order of the loop statements."
   ]
  },
  {
   "cell_type": "markdown",
   "metadata": {},
   "source": [
    "### If statements in list comprehensions\n",
    "\n",
    "If statements have a weird syntax in a list comprehension:\n",
    "\n",
    "```python\n",
    "In [3]: L = [4, 6, 3, 2, 5]\n",
    "\n",
    "In [4]: [\"even\" if number % 2 == 0 else \"odd\" for number in L]\n",
    "Out[4]: ['even', 'even', 'odd', 'even', 'odd']\n",
    "```\n",
    "This list comprehension greatly simplifies and is more readable than a __for__ loop:\n",
    "```python\n",
    "# for loop\n",
    "results = []\n",
    "for number in L:\n",
    "    if number % 2 == 0:\n",
    "        results.append('even')\n",
    "    else:\n",
    "        results.append('odd')\n",
    "\n",
    "# list comprehension without cool new syntax with if statement inside. Uses user-defined do_something() function instead\n",
    "def even_or_odd(number):\n",
    "    if number % 2 == 0:\n",
    "        return 'even'\n",
    "    else:\n",
    "        return 'odd'\n",
    "[even_or_odd(number) for number in L]\n",
    "```\n",
    "Notice, for every element in L, you must have a 'matching' element in the resulting list comprehension. For example, if L is 10 numbers long, the list comphrension must return a list that is also 10 long (though the resulting elements can be anything: numbers, strings, booleans, even lists!)\n",
    "\n",
    "You can also use an \"__if__\" statement as a filter, to only include some of the items. Here we include only the even numbers:\n",
    "\n",
    "```python\n",
    "In [5]: L = [4, 6, 3, 2, 5]\n",
    "\n",
    "In [6]: [number for number in L if number % 2 == 0]\n",
    "Out[6]: [4, 6, 2]\n",
    "```\n",
    "Notice: The use of \"__if__\" here is to filter, not to particularly \"do\" anything. Here, the resulting list can be shorter than the original list that was iterated through. In this example, L is 5 long, but the output of the list comphrenesion is only 3 long."
   ]
  },
  {
   "cell_type": "markdown",
   "metadata": {},
   "source": [
    "### Generator comprehensions\n",
    "\n",
    "You can make it a generator instead of a list if you're just going to be looping over the result. You do this by using __round__ brackets instead of __square__ ones:\n",
    "\n",
    "```python\n",
    "L = ['Brian Spiering', 'Alessandro Gagliardi', 'Amy Yuan', 'Mike Bowles', 'Jared Thompson']\n",
    "for name in (item.split()[0] for item in L): # round brackets here\n",
    "    print(name)\n",
    "```\n",
    "\n",
    "Another example is if you're just going to put the result into another function that can use a generator:\n",
    "\n",
    "```python\n",
    "In [1]: L = L = ['Brian Spiering', 'Alessandro Gagliardi', 'Amy Yuan', 'Mike Bowles', 'Jared Thompson']\n",
    "\n",
    "In [2]: \"-\".join(item.split()[0] for item in L)\n",
    "Out[2]: 'Brian-Alessandro-Amy-Mike-Jared'\n",
    "```"
   ]
  },
  {
   "cell_type": "code",
   "execution_count": 16,
   "metadata": {
    "collapsed": false
   },
   "outputs": [
    {
     "data": {
      "text/plain": [
       "<generator object <genexpr> at 0x000002AF322CC308>"
      ]
     },
     "execution_count": 16,
     "metadata": {},
     "output_type": "execute_result"
    }
   ],
   "source": [
    "L = ['Brian Spiering', 'Alessandro Gagliardi', 'Amy Yuan', 'Mike Bowles', 'Jared Thompson']\n",
    "(item.split()[0] for item in L) # see, it really is a generator! memory efficiency To. The. Max"
   ]
  },
  {
   "cell_type": "markdown",
   "metadata": {
    "collapsed": true
   },
   "source": [
    "## Lambda Functions\n",
    "\n",
    "In Python, you can use `lambda` to define unnamed functions. This is really useful for being able to customize `sort` and use functions like `map`, `filter` and `reduce`. Lambda functions are really just very short functions. Lambda can always be written as an equivalent standard __def my_function(my_arguments):__ syntax.\n",
    "\n",
    "```python\n",
    "# Sort by first element of tuple\n",
    "L = [(2, 4), (5, 3), (6, 8), (4, 1)]\n",
    "L.sort(key=lambda x: x[0])\n",
    "```\n",
    "\n",
    "All things you can do with list comprehensions you can also do with `map`. It's more \"Pythonic\" to use list comprehensions, but understanding how to write maps is key for numpy and pandas, modules we will be using heavily.\n",
    "\n",
    "```python\n",
    "# Double every element of a list\n",
    "def double_list(L):\n",
    "    return map(lambda x: x - 2, L) \n",
    "```\n",
    "\n",
    "The __if__ statement syntax is very similar to list comprehension syntax. Here's the same example (double positive numbers but not negative numbers):\n",
    "\n",
    "```python\n",
    "map(lambda x: x - 2 if x > 0 else x, L) # notice that map must always return something. Map cannot print\n",
    "```\n",
    "\n",
    "You can also use `map` with already implemented functions, like `abs` (absolute value):\n",
    "\n",
    "```python\n",
    "L = [0, 5, -8, 9, -3, -2]\n",
    "M = list(map(abs, L))  # notice that I pass in abs, not abs(). I'm passing in the function as an object, not actually \"calling\" on the function with arguments\n",
    "```\n",
    "\n",
    "Many Pythonistas prefer list comprehensions over `map` and `filter` functions because list comprehensions can do `map`, `filter`, or both at the same time. It's often easier to read list comprehensions compared to map and filter. But then you say, aren't map and filter more memory efficient as they return generators? Yep, that's true. But you can also use generator comprehensions instead of list comprehensions by switching out the square brackets with the parentheses to regain that memory efficiency.  \n",
    "\n",
    "<br>  \n",
    "\n",
    "Python's `reduce` can be used to implement aggregation functions. Here's an implementation of `sum` (if sum wasn't already implemented in python).  \n",
    "Notice in Python 3, you have to import reduce from functools module.  \n",
    "\n",
    "```python\n",
    "from functools import reduce\n",
    "\n",
    "def sum(L):\n",
    "    total = 0\n",
    "    for x in L:\n",
    "        total += x # shorthand for total = total + x\n",
    "    return total\n",
    "```\n",
    "\n",
    "But we can do reduce the line count by using `reduce` function. Here `total` is the running total and `x` is the new element from the list.\n",
    "\n",
    "```python\n",
    "def sum(L):\n",
    "    return reduce(lambda total, x: total + x, L)\n",
    "```\n",
    "\n",
    "And here's a `len` function. Note that we gave an initial value of 0. The default initial value is the first element of the list, which works fine for `sum`, but not for `len`.\n",
    "\n",
    "```python\n",
    "def len(L):\n",
    "    return reduce(lambda total, x: total + 1, L, 0)\n",
    "```\n",
    "\n",
    "Some Pythonistas do not prefer reduce, as the code can become difficult to understand. Remember, code is read more often than it is written. Data scientist's time is worth more than computer time. Hence, it's preferred to write a __for__ loop instead of a reduce function even though a loop will take more lines."
   ]
  },
  {
   "cell_type": "markdown",
   "metadata": {},
   "source": [
    "## Sets and Dictionaries\n",
    "\n",
    "Python has some specialized datatypes that come in very handy!\n",
    "\n",
    "### Dictionaries\n",
    "\n",
    "Dictionaries are an implementation of hash tables (like Java's hashmaps if you're familiar with them). It's basically a way of matching key, value pairs. Here is an example:\n",
    "\n",
    "```python\n",
    "homestate = {\"giovanna\": \"maine\", \"ryan\": \"california\", \"katie\": \"michigan\", \"zack\": \"new york\"}\n",
    "```\n",
    "\n",
    "You can easily lookup a person's homestate like this:\n",
    "\n",
    "```python\n",
    "print(homestate['katie'])\n",
    "```\n",
    "\n",
    "Dictionaries are more powerful than they first appear. It's import to note that it's always really fast to access a dictionary. In a list, if you want to find an element without having the index, you have to search through the whole list. In a dictionary, you can access an element by key quickly!\n",
    "\n",
    "\n",
    "#### Looping over dictionaries\n",
    "\n",
    "Here are a couple ways of iterating through a dictionary:\n",
    "\n",
    "```python\n",
    "for k in d:\n",
    "    # iterations over the keys, so k will take on a different key for each iteration through the loop\n",
    "```\n",
    "\n",
    "DO NOT do `for k in d.keys()`. This is completely unneccessary. \n",
    "\n",
    "```python\n",
    "for k, v in d.items():\n",
    "    # iterates over key, value pairs\n",
    "```\n",
    "\n",
    "Here `d.items()` creates a `view` object, which is a view into the dictionary. A view is not a list, generator, nor set, but it has the best properties of each one. A view 'looks' like a list, so you can see inside it, but the `view` object does not have list methods like append. A view is like a generator in that it takes very little memory; however, you can iterate through a view multiple times, which you cannot do with a generator. A view is a like a set in that it finds membership very fast because a view retains hashing properties of the dictionary.\n",
    "\n",
    "\n",
    "#### Checking membership in a dictionary\n",
    "\n",
    "If you would like to check if a key is in a dictionary, just do this:\n",
    "\n",
    "```python\n",
    "if k in d:\n",
    "    # do something\n",
    "```\n",
    "\n",
    "DO NOT do `if k in d.keys():`. \n",
    "Notice: In Python 2, this would be horribly inefficient as d.keys() with return a list, which takes memory. Checking through a list is also slow since you might have to go through every element in the list to determine if element __k__ is a key in dictionary __d__. In Python 3, this line of code is pretty fast as `d.keys()` returns a `view` object instead of a list, but adding the `.keys()` is considered unPythonic.\n",
    "\n",
    "Quick note: a view is dynamic and will change if there is a change in the underlying dictionary. For example, if you create a view using `.keys()`, then it will be automatically updated if you delete or add a key to the original dictionary."
   ]
  },
  {
   "cell_type": "code",
   "execution_count": 17,
   "metadata": {
    "collapsed": false
   },
   "outputs": [
    {
     "name": "stdout",
     "output_type": "stream",
     "text": [
      "dict_items([('katie', 'michigan'), ('ryan', 'california'), ('giovanna', 'maine'), ('zack', 'new york')])\n",
      "48\n",
      "The slowest run took 19.87 times longer than the fastest. This could mean that an intermediate result is being cached.\n",
      "10000000 loops, best of 3: 85.9 ns per loop\n",
      "The slowest run took 4.29 times longer than the fastest. This could mean that an intermediate result is being cached.\n",
      "1000000 loops, best of 3: 696 ns per loop\n",
      "\n",
      "dict_items([('ryan', 'california'), ('giovanna', 'maine'), ('zack', 'new york')])\n"
     ]
    }
   ],
   "source": [
    "import sys\n",
    "\n",
    "homestate = {\"giovanna\": \"maine\", \"ryan\": \"california\", \"katie\": \"michigan\", \"zack\": \"new york\"}\n",
    "homestate_view = homestate.items()\n",
    "\n",
    "print(homestate_view) # like a list since you can see inside it; no append method though\n",
    "print(sys.getsizeof(homestate_view)) # like a generator with very small memory footprint\n",
    "%timeit ('zack', 'new york') in homestate_view # like a set since very fast to check membership\n",
    "%timeit ('zack', 'new york') in list(homestate.items()) # checking membership in a list is significantly slower\n",
    "print()\n",
    "\n",
    "homestate.pop('katie') # removed the key: katie and the value: michigan\n",
    "print(homestate_view) # automatically updates the view! Smart, huh?"
   ]
  },
  {
   "cell_type": "markdown",
   "metadata": {},
   "source": [
    "### Counter and defaultdict\n",
    "\n",
    "You are very often using dictionaries to count things or where the type is always the same. In the module `collections` there are a couple useful datatypes.\n",
    "\n",
    "`Counter` and `defaultdict` have default values for keys that haven't been seen before. For a `Counter`, the default value will be 0. For a `defaultdict`, the default value will be dependent on what you give it.\n",
    "\n",
    "With a standard dictionary, you can't access a new key:\n",
    "\n",
    "```python\n",
    "In [1]: d = {}\n",
    "\n",
    "In [2]: d['abc']\n",
    "---------------------------------------------------------------------------\n",
    "KeyError                                  Traceback (most recent call last)\n",
    "<ipython-input-6-e51fd128be60> in <module>()\n",
    "----> 1 d['abc']\n",
    "\n",
    "KeyError: 'abc'\n",
    "```\n",
    "\n",
    "But with a `Counter` or `defaultdict`, this would be no problem.\n",
    "\n",
    "```python\n",
    "In [1]: from collections import Counter, defaultdict\n",
    "\n",
    "In [2]: c = Counter()\n",
    "\n",
    "In [3]: c['abc']\n",
    "Out[3]: 0\n",
    "\n",
    "In [4]: d = defaultdict(str)\n",
    "\n",
    "In [5]: d['abc']\n",
    "Out[5]: ''\n",
    "```\n",
    "\n",
    "Note that `d` here has a default value of an empty string since we gave it the argument `str`. Besides how they deal with new keys, these two datatypes work the same as standard dictionaries.\n",
    "\n",
    "#### Examples\n",
    "\n",
    "Let's say you want to get a count of the number of occurrences of each character in a string. You could do this:\n",
    "\n",
    "```python\n",
    "letter_count = {}\n",
    "for char in word:\n",
    "    letter_count[char] = letter_count.get(char, 0) + 1 \n",
    "    # inside the .get() method, you want the value of \"char\" key, if \"char\" doesn't exist, then return 0\n",
    "    # .get() method is safer than letter_count[char] because .get() will ALWAYS return something where letter_count[char] may give you the KeyError you see above\n",
    "```\n",
    "\n",
    "If you use `Counter`, you can just do this:\n",
    "```python\n",
    "from collections import Counter\n",
    "letter_count = Counter(word)\n",
    "```\n",
    "\n",
    "Let's say you have a list. You want to know all the indicies that each value appears on. With a stardard dictionary, you could do this:\n",
    "\n",
    "```python\n",
    "lst = ['a', 'b', 'a', 'c', 'd', 'c', 'a']\n",
    "d = {}\n",
    "for i, item in enumerate(lst):\n",
    "    if item in d:\n",
    "        d[item].append(i)\n",
    "    else:\n",
    "        d[item] = [i]\n",
    "# result: {'a': [0, 2, 6], 'b': [1], 'c': [3, 5], 'd': [4]}\n",
    "```\n",
    "\n",
    "A `defaultdict` lets you choose a default type for the values so you don't have to do a special case when it's not already in your dictionary. The following code does the same as above.\n",
    "\n",
    "```python\n",
    "from collections import defaultdict\n",
    "d = defaultdict(list)\n",
    "for i, item in enumerate(lst):\n",
    "    d[item].append(i)\n",
    "```\n"
   ]
  },
  {
   "cell_type": "code",
   "execution_count": 18,
   "metadata": {
    "collapsed": false
   },
   "outputs": [
    {
     "name": "stdout",
     "output_type": "stream",
     "text": [
      "Count of all my letters:  Counter({' ': 11, 'i': 5, 'e': 5, 'o': 5, 't': 4, 'n': 4, 'g': 3, 'b': 2, '!': 2, 's': 2, 'I': 2, \"'\": 2, 'G': 2, 'a': 2, 'c': 1, 'E': 1, 'l': 1, 'A': 1, 'T': 1, 'R': 1, 'v': 1, 'j': 1, 'x': 1, 'z': 1, 'm': 1, 'd': 1})\n",
      "\n",
      "Count of all my letters:  defaultdict(<class 'int'>, {'t': 4, 'c': 1, 'b': 2, 'i': 5, '!': 2, 'E': 1, 'l': 1, 's': 2, 'n': 4, 'I': 2, 'e': 5, 'A': 1, 'T': 1, 'R': 1, 'v': 1, 'j': 1, \"'\": 2, 'g': 3, 'G': 2, ' ': 11, 'a': 2, 'o': 5, 'x': 1, 'z': 1, 'm': 1, 'd': 1})\n",
      "\n",
      "Are the resulting dictionaries the same?  True\n"
     ]
    }
   ],
   "source": [
    "from collections import Counter, defaultdict\n",
    "# since Counter and defaultdict are really super-cool dictionaries, you get all the dictionary methods\n",
    "\n",
    "galvanize_is_awesome = \"I'm so excited to be joining Galvanize! It's going to be GREAT!\"\n",
    "\n",
    "letter_count = Counter(galvanize_is_awesome) # notice I use double quotes since a single quote is used as an apostrophe inside the string\n",
    "print('Count of all my letters: ', letter_count)\n",
    "print()\n",
    "\n",
    "letter_count_2 = defaultdict(int)\n",
    "for letter in galvanize_is_awesome:\n",
    "    letter_count_2[letter] += 1\n",
    "print('Count of all my letters: ', letter_count_2)\n",
    "\n",
    "print()\n",
    "\n",
    "print('Are the resulting dictionaries the same? ', letter_count == letter_count_2)"
   ]
  },
  {
   "cell_type": "markdown",
   "metadata": {},
   "source": [
    "### Sets\n",
    "\n",
    "Sets are basically value-less dictionaries. If you have a list that you're going to be regularly checking membership of, you should be using a set.\n",
    "\n",
    "Here's an example to get all the unique words in a string that are longer than 3 characters:\n",
    "\n",
    "```python\n",
    "s = set()\n",
    "for word in string.split():\n",
    "    if len(word) > 3:\n",
    "        s.add(word)\n",
    "```\n",
    "\n",
    "You can check membership in a set:\n",
    "\n",
    "```python\n",
    "if 'house' in s:\n",
    "    # do something\n",
    "```\n",
    "\n",
    "Adding to and checking membership in a set are fast operations (just like in a dictionary).\n",
    "\n",
    "Sets are also useful for removing duplicates in a list (if you don't care about order):\n",
    "\n",
    "```python\n",
    "L_unique = list(set(L))\n",
    "```\n",
    "\n",
    "### Order of dictionaries and sets\n",
    "Dictionaries and sets are --unordered--. This means that if you iterate through them multiple times you will not necessarily get the items in the same order (though computers are deterministic so it will often be the same order, but it is in no way a guarantee). Usually this doesn't matter. There is an `OrderedDict` datatype in the `collections` module if it is ever important to maintain the order in your dictionary.\n"
   ]
  },
  {
   "cell_type": "code",
   "execution_count": 19,
   "metadata": {
    "collapsed": false
   },
   "outputs": [
    {
     "name": "stdout",
     "output_type": "stream",
     "text": [
      "<class 'dict'>\n",
      "<class 'set'>\n",
      "<class 'dict'>\n",
      "<class 'set'>\n"
     ]
    }
   ],
   "source": [
    "print(type( {} )) # Python things it is a dictionary\n",
    "print(type( {'hi!'} )) # how about now? only has a key\n",
    "print(type(dict())) # more explicit now but dict() and {} are fine either way\n",
    "print(type(set()))"
   ]
  },
  {
   "cell_type": "code",
   "execution_count": 20,
   "metadata": {
    "collapsed": false
   },
   "outputs": [
    {
     "name": "stdout",
     "output_type": "stream",
     "text": [
      "{0: 1, 1: 1, 2: 1, 3: 1, 4: 1, 5: 1, 6: 1, 7: 1, 8: 1, 9: 1}\n",
      "{(0, 1), (9, 1), (7, 1), (8, 1), (6, 1), (3, 1), (2, 1), (5, 1), (4, 1), (1, 1)}\n"
     ]
    }
   ],
   "source": [
    "# dict() is usually more for dictionary comprehension, which cannot be done with {} notation\n",
    "\n",
    "print(dict((i, 1) for i in range(10))) # true dictionary comprehension\n",
    "print({(i, 1) for i in range(10)}) # not a dictionary! \n",
    "# It's a set of tuples. What we did was a set ...wait for it... comprehension! Notice a set has no order"
   ]
  },
  {
   "cell_type": "markdown",
   "metadata": {},
   "source": [
    "## Mutable vs Immutable\n",
    "\n",
    "Python datatypes can be mutable or immutable.\n",
    "\n",
    "Mutable datatypes can be modified after they are created. Examples of --mutable-- datatypes are:\n",
    "- lists\n",
    "- sets\n",
    "- dictionaries\n",
    "\n",
    "Immutable datatypes cannot be modified once they are created. Examples of --immutable-- datatypes are:\n",
    "- ints\n",
    "- floats\n",
    "- strings\n",
    "- tuples (like immutable lists)\n",
    "\n",
    "For example, you can do this with a list:\n",
    "\n",
    "```python\n",
    "In [1]: L = [1, 2, 3, 4, 5, 6]\n",
    "\n",
    "In [2]: L[3] = 100\n",
    "\n",
    "In [3]: L\n",
    "Out[3]: [1, 2, 3, 100, 5, 6]\n",
    "```\n",
    "\n",
    "However, if you try to do the same thing with an immutable type like a string or a tuple, you will get an error:\n",
    "\n",
    "```python\n",
    "In [4]: str = \"blah\"\n",
    "\n",
    "In [5]: str[3] = 'z'\n",
    "---------------------------------------------------------------------------\n",
    "TypeError                                 Traceback (most recent call last)\n",
    "<ipython-input-9-6f44c398cf3c> in <module>()\n",
    "----> 1 str[3] = 'z'\n",
    "\n",
    "TypeError: 'str' object does not support item assignment\n",
    "\n",
    "In [6]: t = (1, 2, 3, 4, 5, 6)  # a tuple\n",
    "\n",
    "In [7]: t[3] = 100\n",
    "---------------------------------------------------------------------------\n",
    "TypeError                                 Traceback (most recent call last)\n",
    "<ipython-input-11-9132167f4634> in <module>()\n",
    "----> 1 t[3] = 100\n",
    "\n",
    "TypeError: 'tuple' object does not support item assignment\n",
    "```\n",
    "\n",
    "It's generally good form to use a tuple instead of a list if you won't be modifying it. If you're not going to use the full functionality of the list, a tuple will suffice."
   ]
  },
  {
   "cell_type": "code",
   "execution_count": 21,
   "metadata": {
    "collapsed": false
   },
   "outputs": [
    {
     "ename": "TypeError",
     "evalue": "'str' object does not support item assignment",
     "output_type": "error",
     "traceback": [
      "\u001b[1;31m---------------------------------------------------------------------------\u001b[0m",
      "\u001b[1;31mTypeError\u001b[0m                                 Traceback (most recent call last)",
      "\u001b[1;32m<ipython-input-21-71e09c8e5043>\u001b[0m in \u001b[0;36m<module>\u001b[1;34m()\u001b[0m\n\u001b[0;32m      1\u001b[0m \u001b[0mmy_string\u001b[0m \u001b[1;33m=\u001b[0m \u001b[1;34m\"look! I'm immutable\"\u001b[0m \u001b[1;31m# you can't change me!\u001b[0m\u001b[1;33m\u001b[0m\u001b[0m\n\u001b[1;32m----> 2\u001b[1;33m \u001b[0mmy_string\u001b[0m\u001b[1;33m[\u001b[0m\u001b[1;36m2\u001b[0m\u001b[1;33m]\u001b[0m \u001b[1;33m=\u001b[0m \u001b[1;34m\"sorry, won't work\"\u001b[0m\u001b[1;33m\u001b[0m\u001b[0m\n\u001b[0m",
      "\u001b[1;31mTypeError\u001b[0m: 'str' object does not support item assignment"
     ]
    }
   ],
   "source": [
    "my_string = \"look! I'm immutable\" # you can't change me!\n",
    "my_string[2] = \"sorry, won't work\""
   ]
  },
  {
   "cell_type": "code",
   "execution_count": 22,
   "metadata": {
    "collapsed": false
   },
   "outputs": [
    {
     "name": "stdout",
     "output_type": "stream",
     "text": [
      "['l', 'o', 'o', 'k', '!', ' ', 'I', \"'\", 'm', ' ', 'm', 'u', 't', 'a', 'b', 'l', 'e']\n",
      "['l', 'o', 'CHANGED', 'k', '!', ' ', 'I', \"'\", 'm', ' ', 'm', 'u', 't', 'a', 'b', 'l', 'e']\n"
     ]
    }
   ],
   "source": [
    "my_list = list(\"look! I'm mutable\") # what do you think applying the list function on a string will do?\n",
    "print(my_list)\n",
    "my_list[2] = \"CHANGED\" # you can change me like you change clothes!\n",
    "print(my_list)"
   ]
  },
  {
   "cell_type": "markdown",
   "metadata": {},
   "source": [
    "### Mutability and dictionary keys\n",
    "\n",
    "A big use case of immutable types is with dictionaries. At some point you will probably encounter this error:\n",
    "\n",
    "```python\n",
    "TypeError: unhashable type: 'list'\n",
    "```\n",
    "\n",
    "This comes up if you're trying to make the key of a dictionary a mutable type. If you want to have a list as a key, you'll need to transform it to a tuple or another immutable type.\n",
    "\n",
    "The same goes for items in a set."
   ]
  },
  {
   "cell_type": "code",
   "execution_count": 23,
   "metadata": {
    "collapsed": false
   },
   "outputs": [
    {
     "name": "stdout",
     "output_type": "stream",
     "text": [
      "{'key': 'value'}\n",
      "{'key': ['ok', 'to', 'have', 'a', 'mutable', 'in', 'the', 'value']}\n"
     ]
    },
    {
     "ename": "TypeError",
     "evalue": "unhashable type: 'list'",
     "output_type": "error",
     "traceback": [
      "\u001b[1;31m---------------------------------------------------------------------------\u001b[0m",
      "\u001b[1;31mTypeError\u001b[0m                                 Traceback (most recent call last)",
      "\u001b[1;32m<ipython-input-23-02ce2bfac8be>\u001b[0m in \u001b[0;36m<module>\u001b[1;34m()\u001b[0m\n\u001b[0;32m      2\u001b[0m \u001b[0mprint\u001b[0m\u001b[1;33m(\u001b[0m\u001b[1;33m{\u001b[0m\u001b[1;34m'key'\u001b[0m\u001b[1;33m:\u001b[0m \u001b[1;33m[\u001b[0m\u001b[1;34m'ok'\u001b[0m\u001b[1;33m,\u001b[0m \u001b[1;34m'to'\u001b[0m\u001b[1;33m,\u001b[0m \u001b[1;34m'have'\u001b[0m\u001b[1;33m,\u001b[0m \u001b[1;34m'a'\u001b[0m\u001b[1;33m,\u001b[0m \u001b[1;34m'mutable'\u001b[0m\u001b[1;33m,\u001b[0m \u001b[1;34m'in'\u001b[0m\u001b[1;33m,\u001b[0m \u001b[1;34m'the'\u001b[0m\u001b[1;33m,\u001b[0m \u001b[1;34m'value'\u001b[0m\u001b[1;33m]\u001b[0m\u001b[1;33m}\u001b[0m\u001b[1;33m)\u001b[0m \u001b[1;31m# also fine\u001b[0m\u001b[1;33m\u001b[0m\u001b[0m\n\u001b[0;32m      3\u001b[0m \u001b[1;33m\u001b[0m\u001b[0m\n\u001b[1;32m----> 4\u001b[1;33m \u001b[0mprint\u001b[0m\u001b[1;33m(\u001b[0m\u001b[1;33m{\u001b[0m \u001b[1;33m[\u001b[0m\u001b[1;34m'list of a key'\u001b[0m\u001b[1;33m]\u001b[0m \u001b[1;33m:\u001b[0m \u001b[1;34m'value'\u001b[0m\u001b[1;33m}\u001b[0m\u001b[1;33m)\u001b[0m \u001b[1;31m# illegitimate dictionary because a list is not hashable, hence cannot be a key\u001b[0m\u001b[1;33m\u001b[0m\u001b[0m\n\u001b[0m",
      "\u001b[1;31mTypeError\u001b[0m: unhashable type: 'list'"
     ]
    }
   ],
   "source": [
    "print({'key': 'value'}) # legitimate dictionary\n",
    "print({'key': ['ok', 'to', 'have', 'a', 'mutable', 'in', 'the', 'value']}) # also fine\n",
    "\n",
    "print({ ['list of a key'] : 'value'}) # illegitimate dictionary because a list is not hashable, hence cannot be a key"
   ]
  },
  {
   "cell_type": "markdown",
   "metadata": {},
   "source": [
    "### Pass by Value or Pass by Reference? Neither!\n",
    "\n",
    "In other programming languages, there are the concepts of a pass by value and pass by reference?\n",
    "\n",
    "Pass by value: A function receives a COPY of the argument variable passed to it by the caller, stored in a new location in memory. Hence, when you modify the variable INSIDE the function, nothing happens to the variable outside the function. The variable inside the function is NOT the variable outside the function, only a copy.  \n",
    "\n",
    "Pass by Refernce: the variable is passed DIRECTLY into the function, and its contents (the object represented by the variable) implicitly come with it. Inside the function context, the argument is essentially a complete alias for the variable passed in by the caller. They are both the exact same box, and therefore also refer to the exact same object in memory.  \n",
    "In simplier words, when you change the variable INSIDE the function, the change also happens to the variable OUTSIDE the function. Why? Because the variable inside the function IS the function outside the function.  \n",
    "\n",
    "Now, we got that out of the way, what is Python? It's a trick question since it is neither. Or both!  \n",
    "In short, in Python when you pass a immutable type (something you CANNOT change), then you can think of it as pass by value--the variable will not be changed. When you pass a mutable type (something you CAN change), then you can think of it as pass by reference--the variable will be changed.  \n",
    "\n",
    "Then, you ask how you pass in a mutable type but not have it truly changed outside the function? You cheat: you copy the object using .copy() method."
   ]
  },
  {
   "cell_type": "code",
   "execution_count": 24,
   "metadata": {
    "collapsed": false
   },
   "outputs": [
    {
     "name": "stdout",
     "output_type": "stream",
     "text": [
      "I want to join Galvanize RIGHT NOW\n",
      "I want to join Galvanize\n"
     ]
    }
   ],
   "source": [
    "# Immutable\n",
    "my_string = 'I want to join Galvanize'\n",
    "\n",
    "\n",
    "def string_cannot_be_modified(some_string):\n",
    "    some_string = some_string + ' RIGHT NOW'\n",
    "    print(some_string)\n",
    "\n",
    "string_cannot_be_modified(my_string) \n",
    "# some_string is only a copy of my_string that is being reassigned new text\n",
    "\n",
    "print(my_string) # left unchanged outside of the function"
   ]
  },
  {
   "cell_type": "code",
   "execution_count": 25,
   "metadata": {
    "collapsed": false
   },
   "outputs": [
    {
     "name": "stdout",
     "output_type": "stream",
     "text": [
      "{'MODIFIED!', 'prepare to be ...'}\n",
      "{'MODIFIED!', 'prepare to be ...'}\n"
     ]
    }
   ],
   "source": [
    "# Mutable\n",
    "my_set = {\"prepare to be ...\"}\n",
    "\n",
    "def set_can_be_modified(some_set):\n",
    "    some_set.add('MODIFIED!')\n",
    "    print(some_set)\n",
    "\n",
    "set_can_be_modified(my_set) # mutable object MUTATED. Is it a mutant?\n",
    "print(my_set) # permanently changed forever!\n",
    "# sets have no order. I hope you see what I intended"
   ]
  },
  {
   "cell_type": "code",
   "execution_count": 26,
   "metadata": {
    "collapsed": false
   },
   "outputs": [
    {
     "name": "stdout",
     "output_type": "stream",
     "text": [
      "{'MODIFIED!', 'prepare to be ...'}\n",
      "{'prepare to be ...'}\n"
     ]
    }
   ],
   "source": [
    "# Mutable, but don't want to mutate it\n",
    "my_set = {\"prepare to be ...\"}\n",
    "\n",
    "def set_can_be_modified(some_set):\n",
    "    some_set.add('MODIFIED!')\n",
    "    print(some_set)\n",
    "\n",
    "set_can_be_modified(my_set.copy()) # only pass in a copy  \n",
    "print(my_set) # now unchanged"
   ]
  },
  {
   "cell_type": "markdown",
   "metadata": {},
   "source": [
    "## Permutations and Combinations\n",
    "\n",
    "The `itertools` module functions for getting all the combinations and permutations of an interable. Both of these functions are generators.\n",
    "\n",
    "```python\n",
    "In [1]: from itertools import permutations, combinations\n",
    "\n",
    "In [2]: L = [1, 2, 3]\n",
    "\n",
    "In [3]: for perm in permutations(L): # guess what permutations(L) is? a generator!\n",
    "   ...:     print(perm)\n",
    "   ...:\n",
    "(1, 2, 3)\n",
    "(1, 3, 2)\n",
    "(2, 1, 3)\n",
    "(2, 3, 1)\n",
    "(3, 1, 2)\n",
    "(3, 2, 1)\n",
    "\n",
    "In [4]: for comb in combinations(L, 2):\n",
    "   ...:     print(comb)\n",
    "   ...:\n",
    "(1, 2)\n",
    "(1, 3)\n",
    "(2, 3)\n",
    "```"
   ]
  },
  {
   "cell_type": "markdown",
   "metadata": {},
   "source": [
    "## File I/O\n",
    "\n",
    "Reading from and writing to files in python is pretty simple.\n",
    "\n",
    "### File Input\n",
    "\n",
    "There are several ways to read from a file.\n",
    "\n",
    "The preferred way of reading a file is by looping over the lines:\n",
    "\n",
    "```python\n",
    "f = open(\"myfile.txt\")\n",
    "for line in f:\n",
    "    # do something\n",
    "f.close()\n",
    "```\n",
    "\n",
    "Don't forget to close the file at the end!\n",
    "\n",
    "You can also use the `readline` method to get a single line:\n",
    "\n",
    "```python\n",
    "f = open(\"myfile.txt\")\n",
    "line = True\n",
    "while line:\n",
    "    line = f.readline()\n",
    "    # do something\n",
    "f.close()\n",
    "```\n",
    "\n",
    "There are also two functions for reading the whole file at once: `read` (returns the whole file as a string) and `readlines` (returns the file as a list of strings). It is generally bad form to use these. They load the whole file into memory, which will be really costly with a large file.\n",
    "\n",
    "If you forget to close the file, you can also use this syntax. It will automatically close the file:\n",
    "\n",
    "```python\n",
    "with open(\"myfile.txt\") as f:\n",
    "    # do stuff with the file\n",
    "```\n",
    "\n",
    "Sometimes this is nice, but if you have a lot of nested indentations it can make your code hard to read.\n",
    "\n",
    "The file object `f` is like a generator since its very light on the memory. Also, once you go through the file object, then you cannot go over it again. You have to create another file object to read from the beginning."
   ]
  },
  {
   "cell_type": "code",
   "execution_count": 27,
   "metadata": {
    "collapsed": false
   },
   "outputs": [
    {
     "name": "stdout",
     "output_type": "stream",
     "text": [
      "Counter({'the': 19, 'in': 11, 'Python': 9, 'to': 7, 'is': 5, 'and': 5, 'will': 5, 'Practice': 4, 'functions': 4, 'be': 4, 'for': 4, '----': 4, 'of': 3, 'with': 3, 'computational': 3, 'Programming': 3, 'you': 3, 'a': 3, '####': 3, 'Fill': 3, 'use': 2, 'we': 2, 'instructions': 2, 'on': 2, '---': 2, 'programming': 2, 'right': 2, 'all': 2, 'manipulating': 2, 'into': 2, 'then': 2, 'thinking.': 2, 'We': 2, 'problem': 2, 'course': 2, 'are': 2, 'being': 1, 'an': 1, '2:': 1, 'data': 1, '[We': 1, 'therefore': 1, '[Anaconda](https://store.continuum.io/cshop/anaconda/)': 1, 'most': 1, '__Read': 1, 'In': 1, '__not__': 1, 'operations': 1, '#####': 1, 'helpful': 1, 'appropriate': 1, 'those': 1, '====': 1, '3.': 1, '4.': 1, 'devising': 1, 'provided': 1, 'It': 1, 'items': 1, 'working': 1, '2.': 1, 'engineers.': 1, 'text': 1, 'sure': 1, 'fun': 1, 'Python.': 1, 'Assignment': 1, 'make': 1, 'computer,': 1, '[Jupyter': 1, 'first': 1, 'but': 1, 'easier': 1, 'Galvanize': 1, 'setup.': 1, 'You': 1, '![Python': 1, 'you!)': 1, 'what': 1, 'numbers': 1, \"we'll\": 1, 'official': 1, 'structures': 1, 'Resources': 1, 'necessary': 1, '[1_number_fundamentals.ipynb](1_number_fundamentals.ipynb).': 1, 'below,': 1, 'help': 1, '[2_text_fundamentals.ipynb](2_text_fundamentals.ipynb).': 1, 'automated': 1, 'more': 1, 'solve': 1, 'Then': 1, 'coming': 1, 'Fizz': 1, 'resources': 1, 'Installing': 1, 'The': 1, 'built-in': 1, 'homework.': 1, '(that': 1, 'should': 1, 'teach': 1, 'thinking': 1, 'manifestation': 1, 'model.': 1, 'level': 1, 'are,': 1, 'directly': 1, 'with.': 1, 'model': 1, 'particular': 1, 'python': 1, 'simple': 1, 'functions.': 1, 'at': 1, 'function': 1, 'common': 1, '3.5': 1, 'comfortable': 1, 'installation': 1, 'your': 1, 'that': 1, 'problem,': 1, 'Practicing': 1, '`fizzbuzz`': 1, 'Buzz': 1, 'install': 1, 'However,': 1, 'abstraction:': 1, 'within': 1, 'encourages': 1, 'system.': 1, 'run': 1, 'continue': 1, '(not': 1, '[3_operations.ipynb](3_operations.ipynb).': 1, 'now': 1, 'techniques': 1, '[4_fizzbuzz.ipynb](4_fizzbuzz.ipynb).': 1, 'Follow': 1, 'getting': 1, 'science': 1, 'you.](python_resources.ipynb)': 1, 'one': 1, 'just': 1, 'perfect,': 1, 'be.': 1, 'developing': 1, 'python.': 1, 'software': 1, '1.': 1, 'assignments.': 1, 'distribution': 1, 'creating': 1, 'turn': 1, 'projects': 1, 'makes': 1, 'abstraction.': 1, 'Implement': 1, 'representing': 1, 'basics': 1, 'expert': 1, 'Lesson': 1, 'that.': 1, 'FizzBuzz': 1, 'Jupyter': 1, 'infamous': 1, 'can': 1, 'familiar': 1, 'assignments': 1, 'have': 1, 'success](http://cdn.meme.am/instances/63208001.jpg)': 1, 'struggle': 1, 'it': 1, 'Notebook](http://jupyter.org/)': 1, 'going': 1, 'collected': 1, 'our': 1, 'fill': 1, 'below': 1, 'get': 1, 'some': 1, 'heavily': 1, 'not': 1, 'program': 1, 'programmers': 1, 'Notebooks.__': 1, '2.7)': 1, 'they': 1, 'Overview': 1})\n"
     ]
    }
   ],
   "source": [
    "from collections import Counter\n",
    "\n",
    "with open('README.md') as f:\n",
    "    word_counter = Counter()\n",
    "    for line in f:\n",
    "        word_counter.update(line.split()) # .update() is like a list append where you \"add\" to the dictionary where\n",
    "        # for the key, you add 1 to the value for each time you see the key appear (in this case, the key is a word)\n",
    "print(word_counter)"
   ]
  },
  {
   "cell_type": "markdown",
   "metadata": {},
   "source": [
    "### File Output\n",
    "\n",
    "To write to a file, you just need to add a \"w\" parameter when you open the file and then use the `write` method:\n",
    "\n",
    "```python\n",
    "f = open(\"out.txt\", 'w')\n",
    "f.write(\"Hello!\\n\")\n",
    "f.close()\n",
    "```\n",
    "\n",
    "Note that it won't automatically add new lines.\n",
    "\n",
    "Using the `'w'` parameter will overwrite the file. If you'd like to add to the end of the file instead, you can use the `'a'` parameter."
   ]
  },
  {
   "cell_type": "code",
   "execution_count": 28,
   "metadata": {
    "collapsed": false
   },
   "outputs": [],
   "source": [
    "f = open(\"out.txt\", 'w')\n",
    "f.write(\"Hello!\\nI see you!\")\n",
    "f.close()"
   ]
  },
  {
   "cell_type": "code",
   "execution_count": 29,
   "metadata": {
    "collapsed": false
   },
   "outputs": [
    {
     "name": "stdout",
     "output_type": "stream",
     "text": [
      "Hello!\n",
      "I see you!\n"
     ]
    }
   ],
   "source": [
    "!cat out.txt \n",
    "# ! means to escape out of Python to do a bash command\n",
    "# cat is the bash command to print whatever is in the file"
   ]
  },
  {
   "cell_type": "markdown",
   "metadata": {},
   "source": [
    "## Exception Handling\n",
    "\n",
    "You can catch exceptions in python with the following syntax:\n",
    "\n",
    "```python\n",
    "try:\n",
    "    f = open(filename)\n",
    "except IOError:\n",
    "    print(\"Couldn't open file %s\" % filename)\n",
    "```"
   ]
  },
  {
   "cell_type": "code",
   "execution_count": 30,
   "metadata": {
    "collapsed": false
   },
   "outputs": [
    {
     "name": "stdout",
     "output_type": "stream",
     "text": [
      "Couldn't open file blah.txt\n"
     ]
    }
   ],
   "source": [
    "filename = 'blah.txt'\n",
    "\n",
    "try:\n",
    "    f = open(filename)\n",
    "except IOError:\n",
    "    print(\"Couldn't open file %s\" % filename)"
   ]
  },
  {
   "cell_type": "markdown",
   "metadata": {},
   "source": [
    "![](https://cdn.meme.am/instances/400x/59943535.jpg)\n"
   ]
  },
  {
   "cell_type": "markdown",
   "metadata": {},
   "source": [
    "<br>\n",
    "<br> \n",
    "<br>\n",
    "\n",
    "----"
   ]
  }
 ],
 "metadata": {
  "anaconda-cloud": {},
  "kernelspec": {
   "display_name": "Python [Root]",
   "language": "python",
   "name": "Python [Root]"
  },
  "language_info": {
   "codemirror_mode": {
    "name": "ipython",
    "version": 3
   },
   "file_extension": ".py",
   "mimetype": "text/x-python",
   "name": "python",
   "nbconvert_exporter": "python",
   "pygments_lexer": "ipython3",
   "version": "3.5.2"
  }
 },
 "nbformat": 4,
 "nbformat_minor": 0
}
