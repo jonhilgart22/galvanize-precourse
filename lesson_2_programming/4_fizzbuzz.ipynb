{
 "cells": [
  {
   "cell_type": "code",
   "execution_count": null,
   "metadata": {
    "collapsed": true
   },
   "outputs": [],
   "source": [
    "def fizzbuzz(num, fizz, buzz):\n",
    "    '''\n",
    "    INPUT: int, int, int\n",
    "    OUTPUT: string\n",
    "\n",
    "    Return \"Fizz\" if num is divisible by fizz,\n",
    "           \"Buzz\" if num is divisible by buzz,\n",
    "           \"FizzBuzz\" if num is dibisible by both fizz and buzz, and\n",
    "           \"\" otherwise\n",
    "           \n",
    "    Example:\n",
    "    >>>fizzbuzz(3, 3, 5)\n",
    "    Fizz\n",
    "    \n",
    "    >>>fizzbuzz(5, 3, 5)\n",
    "    Buzz\n",
    "    \n",
    "    >>>fizzbuzz(15, 3, 5)\n",
    "    FizzBuzz\n",
    "    \n",
    "    >>>fizzbuzz(1, 3, 5)\n",
    "    \n",
    "    '''\n",
    "    pass"
   ]
  },
  {
   "cell_type": "code",
   "execution_count": null,
   "metadata": {
    "collapsed": true
   },
   "outputs": [],
   "source": []
  }
 ],
 "metadata": {
  "kernelspec": {
   "display_name": "Python 3",
   "language": "python",
   "name": "python3"
  },
  "language_info": {
   "codemirror_mode": {
    "name": "ipython",
    "version": 3
   },
   "file_extension": ".py",
   "mimetype": "text/x-python",
   "name": "python",
   "nbconvert_exporter": "python",
   "pygments_lexer": "ipython3",
   "version": "3.5.1"
  }
 },
 "nbformat": 4,
 "nbformat_minor": 0
}
