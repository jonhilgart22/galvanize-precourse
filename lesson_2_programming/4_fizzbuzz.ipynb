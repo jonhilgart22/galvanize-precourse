{
 "cells": [
  {
   "cell_type": "markdown",
   "metadata": {},
   "source": [
    "---\n",
    "Fizzbuzz the \"Hello, world!\" of coding interviews\n",
    "----\n",
    "\n",
    "Fizzbuzz is a write of passage into the world of \"Tech\" interviews.\n",
    "\n",
    "[Many programmers struggle](https://blog.codinghorror.com/why-cant-programmers-program/) with it. Let's see how hard it really is..."
   ]
  },
  {
   "cell_type": "code",
   "execution_count": 6,
   "metadata": {
    "collapsed": true
   },
   "outputs": [],
   "source": [
    "def fizzbuzz(numbers, fizz, buzz):\n",
    "    '''\n",
    "    INPUT: a list of integers\n",
    "    OUTPUT: a list of integers and strings\n",
    "\n",
    "    Return \"Fizz\" if num is divisible by fizz,\n",
    "           \"Buzz\" if num is divisible by buzz,\n",
    "           \"FizzBuzz\" if num is divisible by both fizz and buzz, and\n",
    "           the orginal number otherwise\n",
    "           \n",
    "    Example:\n",
    "    >>>fizzbuzz([1, 2, 3, 4, 5, 6, 7, 8, 9, 10], 2, 3)\n",
    "    [1, 'Fizz', 'Buzz', 'Fizz', 5, 'FizzBuzz', 7, 'Fizz', 'Buzz', 'Fizz']\n",
    "    '''\n",
    "    \n",
    "    final_list = []\n",
    "    for item in numbers:\n",
    "        if item % fizz ==0:\n",
    "            \n",
    "            if item % buzz ==0:\n",
    "                print ('FizzBuzz')\n",
    "                final_list.append('FizzBuzz')\n",
    "            else:\n",
    "                print ('Fizz')\n",
    "                final_list.append('Fizz')\n",
    "                \n",
    "        elif item % buzz ==0:\n",
    "            print ('Buzz')\n",
    "            final_list.append('Buzz')\n",
    "            \n",
    "        else:\n",
    "            print (item)\n",
    "            final_list.append(item)\n",
    "            \n",
    "            \n",
    "    return final_list"
   ]
  },
  {
   "cell_type": "code",
   "execution_count": 7,
   "metadata": {
    "collapsed": false
   },
   "outputs": [
    {
     "name": "stdout",
     "output_type": "stream",
     "text": [
      "1\n",
      "Fizz\n",
      "Buzz\n",
      "Fizz\n",
      "5\n",
      "FizzBuzz\n",
      "7\n",
      "Fizz\n",
      "Buzz\n",
      "Fizz\n"
     ]
    }
   ],
   "source": [
    "assert fizzbuzz([1, 2, 3, 4, 5, 6, 7, 8, 9, 10], 2, 3) == [1, 'Fizz', 'Buzz', 'Fizz', 5, 'FizzBuzz', 7, 'Fizz', 'Buzz', 'Fizz']"
   ]
  },
  {
   "cell_type": "markdown",
   "metadata": {},
   "source": [
    "<br>\n",
    "<br> \n",
    "<br>\n",
    "<br>\n",
    "<br> \n",
    "<br>\n",
    "<br>\n",
    "<br> \n",
    "<br>\n",
    "<br>\n",
    "<br>\n",
    "<br> \n",
    "<br>\n",
    "<br>\n",
    "<br> \n",
    "<br>\n",
    "<br>\n",
    "<br> \n",
    "<br>\n",
    "<br>\n",
    "<br>\n",
    "<br> \n",
    "<br>\n",
    "<br>\n",
    "<br> \n",
    "<br>\n",
    "<br>\n",
    "<br> \n",
    "<br>\n",
    "<br>\n",
    "<br>\n",
    "<br> \n",
    "<br>\n",
    "<br>\n",
    "<br> \n",
    "<br>\n",
    "<br>\n",
    "<br> \n",
    "<br>\n",
    "<br>\n",
    "<br> \n",
    "<br>\n",
    "<br>\n",
    "<br> \n",
    "<br>\n",
    "<br>\n",
    "<br> \n",
    "<br>\n",
    "<br>\n",
    "<br> \n",
    "<br>\n",
    "<br>\n",
    "<br> \n",
    "<br>\n",
    "<br>\n",
    "<br> \n",
    "<br>\n",
    "<br>\n",
    "<br> \n",
    "<br>\n"
   ]
  },
  {
   "cell_type": "markdown",
   "metadata": {},
   "source": [
    "![](../images/stay-awesome-possum.png)"
   ]
  },
  {
   "cell_type": "markdown",
   "metadata": {},
   "source": [
    "<br>\n",
    "<br> \n",
    "<br>\n",
    "\n",
    "----"
   ]
  }
 ],
 "metadata": {
  "kernelspec": {
   "display_name": "Python [Root]",
   "language": "python",
   "name": "Python [Root]"
  },
  "language_info": {
   "codemirror_mode": {
    "name": "ipython",
    "version": 3
   },
   "file_extension": ".py",
   "mimetype": "text/x-python",
   "name": "python",
   "nbconvert_exporter": "python",
   "pygments_lexer": "ipython3",
   "version": "3.5.2"
  }
 },
 "nbformat": 4,
 "nbformat_minor": 0
}
