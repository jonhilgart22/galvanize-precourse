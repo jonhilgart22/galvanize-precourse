{
 "cells": [
  {
   "cell_type": "code",
   "execution_count": null,
   "metadata": {
    "collapsed": true
   },
   "outputs": [],
   "source": [
    "def alternate(L):\n",
    "    '''\n",
    "    INPUT: list\n",
    "    OUTPUT: list\n",
    "    \n",
    "    Use list slicing to return a list containing all the odd indexed elements\n",
    "    followed by all the even indexed elements.\n",
    "    \n",
    "    Example:\n",
    "    >>> alternate(['a', 'b', 'c', 'd', 'e', 'f', 'g'])\n",
    "    ['b', 'd', 'f', 'a', 'c', 'e', 'g']\n",
    "    '''\n",
    "    pass"
   ]
  },
  {
   "cell_type": "code",
   "execution_count": null,
   "metadata": {
    "collapsed": true
   },
   "outputs": [],
   "source": []
  },
  {
   "cell_type": "code",
   "execution_count": null,
   "metadata": {
    "collapsed": true
   },
   "outputs": [],
   "source": []
  },
  {
   "cell_type": "code",
   "execution_count": null,
   "metadata": {
    "collapsed": true
   },
   "outputs": [],
   "source": [
    "def digits_to_num(digits):\n",
    "    '''\n",
    "    INPUT: list of integers\n",
    "    OUTPUT: integer\n",
    "    \n",
    "    Use reduce to take a list of digits and return the number that they\n",
    "    correspond to. Do not convert the integers to strings.\n",
    "    \n",
    "    Example:\n",
    "    >>> digits_to_num([9, 4, 1, 0, 5])\n",
    "    94105\n",
    "\n",
    "    Extra credit if you know what the digits represent!\n",
    "    '''\n",
    "    pass"
   ]
  },
  {
   "cell_type": "code",
   "execution_count": null,
   "metadata": {
    "collapsed": true
   },
   "outputs": [],
   "source": []
  },
  {
   "cell_type": "code",
   "execution_count": null,
   "metadata": {
    "collapsed": true
   },
   "outputs": [],
   "source": [
    "def intersection_of_sets(list_of_sets):\n",
    "    '''\n",
    "    INPUT: list of sets\n",
    "    OUTPUT: set\n",
    "    \n",
    "    Use reduce to take the intersection of a list of sets.\n",
    "    Hint: the & operator takes the intersection of two sets.\n",
    "    \n",
    "    Example:\n",
    "    >>> intersection_of_sets([{1, 2, 3}, {2, 3, 4}, {2, 5}])\n",
    "    set([2])\n",
    "    '''\n",
    "    pass"
   ]
  },
  {
   "cell_type": "code",
   "execution_count": null,
   "metadata": {
    "collapsed": true
   },
   "outputs": [],
   "source": []
  },
  {
   "cell_type": "code",
   "execution_count": null,
   "metadata": {
    "collapsed": true
   },
   "outputs": [],
   "source": [
    "def combinations(alphabet, n):\n",
    "    '''\n",
    "    INPUT: string, integer\n",
    "    OUTPUT: list of strings\n",
    "    \n",
    "    Use itertools.combinations to return all the combinations of letters in\n",
    "    alphabet with length at most n.\n",
    "    \n",
    "    Example:\n",
    "    >>> combinations('abc', 2)\n",
    "    ['a', 'b', 'c', 'ab', 'ac', 'bc']\n",
    "    '''\n",
    "    pass"
   ]
  }
 ],
 "metadata": {
  "kernelspec": {
   "display_name": "Python 3",
   "language": "python",
   "name": "python3"
  },
  "language_info": {
   "codemirror_mode": {
    "name": "ipython",
    "version": 3
   },
   "file_extension": ".py",
   "mimetype": "text/x-python",
   "name": "python",
   "nbconvert_exporter": "python",
   "pygments_lexer": "ipython3",
   "version": "3.5.1"
  }
 },
 "nbformat": 4,
 "nbformat_minor": 0
}
