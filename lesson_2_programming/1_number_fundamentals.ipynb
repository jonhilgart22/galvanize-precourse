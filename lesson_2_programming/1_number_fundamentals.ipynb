{
 "cells": [
  {
   "cell_type": "markdown",
   "metadata": {},
   "source": [
    "----\n",
    "Python Practice\n",
    "===\n",
    "\n",
    "The goal of this notebook is practice writing functions and using Python's built-in features.\n",
    "\n",
    "![](../images/batteries-included.jpg)\n",
    "\n",
    "Python is a \"batteries included\" programming language which means much of the useful basic functionality is built-in. \n",
    "\n",
    "You are going to explore Python functionality by finishing a series of functions."
   ]
  },
  {
   "cell_type": "markdown",
   "metadata": {},
   "source": [
    "Warmups\n",
    "---"
   ]
  },
  {
   "cell_type": "markdown",
   "metadata": {},
   "source": [
    "We are taking a Test Driven Development (TDD) approach. TDD means that there are tests for every function. Once the tests pass,  you are done programming because your functions work to the specification (aka, spec).\n",
    "\n",
    "TDD takes more time and effort, but TDD is worth it because it helps ensure code correctness and gives you objective benchmarks.\n",
    "\n",
    "Let's walk through an example of how to finish a function to make the tests pass.\n",
    "\n",
    "__NOTE__: \"pass\" is used twice. pass can be a verb used to describe a test, similar to passing a test in school. `pass` can also be a Python keyword. Learn more about [Python's pass](https://docs.python.org/3/tutorial/controlflow.html#pass-statements)"
   ]
  },
  {
   "cell_type": "code",
   "execution_count": 1,
   "metadata": {
    "collapsed": false
   },
   "outputs": [],
   "source": [
    "# Here is a straightforward function\n",
    "def add_two_numbers(n1, n2):\n",
    "    \"\"\" Add two the numbers\n",
    "    >>> add_two_numbers(1, 2)\n",
    "    3 \"\"\"\n",
    "    pass"
   ]
  },
  {
   "cell_type": "code",
   "execution_count": 2,
   "metadata": {
    "collapsed": false
   },
   "outputs": [
    {
     "ename": "AssertionError",
     "evalue": "",
     "output_type": "error",
     "traceback": [
      "\u001b[0;31m---------------------------------------------------------------------------\u001b[0m",
      "\u001b[0;31mAssertionError\u001b[0m                            Traceback (most recent call last)",
      "\u001b[0;32m<ipython-input-2-e5434f1c713a>\u001b[0m in \u001b[0;36m<module>\u001b[0;34m()\u001b[0m\n\u001b[1;32m      1\u001b[0m \u001b[0;31m# Here are a couple of tests for it\u001b[0m\u001b[0;34m\u001b[0m\u001b[0;34m\u001b[0m\u001b[0m\n\u001b[0;32m----> 2\u001b[0;31m \u001b[0;32massert\u001b[0m \u001b[0madd_two_numbers\u001b[0m\u001b[0;34m(\u001b[0m\u001b[0;36m1\u001b[0m\u001b[0;34m,\u001b[0m \u001b[0;36m2\u001b[0m\u001b[0;34m)\u001b[0m \u001b[0;34m==\u001b[0m \u001b[0;36m3\u001b[0m\u001b[0;34m\u001b[0m\u001b[0m\n\u001b[0m\u001b[1;32m      3\u001b[0m \u001b[0;32massert\u001b[0m \u001b[0madd_two_numbers\u001b[0m\u001b[0;34m(\u001b[0m\u001b[0;36m2\u001b[0m\u001b[0;34m,\u001b[0m \u001b[0;34m-\u001b[0m\u001b[0;36m2\u001b[0m\u001b[0;34m)\u001b[0m \u001b[0;34m==\u001b[0m \u001b[0;36m0\u001b[0m\u001b[0;34m\u001b[0m\u001b[0m\n",
      "\u001b[0;31mAssertionError\u001b[0m: "
     ]
    }
   ],
   "source": [
    "# Here are a couple of tests for it\n",
    "assert add_two_numbers(1, 2) == 3\n",
    "assert add_two_numbers(2, -2) == 0"
   ]
  },
  {
   "cell_type": "markdown",
   "metadata": {},
   "source": [
    "^^ `AssertionError: ` means these tests currently fail. Let's finish the function to make them pass."
   ]
  },
  {
   "cell_type": "code",
   "execution_count": 3,
   "metadata": {
    "collapsed": false
   },
   "outputs": [],
   "source": [
    "# Here is the completed function\n",
    "def add_two_numbers(n1, n2):\n",
    "    \"\"\" Add two the numbers\n",
    "    >>> add_two_numbers(1, 2)\n",
    "    3 \"\"\"\n",
    "    return n1+n2"
   ]
  },
  {
   "cell_type": "code",
   "execution_count": 5,
   "metadata": {
    "collapsed": true
   },
   "outputs": [],
   "source": [
    "# Here are the passing tets\n",
    "assert add_two_numbers(1, 2) == 3\n",
    "assert add_two_numbers(2, -2) == 0"
   ]
  },
  {
   "cell_type": "markdown",
   "metadata": {},
   "source": [
    "---\n",
    "Now your turn\n",
    "---\n",
    "\n",
    "Please finish these functions by replacing `pass` with Python code that makes function work according to the specification, thus allowing the tests to pass."
   ]
  },
  {
   "cell_type": "code",
   "execution_count": 20,
   "metadata": {
    "collapsed": false
   },
   "outputs": [],
   "source": [
    "def sort_row(row):\n",
    "    \"\"\"Given a row integers (vector), sort them in ascending in order.\n",
    "    >>> sort_row([2, 3, 1])\n",
    "    [1, 2, 3]\n",
    "    \"\"\" \n",
    "    print (sorted (row))\n",
    "    return sorted(row)"
   ]
  },
  {
   "cell_type": "markdown",
   "metadata": {},
   "source": [
    "<details><summary>\n",
    "Click here for a hint...\n",
    "</summary>\n",
    "Try [`sorted`](https://docs.python.org/3/howto/sorting.html)\n",
    "</details>"
   ]
  },
  {
   "cell_type": "code",
   "execution_count": 21,
   "metadata": {
    "collapsed": false
   },
   "outputs": [
    {
     "name": "stdout",
     "output_type": "stream",
     "text": [
      "[1, 2, 3]\n"
     ]
    }
   ],
   "source": [
    "assert sort_row([2, 3, 1]) == [1, 2, 3]"
   ]
  },
  {
   "cell_type": "code",
   "execution_count": 22,
   "metadata": {
    "collapsed": true
   },
   "outputs": [],
   "source": [
    "def sort_row_descending(row):\n",
    "    \"\"\"Given a row integers (vector), sort them in descending in order.\n",
    "    >>> sort_row([2, 3, 1])\n",
    "    [3, 2, 1]\n",
    "    \"\"\" \n",
    "    ascending_list = sorted(row, reverse = True)\n",
    "    print (ascending_list)\n",
    "    return ascending_list\n",
    "    "
   ]
  },
  {
   "cell_type": "markdown",
   "metadata": {},
   "source": [
    "<details><summary>\n",
    "Click here for a hint...\n",
    "</summary>\n",
    "Look at the help for sorted by typing `sorted?`  \n",
    "<br>\n",
    "```\n",
    "Signature: sorted(iterable, key=None, reverse=False)\n",
    "Docstring:\n",
    "Return a new list containing all items from the iterable in ascending order.\n",
    "\n",
    "A custom key function can be supplied to customise the sort order, and the\n",
    "reverse flag can be set to request the result in descending order.\n",
    "Type:      builtin_function_or_method\n",
    "```  \n",
    "<br>\n",
    "Use the `reverse` keyword\n",
    "</details>"
   ]
  },
  {
   "cell_type": "code",
   "execution_count": 23,
   "metadata": {
    "collapsed": false
   },
   "outputs": [
    {
     "name": "stdout",
     "output_type": "stream",
     "text": [
      "[3, 2, 1]\n"
     ]
    }
   ],
   "source": [
    "assert sort_row_descending([2, 3, 1]) == [3, 2, 1]"
   ]
  },
  {
   "cell_type": "code",
   "execution_count": 56,
   "metadata": {
    "collapsed": false
   },
   "outputs": [],
   "source": [
    "def sort_rows(mat):\n",
    "    '''\n",
    "    INPUT: 2 dimensional list of integers (matrix)\n",
    "    OUTPUT: 2 dimensional list of integers (matrix)\n",
    "\n",
    "    Use list comprehension to modify each row of the matrix to be sorted.\n",
    "\n",
    "    Example:\n",
    "    >>> M = [[4, 5, 2, 8], [3, 9, 6, 7]]\n",
    "    >>> sort_rows(M)\n",
    "    >>> M\n",
    "    [[2, 4, 5, 8], [3, 6, 7, 9]]\n",
    "    '''\n",
    "    \n",
    "\n",
    "    return [sorted(x) for x  in mat]\n",
    "    "
   ]
  },
  {
   "cell_type": "code",
   "execution_count": 57,
   "metadata": {
    "collapsed": false
   },
   "outputs": [],
   "source": [
    "assert sort_rows([[4, 5, 2, 8], [3, 9, 6, 7]]) == [[2, 4, 5, 8], [3, 6, 7, 9]]"
   ]
  },
  {
   "cell_type": "markdown",
   "metadata": {},
   "source": [
    "---\n",
    "Average\n",
    "---"
   ]
  },
  {
   "cell_type": "code",
   "execution_count": 40,
   "metadata": {
    "collapsed": true
   },
   "outputs": [],
   "source": [
    "import numpy as np\n",
    "\n",
    "def average_vector(vector):\n",
    "    \"\"\"Given a row integers (vector), average them.\n",
    "    >>> average_vector([4, 5, 2, 8])\n",
    "    4.75\n",
    "    \"\"\" \n",
    "    print(np.mean(vector))\n",
    "    return np.mean(vector)\n",
    "    \n",
    "    "
   ]
  },
  {
   "cell_type": "markdown",
   "metadata": {},
   "source": [
    "<details><summary>\n",
    "Click here for a hint...\n",
    "</summary>\n",
    "Check out [numpy.mean](http://docs.scipy.org/doc/numpy-1.10.0/reference/generated/numpy.mean.html)\n",
    "</details>"
   ]
  },
  {
   "cell_type": "code",
   "execution_count": 41,
   "metadata": {
    "collapsed": false
   },
   "outputs": [
    {
     "name": "stdout",
     "output_type": "stream",
     "text": [
      "4.75\n"
     ]
    }
   ],
   "source": [
    "assert average_vector([4, 5, 2, 8]) == 4.75"
   ]
  },
  {
   "cell_type": "code",
   "execution_count": 42,
   "metadata": {
    "collapsed": true
   },
   "outputs": [],
   "source": [
    "def average_rows(mat):\n",
    "    '''\n",
    "    INPUT: 2 dimensional list of integers (matrix)\n",
    "    OUTPUT: list of floats\n",
    "\n",
    "    Write a list comprehension to take the average of each row in the matrix and\n",
    "    return it as a list.\n",
    "\n",
    "    Example:\n",
    "    >>> average_rows([[4, 5, 2, 8], [3, 9, 6, 7]])\n",
    "    [4.75, 6.25]\n",
    "    '''\n",
    "    return [np.mean(x) for x in mat]"
   ]
  },
  {
   "cell_type": "code",
   "execution_count": 43,
   "metadata": {
    "collapsed": false
   },
   "outputs": [],
   "source": [
    "assert average_rows([[4, 5, 2, 8], [3, 9, 6, 7]]) == [4.75, 6.25]"
   ]
  },
  {
   "cell_type": "code",
   "execution_count": 180,
   "metadata": {
    "collapsed": false
   },
   "outputs": [],
   "source": [
    "def transpose(mat):\n",
    "    '''\n",
    "    INPUT: 2 dimensional list of integers\n",
    "    OUTPUT: 2 dimensional list of integers\n",
    "    \n",
    "    Return the transpose of the matrix. You can do this using a double for loop in a list comprehension.\n",
    "    There is also a solution using zip.\n",
    "\n",
    "    Example:\n",
    "    >>> transpose([[1, 2, 3],[4, 5, 6]])\n",
    "    [(1, 4), (2, 5), (3, 6)]\n",
    "    '''\n",
    "    \n",
    "    print([(mat[iterator][number], mat[iterator+1][number]) for iterator, item in enumerate(mat)\\\n",
    "          for number in range(len(item)) if iterator ==0])\n",
    "    \n",
    "    return ([(mat[iterator][number], mat[iterator+1][number]) for iterator, item in enumerate(mat)\\\n",
    "          for number in range(len(item)) if iterator ==0])\n",
    "    \n",
    "        "
   ]
  },
  {
   "cell_type": "code",
   "execution_count": 181,
   "metadata": {
    "collapsed": false
   },
   "outputs": [
    {
     "name": "stdout",
     "output_type": "stream",
     "text": [
      "[(1, 4), (2, 5), (3, 6)]\n"
     ]
    }
   ],
   "source": [
    "assert transpose([[1, 2, 3],[4, 5, 6]]) == [(1, 4), (2, 5), (3, 6)]"
   ]
  },
  {
   "cell_type": "markdown",
   "metadata": {
    "collapsed": true
   },
   "source": [
    "---\n",
    "CONGRATS!!!\n",
    "---\n",
    "You finished this section. You get a:  \n",
    "![winner](../images/awesomeness.jpg)"
   ]
  },
  {
   "cell_type": "markdown",
   "metadata": {
    "collapsed": true
   },
   "source": [
    "<br>\n",
    "<br>\n",
    "<br>\n",
    "\n",
    "---"
   ]
  }
 ],
 "metadata": {
  "anaconda-cloud": {},
  "kernelspec": {
   "display_name": "Python [Root]",
   "language": "python",
   "name": "Python [Root]"
  },
  "language_info": {
   "codemirror_mode": {
    "name": "ipython",
    "version": 3
   },
   "file_extension": ".py",
   "mimetype": "text/x-python",
   "name": "python",
   "nbconvert_exporter": "python",
   "pygments_lexer": "ipython3",
   "version": "3.5.2"
  }
 },
 "nbformat": 4,
 "nbformat_minor": 0
}
