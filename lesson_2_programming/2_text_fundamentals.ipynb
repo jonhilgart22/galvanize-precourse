{
 "cells": [
  {
   "cell_type": "markdown",
   "metadata": {},
   "source": [
    "----\n",
    "Python fundmentals with text data\n",
    "===\n",
    "\n",
    "Let's continue with our Python practice with text."
   ]
  },
  {
   "cell_type": "markdown",
   "metadata": {},
   "source": [
    "## Word length"
   ]
  },
  {
   "cell_type": "code",
   "execution_count": 1,
   "metadata": {
    "collapsed": true
   },
   "outputs": [],
   "source": [
    "def word_length(word):\n",
    "    ''' Given a word (str), return number of characters (int).\n",
    "\n",
    "    Example:\n",
    "    >>> word_length(\"Galvanize!\")\n",
    "    10\n",
    "    '''\n",
    "    return len(word)"
   ]
  },
  {
   "cell_type": "code",
   "execution_count": 2,
   "metadata": {
    "collapsed": true
   },
   "outputs": [],
   "source": [
    "assert word_length(\"Galvanize!\") == 10"
   ]
  },
  {
   "cell_type": "markdown",
   "metadata": {},
   "source": [
    "<details><summary>\n",
    "Click here for a hint...\n",
    "</summary>\n",
    "Check out [`len`](https://docs.python.org/3/library/functions.html#len)\n",
    "</details>"
   ]
  },
  {
   "cell_type": "code",
   "execution_count": 22,
   "metadata": {
    "collapsed": false
   },
   "outputs": [],
   "source": [
    "def word_count(phrase):\n",
    "    ''' Given a phrase (str), return number of words (int).\n",
    "\n",
    "    Example:\n",
    "    >>> word_count(\"Welcome to Galvanize!\")\n",
    "    3\n",
    "    '''\n",
    "    print(len(phrase.split()))\n",
    "    return(len(phrase.split()))"
   ]
  },
  {
   "cell_type": "code",
   "execution_count": 23,
   "metadata": {
    "collapsed": false
   },
   "outputs": [
    {
     "name": "stdout",
     "output_type": "stream",
     "text": [
      "3\n"
     ]
    }
   ],
   "source": [
    "assert word_count(\"Welcome to Galvanize!\") == 3"
   ]
  },
  {
   "cell_type": "markdown",
   "metadata": {},
   "source": [
    "<details><summary>\n",
    "Click here for a hint...\n",
    "</summary>\n",
    "Check out [`str.split()`](https://docs.python.org/3/library/stdtypes.html#string-methods)\n",
    "</details>"
   ]
  },
  {
   "cell_type": "code",
   "execution_count": 24,
   "metadata": {
    "collapsed": true
   },
   "outputs": [],
   "source": [
    "def word_lengths(phrase):\n",
    "    '''\n",
    "    INPUT: string\n",
    "    OUTPUT: list of integers\n",
    "\n",
    "    Use list comprehension to find the length of each word in the phrase\n",
    "    (broken by spaces) and return the values in a list.\n",
    "\n",
    "    Example:\n",
    "    >>> word_lengths(\"Welcome to Galvanize!\")\n",
    "    [7, 2, 10]\n",
    "    '''\n",
    "    return[len(x) for x in phrase.split()]"
   ]
  },
  {
   "cell_type": "code",
   "execution_count": 25,
   "metadata": {
    "collapsed": false
   },
   "outputs": [],
   "source": [
    "assert word_lengths(\"Welcome to Galvanize!\") == [7, 2, 10]"
   ]
  },
  {
   "cell_type": "code",
   "execution_count": 87,
   "metadata": {
    "collapsed": false
   },
   "outputs": [],
   "source": [
    "def is_palindrome(string):\n",
    "    '''\n",
    "    INPUT: string\n",
    "    OUTPUT: boolean\n",
    "    \n",
    "    Return whether the given string is the same forwards and backwards.\n",
    "    \n",
    "    Example:\n",
    "    >>> is_palindrome(\"rats live on no evil star\")\n",
    "    True\n",
    "    '''\n",
    "    \n",
    "#     for iterator, item in enumerate(string):\n",
    "#         print(item, string[-(iterator+1)])\n",
    "    \n",
    "    for iterator, item in enumerate(string):\n",
    "#         print((iterator+1), 'iterator')\n",
    "#         print (len(string))\n",
    "        if (iterator+1) == len(string):\n",
    "            return (True)\n",
    "        elif item ==string[-(iterator+1)]:\n",
    "            pass\n",
    "        elif item != string[-(iterator+1)]:\n",
    "#             print (False)\n",
    "            return False\n",
    "    \n",
    "    "
   ]
  },
  {
   "cell_type": "code",
   "execution_count": 88,
   "metadata": {
    "collapsed": false
   },
   "outputs": [],
   "source": [
    "assert is_palindrome(\"rats live on no evil star\") == True\n",
    "assert is_palindrome(\"rats\") == False"
   ]
  },
  {
   "cell_type": "code",
   "execution_count": 95,
   "metadata": {
    "collapsed": true
   },
   "outputs": [],
   "source": [
    "def filter_words(word_list, letter):\n",
    "    '''\n",
    "    INPUT: list of words, string\n",
    "    OUTPUT: list of words\n",
    "\n",
    "    Return the words from word_list which start with the given letter.\n",
    "\n",
    "    Example:\n",
    "    >>> filter_words([\"salumeria\", \"dandelion\", \"yamo\", \"doc loi\", \"rosamunde\",\n",
    "                      \"beretta\", \"ike's\", \"delfina\"], \"d\")\n",
    "    ['dandelion', 'doc loi', 'delfina']\n",
    "    '''\n",
    "    print ( [item for item in word_list if item[0]==letter])\n",
    "    return [item for item in word_list if item[0]==letter]\n",
    "    \n",
    "    "
   ]
  },
  {
   "cell_type": "code",
   "execution_count": 96,
   "metadata": {
    "collapsed": false
   },
   "outputs": [
    {
     "name": "stdout",
     "output_type": "stream",
     "text": [
      "['dandelion', 'doc loi', 'delfina']\n"
     ]
    }
   ],
   "source": [
    "assert filter_words([\"salumeria\", \"dandelion\", \"yamo\", \"doc loi\", \"rosamunde\",\"beretta\", \"ike's\", \"delfina\"], \"d\") == ['dandelion', 'doc loi', 'delfina']"
   ]
  },
  {
   "cell_type": "code",
   "execution_count": 129,
   "metadata": {
    "collapsed": false
   },
   "outputs": [],
   "source": [
    "def acronym(phrase):\n",
    "    '''\n",
    "    INPUT: string\n",
    "    OUTPUT: string\n",
    "\n",
    "    Given a phrase, return the associated acronym by breaking on spaces and\n",
    "    concatenating the first letters of each word together capitalized.\n",
    "\n",
    "    Example:\n",
    "    >>> acronym(\"Galvanize way\")\n",
    "    'GW'\n",
    "\n",
    "    Hint: \n",
    "    '''\n",
    "\n",
    "        \n",
    "    print( (\"\").join([ (\"\").join(item[0]).upper()for item in phrase.split()       ]))\n",
    "    return(( (\"\").join([ (\"\").join(item[0]).upper()for item in phrase.split()       ])))\n",
    "    \n",
    "   "
   ]
  },
  {
   "cell_type": "markdown",
   "metadata": {},
   "source": [
    "<details><summary>\n",
    "Click here for a hint...\n",
    "</summary>\n",
    "Try combining list comprehension and the join method. <br>\n",
    "Python has a builtin string method to uppercase strings.\n",
    "</details>"
   ]
  },
  {
   "cell_type": "code",
   "execution_count": 130,
   "metadata": {
    "collapsed": false
   },
   "outputs": [
    {
     "name": "stdout",
     "output_type": "stream",
     "text": [
      "GW\n"
     ]
    }
   ],
   "source": [
    "assert acronym(\"Galvanize way\") == 'GW'"
   ]
  },
  {
   "cell_type": "markdown",
   "metadata": {
    "collapsed": true
   },
   "source": [
    "---\n",
    "CONGRATS!!!\n",
    "---\n",
    "\n",
    "Keep being awesome:  \n",
    "![winner](../images/more_awesomeness.jpg)"
   ]
  },
  {
   "cell_type": "markdown",
   "metadata": {
    "collapsed": true
   },
   "source": [
    "<br>\n",
    "<br>\n",
    "<br>\n",
    "\n",
    "-----"
   ]
  }
 ],
 "metadata": {
  "kernelspec": {
   "display_name": "Python [Root]",
   "language": "python",
   "name": "Python [Root]"
  },
  "language_info": {
   "codemirror_mode": {
    "name": "ipython",
    "version": 3
   },
   "file_extension": ".py",
   "mimetype": "text/x-python",
   "name": "python",
   "nbconvert_exporter": "python",
   "pygments_lexer": "ipython3",
   "version": "3.5.2"
  }
 },
 "nbformat": 4,
 "nbformat_minor": 0
}
