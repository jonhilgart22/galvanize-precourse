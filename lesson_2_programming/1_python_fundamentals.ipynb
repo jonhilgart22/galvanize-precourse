{
 "cells": [
  {
   "cell_type": "markdown",
   "metadata": {},
   "source": [
    "----\n",
    "Python Practice\n",
    "===\n",
    "\n",
    "The goal of this notebook is practice writing functions and using built-in Python features.\n",
    "\n",
    "![](../images/batteries-included.jpg)\n",
    "\n",
    "Python is a \"batteries included\" programming language which means much of the functionality that is useful is built-in. \n",
    "\n",
    "You are going to explore Python functionality by finishing functions."
   ]
  },
  {
   "cell_type": "markdown",
   "metadata": {},
   "source": [
    "Warmups\n",
    "---"
   ]
  },
  {
   "cell_type": "markdown",
   "metadata": {},
   "source": [
    "We are taking a Test Driven Development (TDD) approach. TDD means that there are tests for every function. Once the tests pass,  you are done programming because your functions work to the specification (aka, spec).\n",
    "\n",
    "TDD takes more time and effort, but TDD is worth it because it helps ensure code correctness and gives you objective benchmarks.\n",
    "\n",
    "Let's walk through an example of how to finish a function to make the tests pass."
   ]
  },
  {
   "cell_type": "code",
   "execution_count": 6,
   "metadata": {
    "collapsed": false
   },
   "outputs": [],
   "source": [
    "# Here is straightfoward function\n",
    "def add_two_numbers(n1, n2):\n",
    "    \"\"\" Add two the numbers\n",
    "    >>> add_two_numbers(1, 2)\n",
    "    3 \"\"\"\n",
    "    pass"
   ]
  },
  {
   "cell_type": "code",
   "execution_count": 22,
   "metadata": {
    "collapsed": false
   },
   "outputs": [
    {
     "ename": "AssertionError",
     "evalue": "",
     "output_type": "error",
     "traceback": [
      "\u001b[0;31m---------------------------------------------------------------------------\u001b[0m",
      "\u001b[0;31mAssertionError\u001b[0m                            Traceback (most recent call last)",
      "\u001b[0;32m<ipython-input-22-6c3c6529ecd0>\u001b[0m in \u001b[0;36m<module>\u001b[0;34m()\u001b[0m\n\u001b[0;32m----> 1\u001b[0;31m \u001b[0;32massert\u001b[0m \u001b[0madd_two_numbers\u001b[0m\u001b[0;34m(\u001b[0m\u001b[0;36m1\u001b[0m\u001b[0;34m,\u001b[0m \u001b[0;36m2\u001b[0m\u001b[0;34m)\u001b[0m \u001b[0;34m==\u001b[0m \u001b[0;36m3\u001b[0m\u001b[0;34m\u001b[0m\u001b[0m\n\u001b[0m",
      "\u001b[0;31mAssertionError\u001b[0m: "
     ]
    }
   ],
   "source": [
    "# Here are a couple of tests for it\n",
    "assert add_two_numbers(1, 2) == 3\n",
    "assert add_two_numbers(2, -2) == 0"
   ]
  },
  {
   "cell_type": "markdown",
   "metadata": {},
   "source": [
    "^^ They currently fail."
   ]
  },
  {
   "cell_type": "code",
   "execution_count": 7,
   "metadata": {
    "collapsed": true
   },
   "outputs": [],
   "source": [
    "# Here is the completed function\n",
    "def add_two_numbers(n1, n2):\n",
    "    \"\"\" Add two the numbers\n",
    "    >>> add_two_numbers(1, 2)\n",
    "    3 \"\"\"\n",
    "    return n1+n2"
   ]
  },
  {
   "cell_type": "code",
   "execution_count": 9,
   "metadata": {
    "collapsed": true
   },
   "outputs": [],
   "source": [
    "# Here are the passing tets\n",
    "assert add_two_numbers(1, 2) == 3\n",
    "assert add_two_numbers(2, -2) == 0"
   ]
  },
  {
   "cell_type": "markdown",
   "metadata": {},
   "source": [
    "---\n",
    "Now your turn\n",
    "---\n",
    "\n",
    "Please finish these functions by replacing the `pass` with Python code that makes function work according to the specification and have the tests pass."
   ]
  },
  {
   "cell_type": "code",
   "execution_count": 10,
   "metadata": {
    "collapsed": true
   },
   "outputs": [],
   "source": [
    "def sort_row(row):\n",
    "    \"\"\"Given a row integers (vector), sort them in ascending in order.\n",
    "    >>> sort_row([2, 3, 1])\n",
    "    [1, 2, 3]\n",
    "    \"\"\" \n",
    "    pass"
   ]
  },
  {
   "cell_type": "markdown",
   "metadata": {},
   "source": [
    "<details><summary>\n",
    "Click here for a hint...\n",
    "</summary>\n",
    "Try [`sorted`](https://docs.python.org/3/howto/sorting.html)\n",
    "</details>"
   ]
  },
  {
   "cell_type": "code",
   "execution_count": 11,
   "metadata": {
    "collapsed": false
   },
   "outputs": [
    {
     "ename": "AssertionError",
     "evalue": "",
     "output_type": "error",
     "traceback": [
      "\u001b[0;31m---------------------------------------------------------------------------\u001b[0m",
      "\u001b[0;31mAssertionError\u001b[0m                            Traceback (most recent call last)",
      "\u001b[0;32m<ipython-input-11-543172a632a1>\u001b[0m in \u001b[0;36m<module>\u001b[0;34m()\u001b[0m\n\u001b[0;32m----> 1\u001b[0;31m \u001b[0;32massert\u001b[0m \u001b[0msort_row\u001b[0m\u001b[0;34m(\u001b[0m\u001b[0;34m[\u001b[0m\u001b[0;36m2\u001b[0m\u001b[0;34m,\u001b[0m \u001b[0;36m3\u001b[0m\u001b[0;34m,\u001b[0m \u001b[0;36m1\u001b[0m\u001b[0;34m]\u001b[0m\u001b[0;34m)\u001b[0m \u001b[0;34m==\u001b[0m \u001b[0;34m[\u001b[0m\u001b[0;36m1\u001b[0m\u001b[0;34m,\u001b[0m \u001b[0;36m2\u001b[0m\u001b[0;34m,\u001b[0m \u001b[0;36m3\u001b[0m\u001b[0;34m]\u001b[0m\u001b[0;34m\u001b[0m\u001b[0m\n\u001b[0m",
      "\u001b[0;31mAssertionError\u001b[0m: "
     ]
    }
   ],
   "source": [
    "assert sort_row([2, 3, 1]) == [1, 2, 3]"
   ]
  },
  {
   "cell_type": "code",
   "execution_count": null,
   "metadata": {
    "collapsed": true
   },
   "outputs": [],
   "source": [
    "def sort_row_descending(row):\n",
    "    \"\"\"Given a row integers (vector), sort them in descending in order.\n",
    "    >>> sort_row([2, 3, 1])\n",
    "    [3, 2, 1]\n",
    "    \"\"\" \n",
    "    pass"
   ]
  },
  {
   "cell_type": "markdown",
   "metadata": {},
   "source": [
    "<details><summary>\n",
    "Click here for a hint...\n",
    "</summary>\n",
    "Look at the help for sorted by typing `sorted?`  \n",
    "<br>\n",
    "```\n",
    "Signature: sorted(iterable, key=None, reverse=False)\n",
    "Docstring:\n",
    "Return a new list containing all items from the iterable in ascending order.\n",
    "\n",
    "A custom key function can be supplied to customise the sort order, and the\n",
    "reverse flag can be set to request the result in descending order.\n",
    "Type:      builtin_function_or_method\n",
    "```  \n",
    "<br>\n",
    "Use the `reverse` keyword\n",
    "</details>"
   ]
  },
  {
   "cell_type": "code",
   "execution_count": 13,
   "metadata": {
    "collapsed": false
   },
   "outputs": [
    {
     "ename": "AssertionError",
     "evalue": "",
     "output_type": "error",
     "traceback": [
      "\u001b[0;31m---------------------------------------------------------------------------\u001b[0m",
      "\u001b[0;31mAssertionError\u001b[0m                            Traceback (most recent call last)",
      "\u001b[0;32m<ipython-input-13-8b3bbd33c63b>\u001b[0m in \u001b[0;36m<module>\u001b[0;34m()\u001b[0m\n\u001b[0;32m----> 1\u001b[0;31m \u001b[0;32massert\u001b[0m \u001b[0msort_row\u001b[0m\u001b[0;34m(\u001b[0m\u001b[0;34m[\u001b[0m\u001b[0;36m2\u001b[0m\u001b[0;34m,\u001b[0m \u001b[0;36m3\u001b[0m\u001b[0;34m,\u001b[0m \u001b[0;36m1\u001b[0m\u001b[0;34m]\u001b[0m\u001b[0;34m)\u001b[0m \u001b[0;34m==\u001b[0m \u001b[0;34m[\u001b[0m\u001b[0;36m3\u001b[0m\u001b[0;34m,\u001b[0m \u001b[0;36m2\u001b[0m\u001b[0;34m,\u001b[0m \u001b[0;36m1\u001b[0m\u001b[0;34m]\u001b[0m\u001b[0;34m\u001b[0m\u001b[0m\n\u001b[0m",
      "\u001b[0;31mAssertionError\u001b[0m: "
     ]
    }
   ],
   "source": [
    "assert sort_row([2, 3, 1]) == [3, 2, 1]"
   ]
  },
  {
   "cell_type": "code",
   "execution_count": 7,
   "metadata": {
    "collapsed": true
   },
   "outputs": [],
   "source": [
    "def sort_rows(mat):\n",
    "    '''\n",
    "    INPUT: 2 dimensional list of integers (matrix)\n",
    "    OUTPUT: 2 dimensional list of integers (matrix)\n",
    "\n",
    "    Use list comprehension to modify each row of the matrix to be sorted.\n",
    "\n",
    "    Example:\n",
    "    >>> M = [[4, 5, 2, 8], [3, 9, 6, 7]]\n",
    "    >>> sort_rows(M)\n",
    "    >>> M\n",
    "    [[2, 4, 5, 8], [3, 6, 7, 9]]\n",
    "    '''\n",
    "    pass "
   ]
  },
  {
   "cell_type": "code",
   "execution_count": 9,
   "metadata": {
    "collapsed": false
   },
   "outputs": [
    {
     "ename": "AssertionError",
     "evalue": "",
     "output_type": "error",
     "traceback": [
      "\u001b[0;31m---------------------------------------------------------------------------\u001b[0m",
      "\u001b[0;31mAssertionError\u001b[0m                            Traceback (most recent call last)",
      "\u001b[0;32m<ipython-input-9-ec7f003e3b6e>\u001b[0m in \u001b[0;36m<module>\u001b[0;34m()\u001b[0m\n\u001b[0;32m----> 1\u001b[0;31m \u001b[0;32massert\u001b[0m \u001b[0msort_rows\u001b[0m\u001b[0;34m(\u001b[0m\u001b[0;34m[\u001b[0m\u001b[0;34m[\u001b[0m\u001b[0;36m4\u001b[0m\u001b[0;34m,\u001b[0m \u001b[0;36m5\u001b[0m\u001b[0;34m,\u001b[0m \u001b[0;36m2\u001b[0m\u001b[0;34m,\u001b[0m \u001b[0;36m8\u001b[0m\u001b[0;34m]\u001b[0m\u001b[0;34m,\u001b[0m \u001b[0;34m[\u001b[0m\u001b[0;36m3\u001b[0m\u001b[0;34m,\u001b[0m \u001b[0;36m9\u001b[0m\u001b[0;34m,\u001b[0m \u001b[0;36m6\u001b[0m\u001b[0;34m,\u001b[0m \u001b[0;36m7\u001b[0m\u001b[0;34m]\u001b[0m\u001b[0;34m]\u001b[0m\u001b[0;34m)\u001b[0m \u001b[0;34m==\u001b[0m \u001b[0;34m[\u001b[0m\u001b[0;34m[\u001b[0m\u001b[0;36m2\u001b[0m\u001b[0;34m,\u001b[0m \u001b[0;36m4\u001b[0m\u001b[0;34m,\u001b[0m \u001b[0;36m5\u001b[0m\u001b[0;34m,\u001b[0m \u001b[0;36m8\u001b[0m\u001b[0;34m]\u001b[0m\u001b[0;34m,\u001b[0m \u001b[0;34m[\u001b[0m\u001b[0;36m3\u001b[0m\u001b[0;34m,\u001b[0m \u001b[0;36m6\u001b[0m\u001b[0;34m,\u001b[0m \u001b[0;36m7\u001b[0m\u001b[0;34m,\u001b[0m \u001b[0;36m9\u001b[0m\u001b[0;34m]\u001b[0m\u001b[0;34m]\u001b[0m\u001b[0;34m\u001b[0m\u001b[0m\n\u001b[0m",
      "\u001b[0;31mAssertionError\u001b[0m: "
     ]
    }
   ],
   "source": [
    "assert sort_rows([[4, 5, 2, 8], [3, 9, 6, 7]]) == [[2, 4, 5, 8], [3, 6, 7, 9]]"
   ]
  },
  {
   "cell_type": "markdown",
   "metadata": {},
   "source": [
    "### Row average"
   ]
  },
  {
   "cell_type": "code",
   "execution_count": 26,
   "metadata": {
    "collapsed": true
   },
   "outputs": [],
   "source": [
    "def average_rows1(mat):\n",
    "    '''\n",
    "    INPUT: 2 dimensional list of integers (matrix)\n",
    "    OUTPUT: list of floats\n",
    "\n",
    "    Use list comprehension to take the average of each row in the matrix and\n",
    "    return it as a list.\n",
    "\n",
    "    Example:\n",
    "    >>> average_rows1([[4, 5, 2, 8], [3, 9, 6, 7]])\n",
    "    [4.75, 6.25]\n",
    "    '''\n",
    "    pass"
   ]
  },
  {
   "cell_type": "code",
   "execution_count": null,
   "metadata": {
    "collapsed": false
   },
   "outputs": [],
   "source": []
  },
  {
   "cell_type": "code",
   "execution_count": null,
   "metadata": {
    "collapsed": true
   },
   "outputs": [],
   "source": [
    "def average_rows2(mat):\n",
    "    '''\n",
    "    INPUT: 2 dimensional list of integers (matrix)\n",
    "    OUTPUT: list of floats\n",
    "\n",
    "    Use map to take the average of each row in the matrix and\n",
    "    return it as a list.\n",
    "    '''\n",
    "    pass"
   ]
  },
  {
   "cell_type": "code",
   "execution_count": null,
   "metadata": {
    "collapsed": false
   },
   "outputs": [],
   "source": []
  },
  {
   "cell_type": "markdown",
   "metadata": {},
   "source": [
    "## Word length"
   ]
  },
  {
   "cell_type": "code",
   "execution_count": 11,
   "metadata": {
    "collapsed": true
   },
   "outputs": [],
   "source": [
    "def word_lengths1(phrase):\n",
    "    '''\n",
    "    INPUT: string\n",
    "    OUTPUT: list of integers\n",
    "\n",
    "    Use list comprehension to find the length of each word in the phrase\n",
    "    (broken by spaces) and return the values in a list.\n",
    "\n",
    "    Example:\n",
    "    >>> word_lengths1(\"Welcome to Galvanize!\")\n",
    "    [7, 2, 10]\n",
    "    '''\n",
    "    pass"
   ]
  },
  {
   "cell_type": "code",
   "execution_count": null,
   "metadata": {
    "collapsed": false
   },
   "outputs": [],
   "source": []
  },
  {
   "cell_type": "code",
   "execution_count": 14,
   "metadata": {
    "collapsed": true
   },
   "outputs": [],
   "source": [
    "def word_lengths2(phrase):\n",
    "    '''\n",
    "    INPUT: string\n",
    "    OUTPUT: list of integers\n",
    "\n",
    "    Use map to find the length of each word in the phrase\n",
    "    (broken by spaces) and return the values in a list.\n",
    "    '''\n",
    "    pass    "
   ]
  },
  {
   "cell_type": "code",
   "execution_count": null,
   "metadata": {
    "collapsed": true
   },
   "outputs": [],
   "source": []
  },
  {
   "cell_type": "markdown",
   "metadata": {},
   "source": [
    "## Even or odd"
   ]
  },
  {
   "cell_type": "code",
   "execution_count": 17,
   "metadata": {
    "collapsed": true
   },
   "outputs": [],
   "source": [
    "def even_odd1(L):\n",
    "    '''\n",
    "    INPUT: list of integers\n",
    "    OUTPUT: list of strings\n",
    "    \n",
    "    Use list comprehension to return a list of the same length with the strings\n",
    "    \"even\" or \"odd\" depending on whether the element in L is even or odd.\n",
    "    \n",
    "    Example:\n",
    "    >>> even_odd([6, 4, 1, 3, 8, 5])\n",
    "    ['even', 'even', 'odd', 'odd', 'even', 'odd']\n",
    "    '''\n",
    "    pass"
   ]
  },
  {
   "cell_type": "code",
   "execution_count": null,
   "metadata": {
    "collapsed": false
   },
   "outputs": [],
   "source": []
  },
  {
   "cell_type": "code",
   "execution_count": null,
   "metadata": {
    "collapsed": true
   },
   "outputs": [],
   "source": [
    "def even_odd2(L):\n",
    "    '''\n",
    "    INPUT: list of integers\n",
    "    OUTPUT: list of strings\n",
    "    \n",
    "    Use map to return a list of the same length with the strings\n",
    "    \"even\" or \"odd\" depending on whether the element in L is even or odd.\n",
    "    '''\n",
    "    pass"
   ]
  },
  {
   "cell_type": "code",
   "execution_count": null,
   "metadata": {
    "collapsed": false
   },
   "outputs": [],
   "source": []
  },
  {
   "cell_type": "markdown",
   "metadata": {},
   "source": [
    "## Manipulating strings"
   ]
  },
  {
   "cell_type": "code",
   "execution_count": null,
   "metadata": {
    "collapsed": true
   },
   "outputs": [],
   "source": [
    "def shift_on_character(string, char):\n",
    "    '''\n",
    "    INPUT: string, string\n",
    "    OUTPUT: string\n",
    "    \n",
    "    Find the first occurence of the character char and return the string with\n",
    "    everything before char moved to the end of the string. If char doesn't\n",
    "    appear, return the same string.\n",
    "    \n",
    "    This function may use more than one line.\n",
    "    \n",
    "    Example:\n",
    "    >>> shift_on_character(\"Galvanize\", \"v\")\n",
    "    'vanizeGal'\n",
    "    '''\n",
    "    pass\n"
   ]
  },
  {
   "cell_type": "code",
   "execution_count": null,
   "metadata": {
    "collapsed": true
   },
   "outputs": [],
   "source": []
  },
  {
   "cell_type": "code",
   "execution_count": null,
   "metadata": {
    "collapsed": true
   },
   "outputs": [],
   "source": [
    "def is_palindrome(string):\n",
    "    '''\n",
    "    INPUT: string\n",
    "    OUTPUT: boolean\n",
    "    \n",
    "    Return whether the given string is the same forwards and backwards.\n",
    "    \n",
    "    Example:\n",
    "    >>> is_palindrome(\"rats live on no evil star\")\n",
    "    True\n",
    "    '''\n",
    "    pass"
   ]
  },
  {
   "cell_type": "code",
   "execution_count": null,
   "metadata": {
    "collapsed": true
   },
   "outputs": [],
   "source": []
  },
  {
   "cell_type": "code",
   "execution_count": null,
   "metadata": {
    "collapsed": true
   },
   "outputs": [],
   "source": [
    "def alternate(L):\n",
    "    '''\n",
    "    INPUT: list\n",
    "    OUTPUT: list\n",
    "    \n",
    "    Use list slicing to return a list containing all the odd indexed elements\n",
    "    followed by all the even indexed elements.\n",
    "    \n",
    "    Example:\n",
    "    >>> alternate(['a', 'b', 'c', 'd', 'e', 'f', 'g'])\n",
    "    ['b', 'd', 'f', 'a', 'c', 'e', 'g']\n",
    "    '''\n",
    "    pass"
   ]
  },
  {
   "cell_type": "code",
   "execution_count": null,
   "metadata": {
    "collapsed": true
   },
   "outputs": [],
   "source": []
  },
  {
   "cell_type": "code",
   "execution_count": null,
   "metadata": {
    "collapsed": true
   },
   "outputs": [],
   "source": [
    "def shuffle(L):\n",
    "    '''\n",
    "    INPUT: list\n",
    "    OUTPUT: list\n",
    "    \n",
    "    Return the result of a \"perfect\" shuffle. You may assume that L has even\n",
    "    length. You should return the result of splitting L in half and alternating\n",
    "    taking an element from each.\n",
    "    \n",
    "    Example:\n",
    "    >>> shuffle([1, 2, 3, 4, 5, 6])\n",
    "    [1, 4, 2, 5, 3, 6]\n",
    "    '''\n",
    "    pass"
   ]
  },
  {
   "cell_type": "code",
   "execution_count": null,
   "metadata": {
    "collapsed": true
   },
   "outputs": [],
   "source": []
  },
  {
   "cell_type": "code",
   "execution_count": null,
   "metadata": {
    "collapsed": true
   },
   "outputs": [],
   "source": [
    "def filter_words(word_list, letter):\n",
    "    '''\n",
    "    INPUT: list of words, string\n",
    "    OUTPUT: list of words\n",
    "\n",
    "    Use filter to return the words from word_list which start with letter.\n",
    "\n",
    "    Example:\n",
    "    >>> filter_words([\"salumeria\", \"dandelion\", \"yamo\", \"doc loi\", \"rosamunde\",\n",
    "                      \"beretta\", \"ike's\", \"delfina\"], \"d\")\n",
    "    ['dandelion', 'doc loi', 'delfina']\n",
    "    '''\n",
    "    pass"
   ]
  },
  {
   "cell_type": "code",
   "execution_count": null,
   "metadata": {
    "collapsed": true
   },
   "outputs": [],
   "source": []
  },
  {
   "cell_type": "code",
   "execution_count": null,
   "metadata": {
    "collapsed": true
   },
   "outputs": [],
   "source": [
    "def factors(num):\n",
    "    '''\n",
    "    INPUT: integer\n",
    "    OUTPUT: list of integers\n",
    "\n",
    "    Use filter to return all of the factors of num.\n",
    "    '''\n",
    "    pass"
   ]
  },
  {
   "cell_type": "code",
   "execution_count": null,
   "metadata": {
    "collapsed": true
   },
   "outputs": [],
   "source": []
  },
  {
   "cell_type": "code",
   "execution_count": null,
   "metadata": {
    "collapsed": true
   },
   "outputs": [],
   "source": [
    "def acronym(phrase):\n",
    "    '''\n",
    "    INPUT: string\n",
    "    OUTPUT: string\n",
    "\n",
    "    Given a phrase, return the associated acronym by breaking on spaces and\n",
    "    concatenating the first letters of each word together capitalized.\n",
    "\n",
    "    Example:\n",
    "    >>> acronym(\"Galvanize way\")\n",
    "    'GW'\n",
    "\n",
    "    Hint: You can do this on one line using list comprehension and the join\n",
    "    method. Python has a builtin string method to uppercase strings.\n",
    "    '''\n",
    "    pass"
   ]
  },
  {
   "cell_type": "code",
   "execution_count": null,
   "metadata": {
    "collapsed": true
   },
   "outputs": [],
   "source": []
  },
  {
   "cell_type": "code",
   "execution_count": null,
   "metadata": {
    "collapsed": true
   },
   "outputs": [],
   "source": [
    "def sort_by_ratio(L):\n",
    "    '''\n",
    "    INPUT: list of 2-tuples of integers\n",
    "    OUTPUT: None\n",
    "    \n",
    "    Sort the list L by the ratio of the elements in the 2-tuples.\n",
    "    For example, (1, 3) < (2, 4) since 1/3 < 2/4.\n",
    "    Use the key parameter in the sort method.\n",
    "    \n",
    "    Example:\n",
    "    >>> L = [(2, 4), (8, 5), (1, 3), (9, 4), (3, 5)]\n",
    "    >>> sort_by_ratio(L)\n",
    "    >>> L\n",
    "    [(1, 3), (2, 4), (3, 5), (8, 5), (9, 4)]\n",
    "    '''\n",
    "    pass"
   ]
  },
  {
   "cell_type": "code",
   "execution_count": null,
   "metadata": {
    "collapsed": true
   },
   "outputs": [],
   "source": []
  },
  {
   "cell_type": "code",
   "execution_count": null,
   "metadata": {
    "collapsed": true
   },
   "outputs": [],
   "source": [
    "def count_match_index(L):\n",
    "    '''\n",
    "    INTPUT: list of integers\n",
    "    OUTPUT: integer\n",
    "    \n",
    "    Use enumerate and other skills from above to return the count of the number\n",
    "    of items in the list whose value equals its index.\n",
    "    \n",
    "    Example:    \n",
    "    >>> count_match_index([0, 2, 2, 3, 6, 5])\n",
    "    4\n",
    "    '''\n",
    "    pass"
   ]
  },
  {
   "cell_type": "code",
   "execution_count": null,
   "metadata": {
    "collapsed": true
   },
   "outputs": [],
   "source": []
  },
  {
   "cell_type": "code",
   "execution_count": null,
   "metadata": {
    "collapsed": true
   },
   "outputs": [],
   "source": [
    "def concatenate(L1, L2, connector=\"\"):\n",
    "    '''\n",
    "    INPUT: list of strings, list of strings\n",
    "    OUTPUT: list of strings\n",
    "    \n",
    "    L1 and L2 have the same length. Use zip and other skills from above to\n",
    "    return a list of the same length where each value is the two strings from\n",
    "    L1 and L2 concatenated together with connector between them.\n",
    "    \n",
    "    Example:\n",
    "    >>> concatenate([\"A\", \"B\"], [\"b\", \"b\"])\n",
    "    ['Ab', 'Bb']\n",
    "    >>> concatenate([\"San Francisco\", \"New York\", \"Las Vegas\", \"Los Angeles\"], \\\n",
    "                    [\"California\", \"New York\", \"Nevada\", \"California\"], \", \")\n",
    "    ['San Francisco, California', 'New York, New York', 'Las Vegas, Nevada',\n",
    "    'Los Angeles, California']\n",
    "    '''\n",
    "    pass"
   ]
  },
  {
   "cell_type": "code",
   "execution_count": null,
   "metadata": {
    "collapsed": true
   },
   "outputs": [],
   "source": []
  },
  {
   "cell_type": "code",
   "execution_count": null,
   "metadata": {
    "collapsed": true
   },
   "outputs": [],
   "source": [
    "def transpose(mat):\n",
    "    '''\n",
    "    INPUT: 2 dimensional list of integers\n",
    "    OUTPUT: 2 dimensional list of integers\n",
    "    \n",
    "    Return the transpose of the matrix. You may assume that the matrix is not\n",
    "    empty. You can do this using a double for loop in a list comprehension.\n",
    "    There is also a solution using zip.\n",
    "    '''\n",
    "    pass"
   ]
  },
  {
   "cell_type": "code",
   "execution_count": null,
   "metadata": {
    "collapsed": true
   },
   "outputs": [],
   "source": []
  },
  {
   "cell_type": "code",
   "execution_count": null,
   "metadata": {
    "collapsed": true
   },
   "outputs": [],
   "source": [
    "def invert_list(L):\n",
    "    '''\n",
    "    INPUT: list\n",
    "    OUTPUT: dictionary\n",
    "    \n",
    "    Use enumerate and other skills from above to return a dictionary which has\n",
    "    the values of the list as keys and the index as the value. You may assume\n",
    "    that a value will only appear once in the given list.\n",
    "    \n",
    "    Example:\n",
    "    >>> invert_list(['a', 'b', 'c', 'd'])\n",
    "    {'a': 0, 'c': 2, 'b': 1, 'd': 3}\n",
    "    '''\n",
    "    pass"
   ]
  },
  {
   "cell_type": "code",
   "execution_count": null,
   "metadata": {
    "collapsed": true
   },
   "outputs": [],
   "source": []
  },
  {
   "cell_type": "code",
   "execution_count": null,
   "metadata": {
    "collapsed": true
   },
   "outputs": [],
   "source": [
    "def digits_to_num(digits):\n",
    "    '''\n",
    "    INPUT: list of integers\n",
    "    OUTPUT: integer\n",
    "    \n",
    "    Use reduce to take a list of digits and return the number that they\n",
    "    correspond to. Do not convert the integers to strings.\n",
    "    \n",
    "    Example:\n",
    "    >>> digits_to_num([9, 4, 1, 0, 5])\n",
    "    94105\n",
    "\n",
    "    Extra credit if you know what the digits represent!\n",
    "    '''\n",
    "    pass"
   ]
  },
  {
   "cell_type": "code",
   "execution_count": null,
   "metadata": {
    "collapsed": true
   },
   "outputs": [],
   "source": []
  },
  {
   "cell_type": "code",
   "execution_count": null,
   "metadata": {
    "collapsed": true
   },
   "outputs": [],
   "source": [
    "def intersection_of_sets(list_of_sets):\n",
    "    '''\n",
    "    INPUT: list of sets\n",
    "    OUTPUT: set\n",
    "    \n",
    "    Use reduce to take the intersection of a list of sets.\n",
    "    Hint: the & operator takes the intersection of two sets.\n",
    "    \n",
    "    Example:\n",
    "    >>> intersection_of_sets([{1, 2, 3}, {2, 3, 4}, {2, 5}])\n",
    "    set([2])\n",
    "    '''\n",
    "    pass\n"
   ]
  },
  {
   "cell_type": "code",
   "execution_count": null,
   "metadata": {
    "collapsed": true
   },
   "outputs": [],
   "source": []
  },
  {
   "cell_type": "code",
   "execution_count": null,
   "metadata": {
    "collapsed": true
   },
   "outputs": [],
   "source": [
    "def combinations(alphabet, n):\n",
    "    '''\n",
    "    INPUT: string, integer\n",
    "    OUTPUT: list of strings\n",
    "    \n",
    "    Use itertools.combinations to return all the combinations of letters in\n",
    "    alphabet with length at most n.\n",
    "    \n",
    "    Example:\n",
    "    >>> combinations('abc', 2)\n",
    "    ['a', 'b', 'c', 'ab', 'ac', 'bc']\n",
    "    '''\n",
    "    pass"
   ]
  },
  {
   "cell_type": "code",
   "execution_count": null,
   "metadata": {
    "collapsed": true
   },
   "outputs": [],
   "source": []
  },
  {
   "cell_type": "code",
   "execution_count": null,
   "metadata": {
    "collapsed": true
   },
   "outputs": [],
   "source": [
    "def permutations_in_dict(string, words):\n",
    "    '''\n",
    "    INPUT: string, set\n",
    "    OUTPUT: list of strings\n",
    "    \n",
    "    Use itertools.permutations to return all the permutations of the string\n",
    "    and return only the ones which are members of set words.\n",
    "    \n",
    "    Example:\n",
    "    >>> permutations_in_dict('act', {'cat', 'rat', 'dog', 'act'})\n",
    "    ['act', 'cat']\n",
    "    '''\n",
    "    pass\n"
   ]
  },
  {
   "cell_type": "code",
   "execution_count": null,
   "metadata": {
    "collapsed": true
   },
   "outputs": [],
   "source": []
  },
  {
   "cell_type": "markdown",
   "metadata": {
    "collapsed": true
   },
   "source": [
    "## CONGRATS!!!\n",
    "You finished. You get a:\n",
    "![winner](https://s-media-cache-ak0.pinimg.com/736x/bf/3f/4c/bf3f4c4e4cbc909f957f939bb6bc7cc6.jpg)"
   ]
  },
  {
   "cell_type": "code",
   "execution_count": null,
   "metadata": {
    "collapsed": true
   },
   "outputs": [],
   "source": []
  }
 ],
 "metadata": {
  "kernelspec": {
   "display_name": "Python 3",
   "language": "python",
   "name": "python3"
  },
  "language_info": {
   "codemirror_mode": {
    "name": "ipython",
    "version": 3
   },
   "file_extension": ".py",
   "mimetype": "text/x-python",
   "name": "python",
   "nbconvert_exporter": "python",
   "pygments_lexer": "ipython3",
   "version": "3.5.1"
  }
 },
 "nbformat": 4,
 "nbformat_minor": 0
}
