{
 "cells": [
  {
   "cell_type": "code",
   "execution_count": null,
   "metadata": {
    "collapsed": true
   },
   "outputs": [],
   "source": [
    "def concatenate(L1, L2, connector=\"\"):\n",
    "    '''\n",
    "    INPUT: list of strings, list of strings\n",
    "    OUTPUT: list of strings\n",
    "    \n",
    "    L1 and L2 have the same length. Use zip and other skills from above to\n",
    "    return a list of the same length where each value is the two strings from\n",
    "    L1 and L2 concatenated together with connector between them.\n",
    "    \n",
    "    Example:\n",
    "    >>> concatenate([\"A\", \"B\"], [\"b\", \"b\"])\n",
    "    ['Ab', 'Bb']\n",
    "    >>> concatenate([\"San Francisco\", \"New York\", \"Las Vegas\", \"Los Angeles\"], \\\n",
    "                    [\"California\", \"New York\", \"Nevada\", \"California\"], \", \")\n",
    "    ['San Francisco, California', 'New York, New York', 'Las Vegas, Nevada',\n",
    "    'Los Angeles, California']\n",
    "    '''\n",
    "    pass"
   ]
  },
  {
   "cell_type": "code",
   "execution_count": null,
   "metadata": {
    "collapsed": true
   },
   "outputs": [],
   "source": []
  },
  {
   "cell_type": "code",
   "execution_count": null,
   "metadata": {
    "collapsed": true
   },
   "outputs": [],
   "source": [
    "def word_counts(f):\n",
    "    '''\n",
    "    INPUT: file\n",
    "    OUTPUT: dictionary\n",
    "\n",
    "    Return a dictionary whose keys are all the words in the file (broken by\n",
    "    whitespace). The value for each word is a dictionary containing each word\n",
    "    that can follow the key and a count for the number of times it follows it.\n",
    "\n",
    "    You should lowercase everything.\n",
    "    Use strip and string.punctuation to strip the punctuation from the words.\n",
    "\n",
    "    Example:\n",
    "    >>> #example.txt is a file containing: \"The cat chased the dog\"\n",
    "    >>> with open('example.txt') as f:\n",
    "    ...     word_counts(f)\n",
    "    {'the': {'dog': 1, 'cat': 1}, 'chased': {'the': 1}, 'cat': {'chased': 1}}\n",
    "    '''\n",
    "    pass"
   ]
  },
  {
   "cell_type": "code",
   "execution_count": null,
   "metadata": {
    "collapsed": true
   },
   "outputs": [],
   "source": []
  },
  {
   "cell_type": "code",
   "execution_count": null,
   "metadata": {
    "collapsed": true
   },
   "outputs": [],
   "source": []
  },
  {
   "cell_type": "code",
   "execution_count": null,
   "metadata": {
    "collapsed": true
   },
   "outputs": [],
   "source": []
  },
  {
   "cell_type": "code",
   "execution_count": null,
   "metadata": {
    "collapsed": true
   },
   "outputs": [],
   "source": []
  }
 ],
 "metadata": {
  "kernelspec": {
   "display_name": "Python 3",
   "language": "python",
   "name": "python3"
  },
  "language_info": {
   "codemirror_mode": {
    "name": "ipython",
    "version": 3
   },
   "file_extension": ".py",
   "mimetype": "text/x-python",
   "name": "python",
   "nbconvert_exporter": "python",
   "pygments_lexer": "ipython3",
   "version": "3.5.1"
  }
 },
 "nbformat": 4,
 "nbformat_minor": 0
}
