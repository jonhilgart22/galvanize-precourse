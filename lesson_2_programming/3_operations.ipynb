{
 "cells": [
  {
   "cell_type": "markdown",
   "metadata": {},
   "source": [
    "---\n",
    "Operations in Python\n",
    "----\n",
    "\n",
    "It is straightforward to implement computing operations in Python.\n",
    "\n",
    "For example, manipulating sets.\n",
    "\n",
    "Set are unordered collections of unique objects. They are useful ways of storing large amounts of data for quick access. \"Customer IDs\" are often represented as sets. Sets also have helpful mathematical properties."
   ]
  },
  {
   "cell_type": "code",
   "execution_count": 1,
   "metadata": {
    "collapsed": true
   },
   "outputs": [],
   "source": [
    "fruit = {'apple', 'banana', 'orange'}\n",
    "orange_colored_objects = {'orange', 'Donald Trump'}"
   ]
  },
  {
   "cell_type": "code",
   "execution_count": 5,
   "metadata": {
    "collapsed": false
   },
   "outputs": [
    {
     "data": {
      "text/plain": [
       "{'orange'}"
      ]
     },
     "execution_count": 5,
     "metadata": {},
     "output_type": "execute_result"
    }
   ],
   "source": [
    "edible_orange_things = fruit & orange_colored_objects\n",
    "edible_orange_things"
   ]
  },
  {
   "cell_type": "markdown",
   "metadata": {},
   "source": [
    "This is called an intersection, aka the elements common to both sets"
   ]
  },
  {
   "cell_type": "markdown",
   "metadata": {},
   "source": [
    "Your turn..."
   ]
  },
  {
   "cell_type": "code",
   "execution_count": 108,
   "metadata": {
    "collapsed": false
   },
   "outputs": [],
   "source": [
    "def intersection_of_sets(list_of_sets):\n",
    "    '''\n",
    "    INPUT: list of sets\n",
    "    OUTPUT: set\n",
    "    \n",
    "    Take the intersection of a list of sets.\n",
    "    \n",
    "    Example:\n",
    "    >>> intersection_of_sets([{1, 2, 3}, {2, 3, 4}, {2, 5}])\n",
    "    set([2])\n",
    "    '''\n",
    "    #print (list_of_sets[1])\n",
    "    #print (len(list_of_sets))\n",
    "    \n",
    "    print (set.intersection(*list_of_sets))\n",
    "    return set.intersection(*list_of_sets)\n",
    "    \n",
    "    \n"
   ]
  },
  {
   "cell_type": "markdown",
   "metadata": {},
   "source": [
    "<details><summary>\n",
    "Click here for a hint...\n",
    "</summary>\n",
    "http://www.programiz.com/python-programming/set<br>\n",
    "</details>"
   ]
  },
  {
   "cell_type": "code",
   "execution_count": 109,
   "metadata": {
    "collapsed": false
   },
   "outputs": [
    {
     "name": "stdout",
     "output_type": "stream",
     "text": [
      "{2}\n"
     ]
    }
   ],
   "source": [
    "assert intersection_of_sets([{1, 2, 3}, {2, 3, 4}, {2, 5}]) == set([2])"
   ]
  },
  {
   "cell_type": "markdown",
   "metadata": {},
   "source": [
    "Sometimes you need to concatenate a sequence"
   ]
  },
  {
   "cell_type": "code",
   "execution_count": 83,
   "metadata": {
    "collapsed": false
   },
   "outputs": [],
   "source": [
    "def digits_to_num(digits):\n",
    "    '''\n",
    "    INPUT: list of integers\n",
    "    OUTPUT: integer\n",
    "        \n",
    "    Example:\n",
    "    >>> digits_to_num([9, 4, 1, 0, 5])\n",
    "    94105\n",
    "\n",
    "    Extra credit if you know what the digits represent!\n",
    "    '''\n",
    "       \n",
    "    return (int(''.join(str(x) for x in digits)))\n",
    "    return [int(''.join(str(x) for x in digits))]"
   ]
  },
  {
   "cell_type": "code",
   "execution_count": 110,
   "metadata": {
    "collapsed": false
   },
   "outputs": [],
   "source": [
    "assert digits_to_num([9, 4, 1, 0, 5]) == 94105"
   ]
  },
  {
   "cell_type": "markdown",
   "metadata": {},
   "source": [
    "Othertimes you might have join two different data streams"
   ]
  },
  {
   "cell_type": "code",
   "execution_count": 139,
   "metadata": {
    "collapsed": false
   },
   "outputs": [],
   "source": [
    "def concatenate(L1, L2, connector=\"\"):\n",
    "    '''\n",
    "    INPUT: list of strings, list of strings\n",
    "    OUTPUT: list of strings\n",
    "    \n",
    "    L1 and L2 have the same length. Use zip and other skills from above to\n",
    "    return a list of the same length where each value is the two strings from\n",
    "    L1 and L2 concatenated together with connector between them.\n",
    "    \n",
    "    Example:\n",
    "    >>> concatenate([\"A\", \"B\"], [\"b\", \"b\"])\n",
    "    ['Ab', 'Bb']\n",
    "    >>> concatenate([\"San Francisco\", \"New York\", \"Las Vegas\", \"Los Angeles\"],\n",
    "                    [\"California\", \"New York\", \"Nevada\", \"California\"], \n",
    "                    \", \")\n",
    "    ['San Francisco, California', 'New York, New York', 'Las Vegas, Nevada',\n",
    "    'Los Angeles, California']\n",
    "    '''\n",
    "    print ( [(connector).join(x) for x in  (list(zip(L1,L2)))])\n",
    "    return( [(connector).join(x) for x in  (list(zip(L1,L2)))])\n",
    "    "
   ]
  },
  {
   "cell_type": "code",
   "execution_count": 140,
   "metadata": {
    "collapsed": false
   },
   "outputs": [
    {
     "name": "stdout",
     "output_type": "stream",
     "text": [
      "['San Francisco, California', 'New York, New York', 'Las Vegas, Nevada', 'Los Angeles, California']\n"
     ]
    }
   ],
   "source": [
    "assert concatenate([\"San Francisco\", \"New York\", \"Las Vegas\", \"Los Angeles\"],\n",
    "                    [\"California\", \"New York\", \"Nevada\", \"California\"], \n",
    "                    \", \") ==  ['San Francisco, California', \n",
    "                                'New York, New York', \n",
    "                                'Las Vegas, Nevada', \n",
    "                                'Los Angeles, California']"
   ]
  },
  {
   "cell_type": "markdown",
   "metadata": {},
   "source": [
    "You might want to print out human readable labels for data"
   ]
  },
  {
   "cell_type": "code",
   "execution_count": 143,
   "metadata": {
    "collapsed": true
   },
   "outputs": [],
   "source": [
    "def even_odd(numbers):\n",
    "    '''\n",
    "    INPUT: list of integers\n",
    "    OUTPUT: list of strings\n",
    "    \n",
    "    Label each number as \"even\" or \"odd\"\n",
    "    \n",
    "    Example:\n",
    "    >>> even_odd([6, 4, 1, 3, 8, 5])\n",
    "    ['even', 'even', 'odd', 'odd', 'even', 'odd']\n",
    "    '''\n",
    "    return [\"even\" if number % 2 == 0 else \"odd\" for number in numbers]\n",
    "    "
   ]
  },
  {
   "cell_type": "code",
   "execution_count": 144,
   "metadata": {
    "collapsed": true
   },
   "outputs": [],
   "source": [
    "assert even_odd([6, 4, 1, 3, 8, 5]) == ['even', 'even', 'odd', 'odd', 'even', 'odd']"
   ]
  },
  {
   "cell_type": "markdown",
   "metadata": {},
   "source": [
    "Data Science is mostly counting. Get good at counting"
   ]
  },
  {
   "cell_type": "code",
   "execution_count": 176,
   "metadata": {
    "collapsed": false
   },
   "outputs": [],
   "source": [
    "from collections import Counter\n",
    "def word_counts(document):\n",
    "    '''\n",
    "    INPUT: str\n",
    "    OUTPUT: dictionary\n",
    "\n",
    "    Return a dictionary whose keys are all the words (broken by\n",
    "    whitespace). The value for each word is a dictionary containing each word\n",
    "    that can follow the key and a count for the number of times it follows it.\n",
    "    \n",
    "    Remeber to lowercase the words!\n",
    "\n",
    "    Example:\n",
    "    >>> word_counts(\"The cat chased the dog\")\n",
    "    {'cat': 1, 'chased': 1, 'dog': 1, 'the': 2}\n",
    "    '''\n",
    "    dict_doc = {}\n",
    "    \n",
    "    return (Counter(x.lower() for x in document.split(\" \")))\n",
    "    \n",
    "#     for item in document.split(\" \"):\n",
    "       \n",
    "        \n",
    "#         if item.lower() in dict_doc:\n",
    "#             dict_doc[item.lower()]+=1\n",
    "#         else:\n",
    "#             dict_doc[item.lower()]=1\n",
    "            \n",
    "#     return (dict_doc)\n",
    "    \n",
    "            "
   ]
  },
  {
   "cell_type": "code",
   "execution_count": 177,
   "metadata": {
    "collapsed": false
   },
   "outputs": [],
   "source": [
    "assert word_counts(\"The cat chased the dog\") == {'cat': 1, 'chased': 1, 'dog': 1, 'the': 2}"
   ]
  },
  {
   "cell_type": "markdown",
   "metadata": {},
   "source": [
    "![](../images/whos-awesome.jpg)"
   ]
  },
  {
   "cell_type": "markdown",
   "metadata": {},
   "source": [
    "<br>\n",
    "<br> \n",
    "<br>\n",
    "\n",
    "----"
   ]
  }
 ],
 "metadata": {
  "kernelspec": {
   "display_name": "Python [Root]",
   "language": "python",
   "name": "Python [Root]"
  },
  "language_info": {
   "codemirror_mode": {
    "name": "ipython",
    "version": 3
   },
   "file_extension": ".py",
   "mimetype": "text/x-python",
   "name": "python",
   "nbconvert_exporter": "python",
   "pygments_lexer": "ipython3",
   "version": "3.5.2"
  }
 },
 "nbformat": 4,
 "nbformat_minor": 0
}
