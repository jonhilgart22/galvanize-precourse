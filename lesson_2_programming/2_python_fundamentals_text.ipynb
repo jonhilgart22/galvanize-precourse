{
 "cells": [
  {
   "cell_type": "markdown",
   "metadata": {},
   "source": [
    "----\n",
    "Python Practice\n",
    "===\n",
    "\n",
    "Let's continue with our Python practice now with text."
   ]
  },
  {
   "cell_type": "markdown",
   "metadata": {},
   "source": [
    "## Word length"
   ]
  },
  {
   "cell_type": "code",
   "execution_count": null,
   "metadata": {
    "collapsed": true
   },
   "outputs": [],
   "source": [
    "def word_length(word):\n",
    "    ''' Given a word (str), return number of characters (int).\n",
    "\n",
    "    Example:\n",
    "    >>> word_length(\"Galvanize!\")\n",
    "    10\n",
    "    '''\n",
    "    pass"
   ]
  },
  {
   "cell_type": "code",
   "execution_count": null,
   "metadata": {
    "collapsed": true
   },
   "outputs": [],
   "source": [
    "assert word_length(\"Galvanize!\") == 10"
   ]
  },
  {
   "cell_type": "markdown",
   "metadata": {},
   "source": [
    "<details><summary>\n",
    "Click here for a hint...\n",
    "</summary>\n",
    "Check out [`len`](https://docs.python.org/3/library/functions.html#len)\n",
    "</details>"
   ]
  },
  {
   "cell_type": "code",
   "execution_count": null,
   "metadata": {
    "collapsed": true
   },
   "outputs": [],
   "source": [
    "def word_count(phrase):\n",
    "    ''' Given a phrase (str), return number of words (int).\n",
    "\n",
    "    Example:\n",
    "    >>> word_count(\"Welcome to Galvanize!\")\n",
    "    3\n",
    "    '''\n",
    "    pass"
   ]
  },
  {
   "cell_type": "code",
   "execution_count": null,
   "metadata": {
    "collapsed": true
   },
   "outputs": [],
   "source": [
    "assert word_length(\"Welcome to Galvanize!\") == 3"
   ]
  },
  {
   "cell_type": "markdown",
   "metadata": {},
   "source": [
    "<details><summary>\n",
    "Click here for a hint...\n",
    "</summary>\n",
    "Check out [`str.split()`](https://docs.python.org/3/library/stdtypes.html#string-methods)\n",
    "</details>"
   ]
  },
  {
   "cell_type": "code",
   "execution_count": 11,
   "metadata": {
    "collapsed": true
   },
   "outputs": [],
   "source": [
    "def word_lengths(phrase):\n",
    "    '''\n",
    "    INPUT: string\n",
    "    OUTPUT: list of integers\n",
    "\n",
    "    Use list comprehension to find the length of each word in the phrase\n",
    "    (broken by spaces) and return the values in a list.\n",
    "\n",
    "    Example:\n",
    "    >>> word_lengths(\"Welcome to Galvanize!\")\n",
    "    [7, 2, 10]\n",
    "    '''\n",
    "    pass"
   ]
  },
  {
   "cell_type": "code",
   "execution_count": null,
   "metadata": {
    "collapsed": false
   },
   "outputs": [],
   "source": [
    "assert word_length(\"Welcome to Galvanize!\") == [7, 2, 10]"
   ]
  },
  {
   "cell_type": "markdown",
   "metadata": {},
   "source": [
    "## Manipulating strings"
   ]
  },
  {
   "cell_type": "code",
   "execution_count": null,
   "metadata": {
    "collapsed": true
   },
   "outputs": [],
   "source": [
    "def shift_on_character(string, char):\n",
    "    '''\n",
    "    INPUT: string, string\n",
    "    OUTPUT: string\n",
    "    \n",
    "    Find the first occurence of the character char and return the string with\n",
    "    everything before char moved to the end of the string. If char doesn't\n",
    "    appear, return the same string.\n",
    "    \n",
    "    This function may use more than one line.\n",
    "    \n",
    "    Example:\n",
    "    >>> shift_on_character(\"Galvanize\", \"v\")\n",
    "    'vanizeGal'\n",
    "    '''\n",
    "    pass\n"
   ]
  },
  {
   "cell_type": "code",
   "execution_count": null,
   "metadata": {
    "collapsed": true
   },
   "outputs": [],
   "source": []
  },
  {
   "cell_type": "code",
   "execution_count": null,
   "metadata": {
    "collapsed": true
   },
   "outputs": [],
   "source": [
    "def is_palindrome(string):\n",
    "    '''\n",
    "    INPUT: string\n",
    "    OUTPUT: boolean\n",
    "    \n",
    "    Return whether the given string is the same forwards and backwards.\n",
    "    \n",
    "    Example:\n",
    "    >>> is_palindrome(\"rats live on no evil star\")\n",
    "    True\n",
    "    '''\n",
    "    pass"
   ]
  },
  {
   "cell_type": "code",
   "execution_count": null,
   "metadata": {
    "collapsed": true
   },
   "outputs": [],
   "source": []
  },
  {
   "cell_type": "code",
   "execution_count": null,
   "metadata": {
    "collapsed": true
   },
   "outputs": [],
   "source": [
    "def alternate(L):\n",
    "    '''\n",
    "    INPUT: list\n",
    "    OUTPUT: list\n",
    "    \n",
    "    Use list slicing to return a list containing all the odd indexed elements\n",
    "    followed by all the even indexed elements.\n",
    "    \n",
    "    Example:\n",
    "    >>> alternate(['a', 'b', 'c', 'd', 'e', 'f', 'g'])\n",
    "    ['b', 'd', 'f', 'a', 'c', 'e', 'g']\n",
    "    '''\n",
    "    pass"
   ]
  },
  {
   "cell_type": "code",
   "execution_count": null,
   "metadata": {
    "collapsed": true
   },
   "outputs": [],
   "source": []
  },
  {
   "cell_type": "code",
   "execution_count": null,
   "metadata": {
    "collapsed": true
   },
   "outputs": [],
   "source": []
  },
  {
   "cell_type": "code",
   "execution_count": null,
   "metadata": {
    "collapsed": true
   },
   "outputs": [],
   "source": []
  },
  {
   "cell_type": "code",
   "execution_count": null,
   "metadata": {
    "collapsed": true
   },
   "outputs": [],
   "source": [
    "def filter_words(word_list, letter):\n",
    "    '''\n",
    "    INPUT: list of words, string\n",
    "    OUTPUT: list of words\n",
    "\n",
    "    Use filter to return the words from word_list which start with letter.\n",
    "\n",
    "    Example:\n",
    "    >>> filter_words([\"salumeria\", \"dandelion\", \"yamo\", \"doc loi\", \"rosamunde\",\n",
    "                      \"beretta\", \"ike's\", \"delfina\"], \"d\")\n",
    "    ['dandelion', 'doc loi', 'delfina']\n",
    "    '''\n",
    "    pass"
   ]
  },
  {
   "cell_type": "code",
   "execution_count": null,
   "metadata": {
    "collapsed": true
   },
   "outputs": [],
   "source": []
  },
  {
   "cell_type": "code",
   "execution_count": null,
   "metadata": {
    "collapsed": true
   },
   "outputs": [],
   "source": [
    "def acronym(phrase):\n",
    "    '''\n",
    "    INPUT: string\n",
    "    OUTPUT: string\n",
    "\n",
    "    Given a phrase, return the associated acronym by breaking on spaces and\n",
    "    concatenating the first letters of each word together capitalized.\n",
    "\n",
    "    Example:\n",
    "    >>> acronym(\"Galvanize way\")\n",
    "    'GW'\n",
    "\n",
    "    Hint: You can do this on one line using list comprehension and the join\n",
    "    method. Python has a builtin string method to uppercase strings.\n",
    "    '''\n",
    "    pass"
   ]
  },
  {
   "cell_type": "code",
   "execution_count": null,
   "metadata": {
    "collapsed": true
   },
   "outputs": [],
   "source": []
  },
  {
   "cell_type": "code",
   "execution_count": null,
   "metadata": {
    "collapsed": true
   },
   "outputs": [],
   "source": []
  },
  {
   "cell_type": "code",
   "execution_count": null,
   "metadata": {
    "collapsed": true
   },
   "outputs": [],
   "source": []
  },
  {
   "cell_type": "code",
   "execution_count": null,
   "metadata": {
    "collapsed": true
   },
   "outputs": [],
   "source": []
  },
  {
   "cell_type": "code",
   "execution_count": null,
   "metadata": {
    "collapsed": true
   },
   "outputs": [],
   "source": []
  },
  {
   "cell_type": "code",
   "execution_count": null,
   "metadata": {
    "collapsed": true
   },
   "outputs": [],
   "source": []
  },
  {
   "cell_type": "markdown",
   "metadata": {
    "collapsed": true
   },
   "source": [
    "---\n",
    "CONGRATS!!!\n",
    "---\n",
    "\n",
    "Keep being awesome:  \n",
    "![winner](../images/more_awesomeness.jpg)"
   ]
  },
  {
   "cell_type": "markdown",
   "metadata": {
    "collapsed": true
   },
   "source": [
    "<br>\n",
    "<br>\n",
    "<br>\n",
    "\n",
    "-----"
   ]
  }
 ],
 "metadata": {
  "kernelspec": {
   "display_name": "Python 3",
   "language": "python",
   "name": "python3"
  },
  "language_info": {
   "codemirror_mode": {
    "name": "ipython",
    "version": 3
   },
   "file_extension": ".py",
   "mimetype": "text/x-python",
   "name": "python",
   "nbconvert_exporter": "python",
   "pygments_lexer": "ipython3",
   "version": "3.5.1"
  }
 },
 "nbformat": 4,
 "nbformat_minor": 0
}
