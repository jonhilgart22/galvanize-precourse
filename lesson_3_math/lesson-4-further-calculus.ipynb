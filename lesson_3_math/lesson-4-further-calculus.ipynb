{
 "cells": [
  {
   "cell_type": "markdown",
   "metadata": {
    "collapsed": true
   },
   "source": [
    "# Lesson 4: Further Calculus\n"
   ]
  },
  {
   "cell_type": "markdown",
   "metadata": {},
   "source": [
    "## Sequences and Series\n",
    "\n",
    "Sequences are perhaps the most fundamental basic mathematical concept you will need in data science, perhaps more so than any other thing.\n",
    "\n",
    "A sequence, simply put, is just a series of indexed numbers. The word sequence almost always refers to the concept of an **ordered sequence,** meaning that the sequence describes an underlying mathematical pattern. Elements of a sequence are called **terms** and are typically given an **indexing** of $i$ or $n$. Thus for a given sequence $a$ with $n$ total terms we might write:\n",
    "\n",
    "$$ a = {a_1, a_2, a_3, \\ldots, a_n}$$\n",
    "\n",
    "So that the third term of $a$ is $a_3$.\n",
    "\n",
    "Sequences can be finite or infinite in number of terms, there are no restrictions. Examples of sequences might include:\n",
    "\n",
    "$$ a\\ |\\ a_i = 2i+1, i \\in \\{0,\\ldots,\\infty\\}$$\n",
    "\n",
    "$$ 0, 1, 3, 5, 7, 9, 11, ...$$ (sequence of prime numbers) \n",
    "\n",
    "$$ a\\ |\\ a_i = a_{i-1}+a_{i-2}, i \\in \\{2,\\ldots,\\infty\\}$$\n",
    "\n",
    "$$ 1, 1, 2, 3, 5, 8, 13, 21, 34, 55, $$ (fibonacci sequence)\n",
    "\n",
    "Sequences are generalized as **series** when we add up the terms of the sequence, yielding a sum. In applied mathematics, it is far more common to discuss series rather than sequences, and we typically discuss those series for which we have a mathematical formula for the terms, as per the examples given above. We discuss this in terms of a summation over the index of the sequence, using the sum symbol, $\\sum$, an uppercase greek \"S\". The lowercase indexing sets the start of the sum, the top indexing is the stopping point of the sum.\n",
    "\n",
    "$$ \\sum_{i=1}^{N}a_i $$\n",
    "\n",
    "The above series is a sum from the first term of the series to the $N$th. In python we might try representing the series a as a list:"
   ]
  },
  {
   "cell_type": "code",
   "execution_count": 1,
   "metadata": {
    "collapsed": true
   },
   "outputs": [],
   "source": [
    "a = [2, 4, 6, 8, 10]\n",
    "print a"
   ]
  },
  {
   "cell_type": "markdown",
   "metadata": {},
   "source": [
    "Note that we can also generate this list from scratch using a [list comprehension](http://www.python-course.eu/list_comprehension.php):"
   ]
  },
  {
   "cell_type": "code",
   "execution_count": 3,
   "metadata": {
    "collapsed": false
   },
   "outputs": [
    {
     "name": "stdout",
     "output_type": "stream",
     "text": [
      "[0, 2, 4, 6, 8]\n"
     ]
    }
   ],
   "source": [
    "a = [2*i for i in xrange(6)]\n",
    "print a"
   ]
  },
  {
   "cell_type": "markdown",
   "metadata": {},
   "source": [
    "Python enables us to sum the terms quite easily, or we can try doing it with a **loop.**"
   ]
  },
  {
   "cell_type": "code",
   "execution_count": 5,
   "metadata": {
    "collapsed": false
   },
   "outputs": [
    {
     "name": "stdout",
     "output_type": "stream",
     "text": [
      "20\n"
     ]
    }
   ],
   "source": [
    "print sum(a)"
   ]
  },
  {
   "cell_type": "code",
   "execution_count": 6,
   "metadata": {
    "collapsed": false
   },
   "outputs": [
    {
     "name": "stdout",
     "output_type": "stream",
     "text": [
      "20\n"
     ]
    }
   ],
   "source": [
    "S = 0\n",
    "for i in xrange(len(a)):\n",
    "    S += a[i]\n",
    "print S"
   ]
  },
  {
   "cell_type": "markdown",
   "metadata": {},
   "source": [
    "Practice:\n",
    "\n",
    "1. Expand the series $\\sum_{i=0}^{10}\\frac{1}{2i+2}$. Calculate this sum with python.\n",
    "\n",
    "2. List the first four terms of the sequence $A_n = \\dfrac{(-1)^n}{(n+1)!}$\n",
    "\n",
    "3. Compute the series sum of the above sequence $A_n$  up to the tenth term. You will need the [factorial](https://docs.python.org/3/library/math.html) function. "
   ]
  },
  {
   "cell_type": "code",
   "execution_count": null,
   "metadata": {
    "collapsed": true
   },
   "outputs": [],
   "source": [
    "## Infinite Sums\n",
    "\n"
   ]
  },
  {
   "cell_type": "code",
   "execution_count": null,
   "metadata": {
    "collapsed": true
   },
   "outputs": [],
   "source": [
    "## Limits"
   ]
  },
  {
   "cell_type": "code",
   "execution_count": null,
   "metadata": {
    "collapsed": true
   },
   "outputs": [],
   "source": [
    "## The Riemann Sum"
   ]
  },
  {
   "cell_type": "markdown",
   "metadata": {},
   "source": [
    "## Integration by Parts\n"
   ]
  },
  {
   "cell_type": "markdown",
   "metadata": {},
   "source": [
    "## Integration of Trig Functions"
   ]
  },
  {
   "cell_type": "code",
   "execution_count": null,
   "metadata": {
    "collapsed": true
   },
   "outputs": [],
   "source": [
    "## Integration: Substitution"
   ]
  },
  {
   "cell_type": "code",
   "execution_count": null,
   "metadata": {
    "collapsed": true
   },
   "outputs": [],
   "source": [
    "## Comparison Test for Integration"
   ]
  },
  {
   "cell_type": "code",
   "execution_count": null,
   "metadata": {
    "collapsed": true
   },
   "outputs": [],
   "source": [
    "## Approximation of Definite Integrals"
   ]
  },
  {
   "cell_type": "code",
   "execution_count": null,
   "metadata": {
    "collapsed": true
   },
   "outputs": [],
   "source": [
    "## Applications of Integration\n",
    "\n",
    "    ### Surface area\n",
    "    \n",
    "    ### Center of Mass\n",
    "    \n",
    "    ### Probability integrals"
   ]
  },
  {
   "cell_type": "code",
   "execution_count": null,
   "metadata": {
    "collapsed": true
   },
   "outputs": [],
   "source": [
    "## Limits in several variables"
   ]
  },
  {
   "cell_type": "code",
   "execution_count": null,
   "metadata": {
    "collapsed": true
   },
   "outputs": [],
   "source": [
    "## Partial Derivatives"
   ]
  }
 ],
 "metadata": {
  "kernelspec": {
   "display_name": "Python 2",
   "language": "python",
   "name": "python2"
  },
  "language_info": {
   "codemirror_mode": {
    "name": "ipython",
    "version": 2
   },
   "file_extension": ".py",
   "mimetype": "text/x-python",
   "name": "python",
   "nbconvert_exporter": "python",
   "pygments_lexer": "ipython2",
   "version": "2.7.11"
  }
 },
 "nbformat": 4,
 "nbformat_minor": 0
}
