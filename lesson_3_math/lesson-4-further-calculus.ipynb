{
 "cells": [
  {
   "cell_type": "markdown",
   "metadata": {
    "collapsed": true
   },
   "source": [
    "# Lesson 4: Further Calculus\n"
   ]
  },
  {
   "cell_type": "markdown",
   "metadata": {},
   "source": [
    "## [Sequences and Series](https://www.khanacademy.org/math/integral-calculus/sequences-series-approx-calc)\n",
    "\n",
    "Sequences are perhaps the most fundamental basic mathematical concept you will need in data science, perhaps more so than any other thing.\n",
    "\n",
    "A sequence, simply put, is just a series of indexed numbers. The word sequence almost always refers to the concept of an **ordered sequence,** meaning that the sequence describes an underlying mathematical pattern. Elements of a sequence are called **terms** and are typically given an **indexing** of $i$ or $n$. Thus for a given sequence $a$ with $n$ total terms we might write:\n",
    "\n",
    "$$ a = {a_1, a_2, a_3, \\ldots, a_n}$$\n",
    "\n",
    "So that the third term of $a$ is $a_3$.\n",
    "\n",
    "Sequences can be finite or infinite in number of terms, there are no restrictions. Examples of sequences might include:\n",
    "\n",
    "$$ a\\ |\\ a_i = 2i+1, i \\in \\{0,\\ldots,\\infty\\}$$\n",
    "\n",
    "$$ 0, 1, 3, 5, 7, 9, 11, ...$$ (sequence of prime numbers) \n",
    "\n",
    "$$ a\\ |\\ a_i = a_{i-1}+a_{i-2}, i \\in \\{2,\\ldots,\\infty\\}$$\n",
    "\n",
    "$$ 1, 1, 2, 3, 5, 8, 13, 21, 34, 55, $$ (fibonacci sequence)\n",
    "\n",
    "Sequences are generalized as **series** when we add up the terms of the sequence, yielding a sum. In applied mathematics, it is far more common to discuss series rather than sequences, and we typically discuss those series for which we have a mathematical formula for the terms, as per the examples given above. We discuss this in terms of a summation over the index of the sequence, using the sum symbol, $\\sum$, an uppercase greek \"S\". The lowercase indexing sets the start of the sum, the top indexing is the stopping point of the sum.\n",
    "\n",
    "$$ \\sum_{i=1}^{N}a_i $$\n",
    "\n",
    "The above series is a sum from the first term of the series to the $N$th. In python we might try representing the series a as a list:"
   ]
  },
  {
   "cell_type": "code",
   "execution_count": 1,
   "metadata": {
    "collapsed": true
   },
   "outputs": [],
   "source": [
    "a = [2, 4, 6, 8, 10]\n",
    "print a"
   ]
  },
  {
   "cell_type": "markdown",
   "metadata": {},
   "source": [
    "Note that we can also generate this list from scratch using a [list comprehension](http://www.python-course.eu/list_comprehension.php):"
   ]
  },
  {
   "cell_type": "code",
   "execution_count": 3,
   "metadata": {
    "collapsed": false
   },
   "outputs": [
    {
     "name": "stdout",
     "output_type": "stream",
     "text": [
      "[0, 2, 4, 6, 8]\n"
     ]
    }
   ],
   "source": [
    "a = [2*i for i in xrange(6)]\n",
    "print a"
   ]
  },
  {
   "cell_type": "markdown",
   "metadata": {},
   "source": [
    "Python enables us to sum the terms quite easily, or we can try doing it with a **loop.**"
   ]
  },
  {
   "cell_type": "code",
   "execution_count": 5,
   "metadata": {
    "collapsed": false
   },
   "outputs": [
    {
     "name": "stdout",
     "output_type": "stream",
     "text": [
      "20\n"
     ]
    }
   ],
   "source": [
    "print sum(a)"
   ]
  },
  {
   "cell_type": "code",
   "execution_count": 6,
   "metadata": {
    "collapsed": false
   },
   "outputs": [
    {
     "name": "stdout",
     "output_type": "stream",
     "text": [
      "20\n"
     ]
    }
   ],
   "source": [
    "S = 0\n",
    "for i in xrange(len(a)):\n",
    "    S += a[i]\n",
    "print S"
   ]
  },
  {
   "cell_type": "markdown",
   "metadata": {},
   "source": [
    "Practice:\n",
    "\n",
    "1. Expand the series $\\sum_{i=0}^{10}\\frac{1}{2i+2}$. Calculate this sum with python.\n",
    "\n",
    "2. List the first four terms of the sequence $A_n = \\dfrac{(-1)^n}{(n+1)!}$\n",
    "\n",
    "3. Compute the series sum of the above sequence $A_n$  up to the tenth term using python. You will probably want to use the [factorial](https://docs.python.org/3/library/math.html) function. "
   ]
  },
  {
   "cell_type": "markdown",
   "metadata": {},
   "source": [
    "## [Limits](https://www.khanacademy.org/math/precalculus/limit-topic-precalc/limits-precalc/v/introduction-to-limits-hd)\n",
    "\n",
    "Implicit in the concept of a sequence is the notion of a **limit**. It should be obvious that we can create sequences with an unlimited number of terms, each term smaller than the last. An example of this might be the simple series:\n",
    "\n",
    "$$A_n = \\dfrac{n}{n!}$$\n",
    "\n",
    "It should be obvious after writing down a few terms of this series that the terms become infinitely small as the value of $n$ becomes large.\n",
    "\n",
    "### Zeno's Paradox\n",
    "\n",
    "This ancient concept is most often described as Zeno's dichotomy. Zeno was one of many philosophers who studied this problem, without a complete result. It is likely that the problem existed long before Zeno studied it, however. It is posed as follows:\n",
    "\n",
    "    A person must travel some finite distance dAB from point A to point B. Before they arrive at the end, they must first travel half the distance, 0.5dAB, then they must travel half the remaining distance, 0.75dAB, and half again, 0.875dAB and so on. If the remaining distance to the destination is always finite, how is it possible that the person ever arrives at their destination?\n",
    "    \n",
    "Meditate on this concept for a moment.\n",
    "\n",
    "How is it possible that anything gets anywhere if we must first cross half the distance, then half the remaining distance, and so on? Something is missing. This concept is called the **limit**, and was proposed first by Archimedes in determining the [area under the curve of the parabola](https://en.wikipedia.org/wiki/The_Quadrature_of_the_Parabola), using an entirely geometric (equally viable to other methods) method. \n",
    "\n",
    "In this case, archimedes was interested in the series:\n",
    "\n",
    "$$ 1 + \\dfrac{1}{4} + \\dfrac{1}{16} + \\dfrac{1}{64} + \\dfrac{1}{256} + \\cdots $$ \n",
    "\n",
    "Which can be rewritten:\n",
    "\n",
    "$$ T_n = \\sum_{n=1}^{\\infty}\\dfrac{1}{4^n} $$\n",
    "\n",
    "Archimedes solved this by drawing the following self-explanatory figure:\n",
    "\n",
    "![geometric_squares](./images/GeometricSquares.svg)\n",
    "\n",
    "This technique is called the *method of exhaustion*. Although we need an infinite number of squares to completely divide the area of the unit square, we can see that the **area of the square itself is finite.** The sum of smaller squares actually converges to a finite area.\n",
    "\n",
    "(Please read the [wiki article](https://en.wikipedia.org/wiki/Zeno's_paradoxes#Proposed_solutions) for a longer discussion on solutions that have been proposed for Zeno's paradox.)\n",
    "\n",
    "Thus the finite area is found in the **limit** of the above series $T_n$. \n",
    "\n",
    "### [Limits of Sequences](https://www.khanacademy.org/math/integral-calculus/sequences-series-approx-calc/seq-conv-diverg/v/definition-of-limit-of-a-sequence-and-sequence-convergence)\n",
    "\n",
    "Limits of sequences and series have a clear definition: The limit of a sequence or series $A_n$ is found when we can find a number $L$ such that\n",
    "\n",
    "$$\\lim_{n \\rightarrow \\infty}A_n = L$$\n",
    "\n",
    "This exists when we can find some bounding number $\\epsilon > 0$ for each member $M$ where $M<n$ of the series such that the $M$th term of the series is less than $L$:\n",
    "\n",
    "$$|a_n - L| < \\epsilon $$\n",
    "\n",
    "for $n > M$.\n",
    "\n",
    "We can see that this means that if we pick a point $M<n$ on the number line, that all successive differences between the next terms and the limit decrease beyond that point, i.e. the numbers are converging to $L$. This special definition means that even if we have series with alternating negative and positive terms, they can converge to a limit as well. \n"
   ]
  },
  {
   "cell_type": "markdown",
   "metadata": {},
   "source": [
    "## [Convergence of Sequences](https://www.khanacademy.org/math/integral-calculus/sequences-series-approx-calc/seq-conv-diverg/v/proving-a-sequence-converges)\n",
    "\n",
    "Again touching upon sequences, we are interested in whether or not a given sequence converges or diverges. That is to say, if the sequence has a defined limit or not. There are several ways to approach this topic, but the best way is to look at the expansion of the terms as they tend towards infinity. Typically, we focus on the **rate of growth** of elements of the sequence term. \n",
    "\n",
    "As a general rule, sequences without a denominator do not converge (there are several very important exceptions). For example:\n",
    "\n",
    "$$ A_n = n^2 $$\n",
    "$$ A_n = e^4n + n^2 $$\n",
    "\n",
    "and so on clearly do not converge. If you wish to test this for yourself, try printing out a few terms using python and see if there is ever a case where a later term is larger than an earlier term. (Note that this is the definition of a limit)\n",
    "\n",
    "More complex cases involve the use of intuition and exploration to determine if it makes sense that a sequence converges (recall we are simply trying to determine that the terms stop expanding at some point, not trying to calculate a sum of terms...yet). For example consider the following sequence:\n",
    "\n",
    "$$ A_n = \\dfrac{n^3+2n^2+1}{3n^3+n} $$\n",
    "\n",
    "Obviously, the numerator and denominator grow enormous for large n. However, their product does not tend wildly, because the large numbers balance each other out. Note that for large n, the n and n^2 term scarcely matter:\n"
   ]
  },
  {
   "cell_type": "code",
   "execution_count": 13,
   "metadata": {
    "collapsed": true
   },
   "outputs": [],
   "source": [
    "def A(n):\n",
    "    return (n**3+2*n**2+1)/float(3*n**3+n)"
   ]
  },
  {
   "cell_type": "code",
   "execution_count": 29,
   "metadata": {
    "collapsed": false
   },
   "outputs": [
    {
     "name": "stdout",
     "output_type": "stream",
     "text": [
      "n: 1 n^2: 1 n^3: 1 A[1]: 1.00000000\n",
      "n: 91 n^2: 8281 n^3: 753571 A[91]: 0.34064607\n",
      "n: 181 n^2: 32761 n^3: 5929741 A[181]: 0.33701320\n",
      "n: 271 n^2: 73441 n^3: 19902511 A[271]: 0.33579185\n",
      "n: 361 n^2: 130321 n^3: 47045881 A[361]: 0.33517921\n",
      "n: 451 n^2: 203401 n^3: 91733851 A[451]: 0.33481098\n",
      "n: 541 n^2: 292681 n^3: 158340421 A[541]: 0.33456524\n",
      "n: 631 n^2: 398161 n^3: 251239591 A[631]: 0.33438958\n",
      "n: 721 n^2: 519841 n^3: 374805361 A[721]: 0.33425776\n",
      "n: 811 n^2: 657721 n^3: 533411731 A[811]: 0.33415520\n",
      "n: 901 n^2: 811801 n^3: 731432701 A[901]: 0.33407312\n",
      "n: 991 n^2: 982081 n^3: 973242271 A[991]: 0.33400594\n",
      "n: 1081 n^2: 1168561 n^3: 1263214441 A[1081]: 0.33394995\n",
      "n: 1171 n^2: 1371241 n^3: 1605723211 A[1171]: 0.33390257\n"
     ]
    }
   ],
   "source": [
    "for n in xrange(1,1201,90):\n",
    "    print \"n: %s n^2: %s n^3: %s A[%s]: %8.8f\" % (n, n**2, n**3, n, A(n))"
   ]
  },
  {
   "cell_type": "markdown",
   "metadata": {},
   "source": [
    "Now we can plot the progress of the terms and we can see that the only terms that actually matter are in $n^3$, making the sequence effectively the same as:\n",
    "\n",
    "$$ \\lim_{n \\rightarrow \\infty} \\dfrac{n^3+2n^2+1}{3n^3+n} \\simeq \\lim_{n \\rightarrow \\infty} \\dfrac{n^3}{3n^3} $$\n",
    "\n",
    "We see that the $n^3$ terms cancel, leaving us $\\dfrac{1}{3}$ as the limit, and the plot justifies this conclusion."
   ]
  },
  {
   "cell_type": "code",
   "execution_count": 34,
   "metadata": {
    "collapsed": false
   },
   "outputs": [
    {
     "data": {
      "text/plain": [
       "[<matplotlib.lines.Line2D at 0x1073c8050>]"
      ]
     },
     "execution_count": 34,
     "metadata": {},
     "output_type": "execute_result"
    },
    {
     "data": {
      "image/png": "[encoded data removed]",
      "text/plain": [
       "<matplotlib.figure.Figure at 0x1071ac5d0>"
      ]
     },
     "metadata": {},
     "output_type": "display_data"
    }
   ],
   "source": [
    "%matplotlib inline\n",
    "import matplotlib.pyplot as plt\n",
    "terms=[]\n",
    "for n in xrange(1,401,10):\n",
    "    terms.append(A(n))\n",
    "plt.plot(terms)"
   ]
  },
  {
   "cell_type": "markdown",
   "metadata": {},
   "source": [
    "## [Infinite Series]()\n",
    "\n",
    "### Convergence\n",
    "\n",
    "Series can be written with infinite terms. In many cases this indicates a series whose sum proceeds towards infinity, for example:\n",
    "\n",
    "$$ \\sum_{i=1}^{\\infty} 2i+1 = \\infty$$\n",
    "\n",
    "\n",
    "but there are many special cases where the sum of infinitely many terms converges to a single number. This is because later terms in the series become smaller and smaller, tending towards 0 as they go. Although there are an infinite number of terms in the sum, the terms become infinitely small **as they arrive at infinity**, meaning that the whole sum is finite.\n",
    "\n",
    "1. Comparison by principal term (Telescoping series)\n",
    "2. L'Hospital's rule\n",
    "\n",
    "\n",
    "### [Geometric Series](https://en.wikipedia.org/wiki/Geometric_series)\n"
   ]
  },
  {
   "cell_type": "markdown",
   "metadata": {},
   "source": [
    "## [Taylor's and Maclaurin's Series Approximations](https://www.khanacademy.org/math/integral-calculus/sequences-series-approx-calc/taylor-series/v/generalized-taylor-series-approximation)\n",
    "\n",
    "\n",
    "\n"
   ]
  },
  {
   "cell_type": "markdown",
   "metadata": {},
   "source": [
    "## [Generating Functions](https://en.wikipedia.org/wiki/Generating_function)\n",
    "\n",
    "Generating functions are exactly like series, in fact, they *are* series in the most important sense. Instead of writing out the terms of a **sequence** directly, they are treated as terms of a series. This makes it easy to discuss and write sequences more clearly and more directly than trying to write them out term-by-term. The generating function allows us to simply generate the needed term of a sequence. \n",
    "\n",
    "There are various types of generating functions, including ordinary generating functions, exponential generating functions, Lambert series, Bell series, and Dirichlet series. The most obvious generating function that we treat in detail here is the generating function of the geometric series:\n",
    "\n",
    "$$ 1 + ax + a^2x^2 + a^3x^3 + \\cdots + a^nx^n $$\n",
    "\n",
    "This can be written as its obvious generating function:\n",
    "\n",
    "$$ \\sum_{n=0}^{\\infty}(ax)^n $$\n",
    "\n",
    "and as we have seen above, it converges to a single known value:\n",
    "\n",
    "$$ \\sum_{n=0}^{\\infty}(ax)^n = \\dfrac{1}{1-ax} $$\n",
    "\n",
    "### Generating the Fibonacci sequence\n",
    "\n",
    "Generating functions are tremendously important to the study of counting and algorithms, and are the main tool used in the study of analytic combinatorics. You should make yourself familiar with them. As a demonstration of the great power of generating functions and their potential use in computation, we will discuss their application to the Fibonacci sequence.\n",
    "\n",
    "Recalling the Fibonacci numbers:\n",
    "\n",
    "$$f_0 = 0$$\n",
    "$$f_1 = 1$$\n",
    "$$f_2 = 1$$\n",
    "$$f_3 = 2$$\n",
    "$$f_4 = 3$$\n",
    "$$f_5 = 5$$\n",
    "$$f_6 = 8$$\n",
    "\n",
    "Now we can whip this into a meaningful sequence:\n",
    "\n",
    "$$ 0, f_0+f_1, f_1+f_2, f_2+f_3, \\ldots $$ \n",
    "\n",
    "And we will construct the generating function for this sequence from the base ordinary generating function:\n",
    "\n",
    "$$F(x) = f_0+f_1x+f_2x^2+f_3x^3+\\cdots+f_nx^n$$\n",
    "\n",
    "Note that the $n$th term of the fibonacci sequence is a *coefficient* in our formulation of the generating function. Now we set the elements of each set of members in the sequence to the respective member of the generating function and sum together:\n",
    "\n",
    "$$0, 1, 0, 0, 0, \\ldots  = x $$\n",
    "$$0, f_0, f_1, f_2, f_3, \\ldots = xF(x) $$\n",
    "$$0, f_1, f_2, f_3, f_4, \\ldots = x^2F(x) $$\n",
    "\n",
    "Summing up these terms we find that:\n",
    "\n",
    "$$ 0, f_0+f_1, f_1+f_2, f_2+f_3, \\ldots = x+xF(x)+x^2F(x) = F(x)$$\n",
    "\n",
    "So we have a function defined in terms of recursive multiples of itself, $F(x)$:\n",
    "\n",
    "$$ F(x) = x+xF(x)+x^2F(x)$$\n",
    "\n",
    "Gathering terms and solving through:\n",
    "\n",
    "$$ F(x)(1-x-x^2) = x $$\n",
    "$$ F(x) = \\dfrac{x}{1-x-x^2}$$\n",
    "\n",
    "And so we have a generating function for the Fibonacci sequence. However, it does not yet yield a formula for the nth member of the fibonacci sequence. In order to do so, we need to derive its coefficients. We may proceed by using the method of partial fractions that we learned in middle school - we factor the denominator:\n",
    "\n",
    "$$\\dfrac{x}{1-x-x^2} = \\dfrac{A}{(1-\\alpha_1\\ x)} + \\dfrac{B}{(1-\\alpha_2\\ x)}$$\n",
    "\n",
    "If we set x = 1, we can get:\n",
    "\n",
    "$$-1 = \\dfrac{A}{(1-\\alpha_1)} + \\dfrac{B}{(1-\\alpha_2)}$$\n",
    "\n",
    "x = -1, we get:\n",
    "\n",
    "$$1 = \\dfrac{A}{(1+\\alpha_1)} + \\dfrac{B}{(1+\\alpha_2)}$$\n",
    "\n",
    "We can use elementary math to find solutions for $A$ and $B$ using two equations in two unknowns:\n",
    "\n",
    "$$A = \\dfrac{1}{\\sqrt{5}} = \\dfrac{1}{\\sqrt{\\alpha_1-\\alpha_2}} $$\n",
    "$$B = -\\dfrac{1}{\\sqrt{5}} = -\\dfrac{1}{\\sqrt{\\alpha_1-\\alpha_2}} $$\n",
    "\n",
    "Now we have a partial fractions expansion of the function:\n",
    "\n",
    "$$\\dfrac{x}{1-x-x^2} = \\dfrac{1}{\\sqrt{5}}(\\dfrac{1}{(1-\\alpha_1\\ x)} + \\dfrac{2}{(1-\\alpha_2\\ x)})$$\n",
    "\n",
    "Note that the two terms in $\\alpha$ are just geometric series (!) and now we can simplify by opening up the geometric series:\n",
    "\n",
    "$$\\dfrac{x}{1-x-x^2} = \\dfrac{1}{\\sqrt{5}}((1+\\alpha_1\\ x + \\alpha_1^2\\ x^2 + \\cdots)-(1+\\alpha_2\\ x + \\alpha_2^2\\ x^2 + \\cdots))$$\n",
    "\n",
    "Behold! The first terms cancel, leaving the terms of the sequence described as only a simple fraction involving the sum of $\\alpha$:\n",
    "\n",
    "$$f_n = \\dfrac{\\alpha_1^n-\\alpha_2^n}{\\sqrt{5}}$$\n",
    "\n",
    "These are the coefficients of the generating function in $x$, but are also the terms of the Fibonacci sequence:\n",
    "\n",
    "$$f_n = \\dfrac{1}{\\sqrt{5}}\\left(\\left(\\frac{1+\\sqrt{5}}{2}\\right)^n-\\left(\\frac{1-\\sqrt{5}}{2}\\right)^n\\right)$$\n",
    "\n",
    "So the complex terms of the fibonacci sequence can be represented as a closed form series with trancendental numbers in its formulation, releasing us from the obligation of having to store previous integer terms. Hopefully you can grasp the astonishing and frightening power of this result."
   ]
  },
  {
   "cell_type": "markdown",
   "metadata": {},
   "source": [
    "Practice:\n",
    "\n",
    "1. Validate this result with a short python function. \n",
    "2. Try writing a function to calculate the fibonacci sequence up to n terms.\n",
    "3. Use the above formula to compare with your function. What happens when we use the classical method of fibonacci series calculation for large n on the computer?"
   ]
  },
  {
   "cell_type": "markdown",
   "metadata": {},
   "source": [
    "## The Riemann Integral\n",
    "\n",
    "Make sure to watch all of the below posted videos so that you understand this topic completely.\n",
    "\n",
    "### [The Riemann Sum](https://www.khanacademy.org/math/integral-calculus/indefinite-definite-integrals/riemann-sums/v/simple-riemann-approximation-using-rectangles)\n",
    "\n",
    "\n",
    "A Riemann sum is an approximation to the area under a curve (or length of line) using a set of geometrical objects (usually rectangles or trapezoids). This takes the form of a sum of a function times a finite difference describing the dimensions of the geometrical objects. The geometrical objects' width $\\Delta x = x_{i}-x_{i-1}$ is called the **partition** of x, indicating that the x-dimension has been subdivided into chunks, each chunk  called $x_i$. This process is also called *discretization*:\n",
    "\n",
    "$$\\sum_{i=1}^{N} f(x_{i}^{*})\\ \\Delta\\ x$$\n",
    "\n",
    "The partitions are normally written as being equal in size, but the point at which we evaluate $f(x)$, $x_{i}^{*}$, can be flexible. In general, we assume that the best possible point $x_{i}^{*}$ is chosen for the approximation at each interval $i$ in the partition. \n",
    "\n",
    "Solving problems with the Riemann sum requires more space than is practical here. \n",
    "\n",
    "**Please review the solved example at** [this link](http://tutorial.math.lamar.edu/Classes/CalcI/AreaProblem.aspx) \n",
    "\n",
    "\n",
    "### [The Riemann Integral](https://www.khanacademy.org/math/integral-calculus/indefinite-definite-integrals/riemann-sums/v/riemann-sums-and-integrals)\n",
    "\n",
    "\n",
    "A Riemann integral is simply a riemann sum but taken in the limit that the size of the partition goes to 0, i.e. the rectangles become infinitely thin and there become infinitely many of them:\n",
    "\n",
    "![integral](./images/riemann_integral.png)\n",
    "\n",
    "\n",
    "This is an **infinite series** of rectangles, all with height $f(x_i^{*})$ and width $\\Delta\\ x$. The partition is defined over the interval from $a$ to $b$:\n",
    "\n",
    "$$a<= x_0 < x_1 < x_2 < x_3 < \\cdots < x_n <= b$$\n",
    "\n",
    "Thus we have the definiton of a definite integral, the calculation of the area under a curve.\n",
    "\n",
    "$$\\lim_{\\Delta\\ x \\rightarrow 0}\\sum_{i=1}^{N}f(x_{i}^{*}) \\Delta\\ x = \\int_{a}^{b} f(x)dx$$\n",
    "\n",
    "Note that as $\\Delta\\ x \\rightarrow 0$, $N \\rightarrow \\infty$. \n",
    "\n",
    "This is to be differentiated from an **indefinite integral** or **antiderivative** only by its numerical nature. An [antiderivative](https://www.khanacademy.org/math/integral-calculus/indefinite-definite-integrals/indefinite-integrals/v/antiderivatives-and-indefinite-integrals) has already been discussed in the previous lesson as a simple integral, but is only defined over smooth, continuous functions, unlike Riemann integrals, which are far more diverse and defined in many more circumstances.  \n",
    "\n",
    "The Riemann integral is only used in practice as a theoretical construct, but that should not diminish its conceptual value to you in the case of practical problems. [Numerical integration](https://en.wikipedia.org/wiki/Numerical_integration) (used in practice) is performed with a process much like Riemann integration, and is the most common application of computers in many fields. Symbolic results are used in data science wherever exact solutions are possible.\n",
    "\n",
    "Theoretical methods like Riemann integrals are sometimes used in data science when we extract new terms for equations. In this case, the above Riemann integral is too blunt an instrument; it is far more common to use other types of Riemann integrals, including the Riemann-Steltjies, Gauge and Lebesgue integrals. We do not treat them here in this precourse.\n",
    "\n",
    "Practice:\n",
    "\n",
    "[Work these practice problems](./Riemann_sum_practice.pdf)"
   ]
  },
  {
   "cell_type": "markdown",
   "metadata": {},
   "source": [
    "## [Integration by Parts](https://www.khanacademy.org/math/integral-calculus/integration-techniques/integration-by-parts/v/deriving-integration-by-parts-formula)\n",
    "\n",
    "The standard formula of integration can be generalized for more complicated functions of the form:\n",
    "\n",
    "$$ h(x) = f(x)g(x) $$\n",
    "\n",
    "using the standard product rule:\n",
    "\n",
    "$$ \\dfrac{d}{dx} f(x)g(x) = g'(x)f(x)+f'(x)g(x)$$\n",
    "\n",
    "Then taking the antiderivative of $ \\dfrac{d}{dx} f(x)g(x)$,\n",
    "\n",
    "$$ \\int \\dfrac{d}{dx} f(x)g(x) dx = \\int (g'(x)f(x)+f'(x)g(x)) dx = \\int g'(x)f(x) dx + \\int f'(x)g(x) dx $$\n",
    "\n",
    "The far left-hand side of the equation is simply the closed antiderivative:\n",
    "\n",
    "$$ f(x)g(x) = \\int \\dfrac{d}{dx} f(x)g(x) dx $$\n",
    "\n",
    "Set the closed form of the left side to the right side:\n",
    "\n",
    "$$ f(x)g(x) = \\int g'(x)f(x) dx + \\int f'(x)g(x) dx $$\n",
    "\n",
    "This is quite a useful substitution for the solution of integrals that consist of simple elementary functions.\n",
    "\n",
    "**For example:**\n",
    "\n",
    "$$ \\int x cos(x) dx $$\n",
    "\n",
    "To use integration by parts we make the following simple substitutions:\n",
    "\n",
    "$$ u = x, du = dx$$\n",
    "$$ dv = cos(x) dx, v = sin(x)$$\n",
    "\n",
    "Now we plug the substitutions into the above formality:\n",
    "\n",
    "$$ u v = \\int u dv + \\int v du $$\n",
    "\n",
    "Now we can put in the real terms and finish the integration\n",
    "\n",
    "$$ x sin(x) = \\int x cos(x) dx + \\int sin(x) dx $$\n",
    "\n",
    "$$ x sin(x) = \\int x cos(x) dx + -cos(x) + C $$\n",
    "\n",
    "And you'll see that our term that we're solving for is on the right. We rearrange to find the solution:\n",
    "\n",
    "$$ \\int x cos(x) dx = x sin(x)+cos(x) + C $$\n",
    "\n",
    "Sometimes this technique is called **\"uv integration\"**, and you'll see the result somewhat tiresomely written as follows:\n",
    "\n",
    "$$ \\int u dv = uv - \\int v du $$\n",
    "\n",
    "There are several twists and wrinkles to this method, including conditions where the process results in another uv integral needed in the $\\int v du$ term. Substitutions can be continued out until each term can be simply integrated.\n",
    "\n",
    "**Practice:**\n",
    "\n",
    "[work these practice problems](./parts.pdf)"
   ]
  },
  {
   "cell_type": "markdown",
   "metadata": {},
   "source": [
    "## [Integration by Trigonometric Substitution](https://www.khanacademy.org/math/integral-calculus/integration-techniques/trig-substitution/v/introduction-to-trigonometric-substitution)\n",
    "\n",
    "Trigonometric substitution can be used to manage difficult integrals by collapsing the integral into the open form of trigonometric functions. As an example, let us take the integral of:\n",
    "\n",
    "$$\\int \\dfrac{1}{\\sqrt{x^2-a^2}} dx$$\n",
    "\n",
    "We observe that we can reduce the expression on the bottom if we take advantage of a common factor, $a$, and use the secant identity. Let\n",
    "\n",
    "$$x= a\\ sec(\\theta)$$\n",
    "$$dx = a\\ sec(\\theta)\\ tan(\\theta) d\\theta$$\n",
    "\n",
    "Then the substitution leads to the following simplification:\n",
    "\n",
    "$$\\int \\dfrac{1}{a\\sqrt{sec^2{\\theta}-1}} a\\ sec(\\theta)\\ tan(\\theta) d\\theta = \\int \\dfrac{1}{\\sqrt{tan^2{\\theta}}} \\ sec(\\theta)\\ tan(\\theta) d\\theta = \\int \\dfrac{1}{|tan{\\theta}|} \\ sec(\\theta)\\ tan(\\theta) d\\theta $$\n",
    "\n",
    "Finally, noting that $|tan(\\theta)| = tan(\\theta)$ arriving at:\n",
    "\n",
    "$$\\int \\ sec(\\theta) d\\theta $$\n",
    "\n",
    "This is a famous integral, obtainable by a table:\n",
    "\n",
    "$$\\int \\ sec(\\theta) d\\theta = ln |sec(\\theta)+tan(\\theta)| + C$$\n",
    "\n",
    "And so on. \n",
    "A back substitution in $\\theta$ is needed to obtain a useable solution in $x$, therefore $\\theta = arcsec(\\frac{x}{a})$.\n",
    "\n",
    "These types of problems involve some facility with these substitutions, and are rarely encountered in data science.\n",
    "\n",
    "\n",
    "You can find additional support [here](http://www.stewartcalculus.com/data/CALCULUS%20Concepts%20and%20Contexts/upfiles/3c3-TrigonometSubstitu_Stu.pdf).\n",
    "\n",
    "\n",
    "**Practice:**\n",
    "\n",
    "[work these practice problems](./trigsubstitutions.pdf)"
   ]
  },
  {
   "cell_type": "markdown",
   "metadata": {
    "collapsed": true
   },
   "source": [
    "## Approximation of Definite Integrals\n",
    "\n",
    "Everything discussed so far has been about obtaining exact answers to integrals. In data science, this is quite rare. Rather it is more common to seek successive approximation to a given integral value by expanding a series of rectangles or trapezoids to estimate the area under the curve.\n",
    "\n"
   ]
  },
  {
   "cell_type": "markdown",
   "metadata": {
    "collapsed": true
   },
   "source": [
    "## Applications of Integration\n",
    "\n",
    "### Surface area\n",
    "\n",
    "Surface area is a natural extension of integration. We can think of the surface area of an object as the sum of small squares or finite elements, covering the surface. As the size of the elements go to zero and we need infinitely many of them, we obtain an integral. In single variable calculus, we approach this process with **solids of revolution**, that is we take a line integral expressing the exterior curve of a smooth solid, and revolve this solid along one axis:\n",
    "\n",
    "![solid-of-rev](./images/volume_of_rev.png)\n",
    "\n",
    "\n",
    "(from [link](http://cochranmath.pbworks.com/w/page/26216874/Volume%20of%20a%20solid%20of%20revolution%20by%20plane%20slicing))\n",
    "Figure 2 shows the solid formed by rotating the equation in Figure 1 around the x-axis. The plane \"slice\" becomes the shape of a disk. The radius is equal to the distance from the curve and the axis of rotation (x-axis) or Ycurve - Yaxis. We can then substitute \"y\" of each equation in terms of \"x.\" \n",
    "\n",
    "The volume of a disk is the area of the base $\\pi r^2$ times the width ($dx$); therefore the volume of this disk is:\n",
    "\n",
    "$$dV = \\pi r^2dx$$\n",
    "\n",
    "To find the volume of the entire solid, we sum the volume contributed by each disk formed from plane slices at each point x in the interval [a,b].\n",
    "\n",
    "Thus the volume is:\n",
    "\n",
    "$$\\int_{a}^{b} \\pi\\ r^2 dx$$\n",
    "\n",
    "And we only need a working expression for the value of the radius before integrating.\n",
    "\n",
    "\n",
    "**Example:**\n",
    "\n",
    "Let us take the solid of revolution of height 6 described by the curve $y = x^{\\frac{2}{3}}$. The radius of the solid will be described by the curve, so:\n",
    "\n",
    "$$r = x^{\\frac{2}{3}}$$\n",
    "\n",
    "At $x=0$, $r=0$, and the volume is simply:\n",
    "\n",
    "$$\\pi\\int_{0}^{6}(x^{\\frac{2}{3}})^2 dx = \\pi\\int_{0}^{6}x^{\\frac{4}{3}} dx = \\frac{3\\pi}{7}x^{\\frac{7}{3}}|_{0}^{6} = 88.076$$\n",
    "\n",
    "(You may check this result with Wolfram Alpha - yes, the source page of the above figure has an incorrect answer.)\n",
    "\n",
    "\n",
    "**Advanced Example:**\n",
    "\n",
    "As another example of surface area, we will also calculate the area of the unit ellipse, thus obtaining Kepler's law.\n",
    "\n",
    "The equation for the unit ellipse\n",
    "\n",
    "\n",
    "\n",
    "\n",
    "\n",
    "\n",
    "### Center of Mass\n",
    "    \n",
    "\n",
    "### Probability integrals"
   ]
  },
  {
   "cell_type": "markdown",
   "metadata": {
    "collapsed": true
   },
   "source": [
    "## Limits in several variables"
   ]
  }
 ],
 "metadata": {
  "kernelspec": {
   "display_name": "Python 2",
   "language": "python",
   "name": "python2"
  },
  "language_info": {
   "codemirror_mode": {
    "name": "ipython",
    "version": 2
   },
   "file_extension": ".py",
   "mimetype": "text/x-python",
   "name": "python",
   "nbconvert_exporter": "python",
   "pygments_lexer": "ipython2",
   "version": "2.7.11"
  }
 },
 "nbformat": 4,
 "nbformat_minor": 0
}
