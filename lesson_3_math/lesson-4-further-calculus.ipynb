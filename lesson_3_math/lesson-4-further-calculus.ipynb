{
 "cells": [
  {
   "cell_type": "markdown",
   "metadata": {
    "collapsed": true
   },
   "source": [
    "# Lesson 4: Further Calculus\n"
   ]
  },
  {
   "cell_type": "markdown",
   "metadata": {},
   "source": [
    "## [Sequences and Series](https://www.khanacademy.org/math/integral-calculus/sequences-series-approx-calc)\n",
    "\n",
    "Sequences are perhaps the most fundamental basic mathematical concept you will need in data science, perhaps more so than any other thing.\n",
    "\n",
    "A sequence, simply put, is just a series of indexed numbers. The word sequence almost always refers to the concept of an **ordered sequence,** meaning that the sequence describes an underlying mathematical pattern. Elements of a sequence are called **terms** and are typically given an **indexing** of $i$ or $n$. Thus for a given sequence $a$ with $n$ total terms we might write:\n",
    "\n",
    "$$ a = {a_1, a_2, a_3, \\ldots, a_n}$$\n",
    "\n",
    "So that the third term of $a$ is $a_3$.\n",
    "\n",
    "Sequences can be finite or infinite in number of terms, there are no restrictions. Examples of sequences might include:\n",
    "\n",
    "$$ a\\ |\\ a_i = 2i+1, i \\in \\{0,\\ldots,\\infty\\}$$\n",
    "\n",
    "$$ 0, 1, 3, 5, 7, 9, 11, ...$$ (sequence of prime numbers) \n",
    "\n",
    "$$ a\\ |\\ a_i = a_{i-1}+a_{i-2}, i \\in \\{2,\\ldots,\\infty\\}$$\n",
    "\n",
    "$$ 1, 1, 2, 3, 5, 8, 13, 21, 34, 55, $$ (fibonacci sequence)\n",
    "\n",
    "Sequences are generalized as **series** when we add up the terms of the sequence, yielding a sum. In applied mathematics, it is far more common to discuss series rather than sequences, and we typically discuss those series for which we have a mathematical formula for the terms, as per the examples given above. We discuss this in terms of a summation over the index of the sequence, using the sum symbol, $\\sum$, an uppercase greek \"S\". The lowercase indexing sets the start of the sum, the top indexing is the stopping point of the sum.\n",
    "\n",
    "$$ \\sum_{i=1}^{N}a_i $$\n",
    "\n",
    "The above series is a sum from the first term of the series to the $N$th. In python we might try representing the series a as a list:"
   ]
  },
  {
   "cell_type": "code",
   "execution_count": 1,
   "metadata": {
    "collapsed": true
   },
   "outputs": [],
   "source": [
    "a = [2, 4, 6, 8, 10]\n",
    "print a"
   ]
  },
  {
   "cell_type": "markdown",
   "metadata": {},
   "source": [
    "Note that we can also generate this list from scratch using a [list comprehension](http://www.python-course.eu/list_comprehension.php):"
   ]
  },
  {
   "cell_type": "code",
   "execution_count": 3,
   "metadata": {
    "collapsed": false
   },
   "outputs": [
    {
     "name": "stdout",
     "output_type": "stream",
     "text": [
      "[0, 2, 4, 6, 8]\n"
     ]
    }
   ],
   "source": [
    "a = [2*i for i in xrange(6)]\n",
    "print a"
   ]
  },
  {
   "cell_type": "markdown",
   "metadata": {},
   "source": [
    "Python enables us to sum the terms quite easily, or we can try doing it with a **loop.**"
   ]
  },
  {
   "cell_type": "code",
   "execution_count": 5,
   "metadata": {
    "collapsed": false
   },
   "outputs": [
    {
     "name": "stdout",
     "output_type": "stream",
     "text": [
      "20\n"
     ]
    }
   ],
   "source": [
    "print sum(a)"
   ]
  },
  {
   "cell_type": "code",
   "execution_count": 6,
   "metadata": {
    "collapsed": false
   },
   "outputs": [
    {
     "name": "stdout",
     "output_type": "stream",
     "text": [
      "20\n"
     ]
    }
   ],
   "source": [
    "S = 0\n",
    "for i in xrange(len(a)):\n",
    "    S += a[i]\n",
    "print S"
   ]
  },
  {
   "cell_type": "markdown",
   "metadata": {},
   "source": [
    "Practice:\n",
    "\n",
    "1. Expand the series $\\sum_{i=0}^{10}\\frac{1}{2i+2}$. Calculate this sum with python.\n",
    "\n",
    "2. List the first four terms of the sequence $A_n = \\dfrac{(-1)^n}{(n+1)!}$\n",
    "\n",
    "3. Compute the series sum of the above sequence $A_n$  up to the tenth term using python. You will probably want to use the [factorial](https://docs.python.org/3/library/math.html) function. "
   ]
  },
  {
   "cell_type": "markdown",
   "metadata": {},
   "source": [
    "## [Limits](https://www.khanacademy.org/math/precalculus/limit-topic-precalc/limits-precalc/v/introduction-to-limits-hd)\n",
    "\n",
    "Implicit in the concept of a sequence is the notion of a **limit**. It should be obvious that we can create sequences with an unlimited number of terms, each term smaller than the last. An example of this might be the simple series:\n",
    "\n",
    "$$A_n = \\dfrac{n}{n!}$$\n",
    "\n",
    "It should be obvious after writing down a few terms of this series that the terms become infinitely small as the value of $n$ becomes large.\n",
    "\n",
    "### Zeno's Paradox\n",
    "\n",
    "This ancient concept is most often described as Zeno's dichotomy. Zeno was one of many philosophers who studied this problem, without a complete result. It is likely that the problem existed long before Zeno studied it, however. It is posed as follows:\n",
    "\n",
    "    A person must travel some finite distance dAB from point A to point B. Before they arrive at the end, they must first travel half the distance, 0.5dAB, then they must travel half the remaining distance, 0.75dAB, and half again, 0.875dAB and so on. If the remaining distance to the destination is always finite, how is it possible that the person ever arrives at their destination?\n",
    "    \n",
    "Meditate on this concept for a moment.\n",
    "\n",
    "How is it possible that anything gets anywhere if we must first cross half the distance, then half the remaining distance, and so on? Something is missing. This concept is called the **limit**, and was proposed first by Archimedes in determining the [area under the curve of the parabola](https://en.wikipedia.org/wiki/The_Quadrature_of_the_Parabola), using an entirely geometric (equally viable to other methods) method. \n",
    "\n",
    "In this case, archimedes was interested in the series:\n",
    "\n",
    "$$ 1 + \\dfrac{1}{4} + \\dfrac{1}{16} + \\dfrac{1}{64} + \\dfrac{1}{256} + \\cdots $$ \n",
    "\n",
    "Which can be rewritten:\n",
    "\n",
    "$$ T_n = \\sum_{n=1}^{\\infty}\\dfrac{1}{4^n} $$\n",
    "\n",
    "Archimedes solved this by drawing the following self-explanatory figure:\n",
    "\n",
    "![geometric_squares](./images/GeometricSquares.svg)\n",
    "\n",
    "This technique is called the *method of exhaustion*. Although we need an infinite number of squares to completely divide the area of the unit square, we can see that the **area of the square itself is finite.** The sum of smaller squares actually converges to a finite area.\n",
    "\n",
    "(Please read the [wiki article](https://en.wikipedia.org/wiki/Zeno's_paradoxes#Proposed_solutions) for a longer discussion on solutions that have been proposed for Zeno's paradox.)\n",
    "\n",
    "Thus the finite area is found in the **limit** of the above series $T_n$. \n",
    "\n",
    "### [Limits of Sequences](https://www.khanacademy.org/math/integral-calculus/sequences-series-approx-calc/seq-conv-diverg/v/definition-of-limit-of-a-sequence-and-sequence-convergence)\n",
    "\n",
    "Limits of sequences and series have a clear definition: The limit of a sequence or series $A_n$ is found when we can find a number $L$ such that\n",
    "\n",
    "$$\\lim_{n \\rightarrow \\infty}A_n = L$$\n",
    "\n",
    "This exists when we can find some bounding number $\\epsilon > 0$ for each member $M$ where $M<n$ of the series such that the $M$th term of the series is less than $L$:\n",
    "\n",
    "$$|a_n - L| < \\epsilon $$\n",
    "\n",
    "for $n > M$.\n",
    "\n",
    "We can see that this means that if we pick a point $M<n$ on the number line, that all successive differences between the next terms and the limit decrease beyond that point, i.e. the numbers are converging to $L$. This special definition means that even if we have series with alternating negative and positive terms, they can converge to a limit as well. \n"
   ]
  },
  {
   "cell_type": "markdown",
   "metadata": {},
   "source": [
    "## [Convergence of Sequences](https://www.khanacademy.org/math/integral-calculus/sequences-series-approx-calc/seq-conv-diverg/v/proving-a-sequence-converges\n",
    "\n",
    "Again touching upon sequences, we are interested in whether or not a given sequence converges or diverges. That is to say, if the sequence has a defined limit or not. There are several ways to approach this topic, but the best way is to look at the expansion of the terms as they tend towards infinity. Typically, we focus on the **rate of growth** of elements of the sequence term. \n",
    "\n",
    "As a general rule, sequences without a denominator do not converge (there are several very important exceptions). For example:\n",
    "\n",
    "$$ A_n = n^2 $$\n",
    "$$ A_n = e^4n + n^2 $$\n",
    "\n",
    "and so on clearly do not converge. If you wish to test this for yourself, try printing out a few terms using python and see if there is ever a case where a later term is larger than an earlier term. (Note that this is the definition of a limit)\n",
    "\n",
    "More complex cases involve the use of intuition and exploration to determine if it makes sense that a sequence converges (recall we are simply trying to determine that the terms stop expanding at some point, not trying to calculate a sum of terms...yet). For example\n",
    "\n",
    "\n",
    "\n",
    "\n",
    "\n",
    "\n"
   ]
  },
  {
   "cell_type": "markdown",
   "metadata": {},
   "source": [
    "\n",
    "\n",
    "\n",
    "\n"
   ]
  },
  {
   "cell_type": "markdown",
   "metadata": {},
   "source": [
    "## [Infinite Series]()\n",
    "\n",
    "### Convergence\n",
    "\n",
    "Series can be written with infinite terms. In many cases this indicates a series whose sum proceeds towards infinity, for example:\n",
    "\n",
    "$$ \\sum_{i=1}^{\\infty} 2i+1 = \\infty$$\n",
    "\n",
    "\n",
    "but there are many special cases where the sum of infinitely many terms converges to a single number. This is because later terms in the series become smaller and smaller, tending towards 0 as they go. Although there are an infinite number of terms in the sum, the terms become infinitely small **as they arrive at infinity**, meaning that the whole sum is finite.\n",
    "\n",
    "This is called **convergence** and it is another key concept in data science. There are several ways to test for convergence, the most common methods being\n",
    "\n",
    "1. Comparison by principal term (Telescoping series)\n",
    "2. L'Hospital's rule\n",
    "\n",
    "\n",
    "\n",
    "\n",
    "### [Geometric Series](https://en.wikipedia.org/wiki/Geometric_series)\n",
    "\n",
    "\n"
   ]
  },
  {
   "cell_type": "markdown",
   "metadata": {},
   "source": [
    "## Taylor's and Maclaurin's Series\n",
    "\n"
   ]
  },
  {
   "cell_type": "markdown",
   "metadata": {},
   "source": [
    "## [Generating Functions](https://en.wikipedia.org/wiki/Generating_function)\n",
    "\n",
    "Generating functions are exactly like series, in fact, they *are* series in the most important sense. Instead of writing out the terms of a **sequence** directly, they are treated as terms of a series. This makes it easy to discuss and write sequences more clearly and more directly than trying to write them out term-by-term. The generating function allows us to simply generate the needed term of a sequence. \n",
    "\n",
    "There are various types of generating functions, including ordinary generating functions, exponential generating functions, Lambert series, Bell series, and Dirichlet series. The most obvious generating function that we treat in detail here is the generating function of the geometric series:\n",
    "\n",
    "$$ 1 + ax + a^2x^2 + a^3x^3 + \\cdots + a^nx^n $$\n",
    "\n",
    "This can be written as its obvious generating function:\n",
    "\n",
    "$$ \\sum_{n=0}^{\\infty}(ax)^n $$\n",
    "\n",
    "and as we have seen above, it converges to a single known value:\n",
    "\n",
    "$$ \\sum_{n=0}^{\\infty}(ax)^n = \\dfrac{1}{1-ax} $$\n",
    "\n",
    "Generating functions are tremendously important to the study of counting and algorithms, and are the main tool used in the study of analytic combinatorics. You should make yourself familiar with them. As a demonstration of the great power of generating functions and their potential use in computation, we will discuss their application to the Fibonacci sequence.\n",
    "\n",
    "Recalling the Fibonacci numbers:\n",
    "\n",
    "$$f_0 = 0$$\n",
    "$$f_1 = 1$$\n",
    "$$f_2 = 1$$\n",
    "$$f_3 = 2$$\n",
    "$$f_4 = 3$$\n",
    "$$f_5 = 5$$\n",
    "$$f_6 = 8$$\n",
    "\n",
    "Now we can whip this into a meaningful sequence:\n",
    "\n",
    "$$ 0, f_0+f_1, f_1+f_2, f_2+f_3, \\ldots $$ \n",
    "\n",
    "And we will construct the generating function for this sequence from the base ordinary generating function:\n",
    "\n",
    "$$F(x) = f_0+f_1x+f_2x^2+f_3x^3+\\cdots+f_nx^n$$\n",
    "\n",
    "Note that the $n$th term of the fibonacci sequence is a *coefficient* in our formulation of the generating function. Now we set the elements of each set of members in the sequence to the respective member of the generating function and sum together:\n",
    "\n",
    "$$0, 1, 0, 0, 0, \\ldots  = x $$\n",
    "$$0, f_0, f_1, f_2, f_3, \\ldots = xF(x) $$\n",
    "$$0, f_1, f_2, f_3, f_4, \\ldots = x^2F(x) $$\n",
    "\n",
    "Summing up these terms we find that:\n",
    "\n",
    "$$ 0, f_0+f_1, f_1+f_2, f_2+f_3, \\ldots = x+xF(x)+x^2F(x) = F(x)$$\n",
    "\n",
    "So we have a function defined in terms of recursive multiples of itself, $F(x)$:\n",
    "\n",
    "$$ F(x) = x+xF(x)+x^2F(x)$$\n",
    "\n",
    "Gathering terms and solving through:\n",
    "\n",
    "$$ F(x)(1-x-x^2) = x $$\n",
    "$$ F(x) = \\dfrac{x}{1-x-x^2}$$\n",
    "\n",
    "And so we have a generating function for the Fibonacci sequence. However, it does not yet yield a formula for the nth member of the fibonacci sequence. In order to do so, we need to "
   ]
  },
  {
   "cell_type": "markdown",
   "metadata": {},
   "source": [
    "## The Riemann Sum"
   ]
  },
  {
   "cell_type": "markdown",
   "metadata": {},
   "source": [
    "## Limits of Functions"
   ]
  },
  {
   "cell_type": "markdown",
   "metadata": {},
   "source": [
    "## Integration by Parts\n"
   ]
  },
  {
   "cell_type": "markdown",
   "metadata": {},
   "source": [
    "## Integration of Trig Functions"
   ]
  },
  {
   "cell_type": "code",
   "execution_count": null,
   "metadata": {
    "collapsed": true
   },
   "outputs": [],
   "source": [
    "## Integration: Substitution"
   ]
  },
  {
   "cell_type": "code",
   "execution_count": null,
   "metadata": {
    "collapsed": true
   },
   "outputs": [],
   "source": [
    "## Comparison Test for Integration"
   ]
  },
  {
   "cell_type": "code",
   "execution_count": null,
   "metadata": {
    "collapsed": true
   },
   "outputs": [],
   "source": [
    "## Approximation of Definite Integrals"
   ]
  },
  {
   "cell_type": "code",
   "execution_count": null,
   "metadata": {
    "collapsed": true
   },
   "outputs": [],
   "source": [
    "## Applications of Integration\n",
    "\n",
    "    ### Surface area\n",
    "    \n",
    "    ### Center of Mass\n",
    "    \n",
    "    ### Probability integrals"
   ]
  },
  {
   "cell_type": "code",
   "execution_count": null,
   "metadata": {
    "collapsed": true
   },
   "outputs": [],
   "source": [
    "## Limits in several variables"
   ]
  },
  {
   "cell_type": "code",
   "execution_count": null,
   "metadata": {
    "collapsed": true
   },
   "outputs": [],
   "source": [
    "## Partial Derivatives"
   ]
  }
 ],
 "metadata": {
  "kernelspec": {
   "display_name": "Python 2",
   "language": "python",
   "name": "python2"
  },
  "language_info": {
   "codemirror_mode": {
    "name": "ipython",
    "version": 2
   },
   "file_extension": ".py",
   "mimetype": "text/x-python",
   "name": "python",
   "nbconvert_exporter": "python",
   "pygments_lexer": "ipython2",
   "version": "2.7.11"
  }
 },
 "nbformat": 4,
 "nbformat_minor": 0
}
