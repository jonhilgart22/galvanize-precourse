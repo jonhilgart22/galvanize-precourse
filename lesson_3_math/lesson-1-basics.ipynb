{
 "cells": [
  {
   "cell_type": "markdown",
   "metadata": {},
   "source": [
    "# Precourse - Lesson 1: Basic Concepts\n",
    "\n"
   ]
  },
  {
   "cell_type": "markdown",
   "metadata": {},
   "source": [
    "In your coming study of data science, it is critical to have a firm and complete grasp of mathematics, particularly for developing your intuition with respect to the behavior of the data itself. Before leaving our program, you are expected to have an extremely firm grasp of elementary mathematics through applied linear algebra and numerical analysis.\n",
    "\n",
    "This lecture includes a basic lesson plan for you to refamiliarize yourself with elementary mathematics in case you find yourself rusty. You should read through in order to be assured that you have **mastered** each subject. In addition, richer reading materials have been provided in the precourse directory. \n",
    "\n",
    "This material is **NOT** intended to be a replacement for a two-year university level course in calculus and cannot replace this requirement. "
   ]
  },
  {
   "cell_type": "markdown",
   "metadata": {},
   "source": [
    "## 1. Order of Operations\n",
    "\n",
    "Symbols:\n",
    "\n",
    "    \"+\"  addition     \"| |\" absolute value\n",
    "    \"-\" subtraction   \" > \" greater than\n",
    "    \"*\" or \"x\" multiplication \" < \" less than\n",
    "    \"÷\" or \"/\" division \">=\" greater than or equal to\n",
    "    \"!=\" not equal to \"<=\" less than or equal to\n",
    "    \n",
    "If you have a string of numbers separated by various arithmetical operations, the convention is to perform the operations from left to right, with a few exceptions:\n",
    "\n",
    "Operations inside parenthesis are to be performed first.\n",
    "\n",
    "Exponents are to be calculated first\n",
    "\n",
    "Multiplication followed by division, left to right, takes precedence after this.\n",
    "\n",
    "This is to be followed by addition and subtraction, left to right.\n",
    "\n",
    "This sequence of operations is well-defined mathematically and encapsulated in the acronym mnemonic PEMDAS (Please Excusee My Dear Aunt Sally)\n",
    "\n",
    "### QUIZ:\n",
    "\n",
    "Consider the following sequence: 12 - 6 ÷ 2 + 9 - 4 * 3. Calculate its value.\n",
    "\n",
    "### Answer:\n",
    "\n",
    "If you performed the operations from left to right without regard for precedence, the\n",
    "sequence would be evaluated as follows: \n",
    "\n",
    "    12 - 8 ÷ 2 + 9 - 4 * 3 = 4 ÷ 2 + 9 - 4 * 3 = 2 + 9 - 4 * 3 = 11 - 4 * 3 = 7 * 3 = 21.\n",
    "\n",
    "Recognizing PEMDAS, the sequence is evaluated differently, again left to right:\n",
    "\n",
    "    12 - 8 ÷ 2 + 9 - 4 * 3 = 12 - 4 + 9 - 12 = 8 + 9 - 12 = 17 - 12 = 5.  \n",
    "\n",
    "Python can be used as a simple calculator as well, but don't let a computer replace your intelligence as a source of truth:"
   ]
  },
  {
   "cell_type": "code",
   "execution_count": 5,
   "metadata": {
    "collapsed": false
   },
   "outputs": [
    {
     "name": "stdout",
     "output_type": "stream",
     "text": [
      "5\n"
     ]
    }
   ],
   "source": [
    "a = 12 - 8 / 2 + 9 - 4 * 3 \n",
    "\n",
    "print a"
   ]
  },
  {
   "cell_type": "markdown",
   "metadata": {},
   "source": [
    "Parenthesis can be used liberally to simplify operations in a sequence of operations:\n",
    "\n",
    "    (12 - (8 ÷ 2)) + 9 - (4 * 3) = 5"
   ]
  },
  {
   "cell_type": "markdown",
   "metadata": {},
   "source": [
    "## 2. The Number Line\n",
    "\n",
    "Implicit in numerical operations is the concept of a \"negative number,\" whose signed value indicates an implied relationship upon addition\n",
    "\n"
   ]
  },
  {
   "cell_type": "markdown",
   "metadata": {},
   "source": [
    "## 3. Algebraic Structures and the Real Number System \n"
   ]
  },
  {
   "cell_type": "markdown",
   "metadata": {},
   "source": [
    "## 4. Symbolic Manipulation"
   ]
  }
 ],
 "metadata": {
  "kernelspec": {
   "display_name": "Python 2",
   "language": "python",
   "name": "python2"
  },
  "language_info": {
   "codemirror_mode": {
    "name": "ipython",
    "version": 2
   },
   "file_extension": ".py",
   "mimetype": "text/x-python",
   "name": "python",
   "nbconvert_exporter": "python",
   "pygments_lexer": "ipython2",
   "version": "2.7.11"
  }
 },
 "nbformat": 4,
 "nbformat_minor": 0
}
