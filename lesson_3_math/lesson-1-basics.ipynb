{
 "cells": [
  {
   "cell_type": "markdown",
   "metadata": {},
   "source": [
    "# Precourse - Lesson 1: Basic Concepts\n",
    "\n"
   ]
  },
  {
   "cell_type": "markdown",
   "metadata": {},
   "source": [
    "In your coming study of data science, it is critical to have a firm and complete grasp of mathematics, particularly for developing your intuition with respect to the behavior of the data itself. Before leaving our program, you are expected to have an extremely firm grasp of elementary mathematics through applied linear algebra and numerical analysis.\n",
    "\n",
    "This lecture includes a basic lesson plan for you to refamiliarize yourself with elementary mathematics in case you find yourself rusty. You should read through in order to be assured that you have **mastered** each subject. In addition, richer reading materials have been provided in the precourse directory. \n",
    "\n",
    "This material is **NOT** intended to be a replacement for a two-year university level course in calculus and cannot replace this requirement. "
   ]
  },
  {
   "cell_type": "markdown",
   "metadata": {},
   "source": [
    "## 1. Order of Operations\n",
    "\n",
    "Symbols:\n",
    "\n",
    "    \"+\"  addition     \"| |\" absolute value\n",
    "    \"-\" subtraction   \" > \" greater than\n",
    "    \"*\" or \"x\" multiplication \" < \" less than\n",
    "    \"÷\" or \"/\" division \">=\" greater than or equal to\n",
    "    \"!=\" not equal to \"<=\" less than or equal to\n",
    "    \n",
    "If you have a string of numbers separated by various arithmetical operations, the convention is to perform the operations from left to right, with a few exceptions:\n",
    "\n",
    "Operations inside parenthesis are to be performed first.\n",
    "\n",
    "Exponents are to be calculated first\n",
    "\n",
    "Multiplication followed by division, left to right, takes precedence after this.\n",
    "\n",
    "This is to be followed by addition and subtraction, left to right.\n",
    "\n",
    "This sequence of operations is well-defined mathematically and encapsulated in the acronym mnemonic PEMDAS (Please Excusee My Dear Aunt Sally)\n",
    "\n",
    "### QUIZ:\n",
    "\n",
    "Consider the following sequence: 12 - 6 ÷ 2 + 9 - 4 * 3. Calculate its value.\n",
    "\n",
    "### Answer:\n",
    "\n",
    "If you performed the operations from left to right without regard for precedence, the\n",
    "sequence would be evaluated as follows: \n",
    "\n",
    "    12 - 8 ÷ 2 + 9 - 4 * 3 = 4 ÷ 2 + 9 - 4 * 3 = 2 + 9 - 4 * 3 = 11 - 4 * 3 = 7 * 3 = 21.\n",
    "\n",
    "Recognizing PEMDAS, the sequence is evaluated differently, again left to right:\n",
    "\n",
    "    12 - 8 ÷ 2 + 9 - 4 * 3 = 12 - 4 + 9 - 12 = 8 + 9 - 12 = 17 - 12 = 5.  \n",
    "\n",
    "Python can be used as a simple calculator as well, but don't let a computer replace your intelligence as a source of truth:"
   ]
  },
  {
   "cell_type": "code",
   "execution_count": 5,
   "metadata": {
    "collapsed": false
   },
   "outputs": [
    {
     "name": "stdout",
     "output_type": "stream",
     "text": [
      "5\n"
     ]
    }
   ],
   "source": [
    "a = 12 - 8 / 2 + 9 - 4 * 3 \n",
    "\n",
    "print a"
   ]
  },
  {
   "cell_type": "markdown",
   "metadata": {},
   "source": [
    "Parenthesis can be used liberally to simplify operations in a sequence of operations:\n",
    "\n",
    "    (12 - (8 ÷ 2)) + 9 - (4 * 3) = 5"
   ]
  },
  {
   "cell_type": "markdown",
   "metadata": {},
   "source": [
    "## 2. Algebraic Theory\n",
    "\n",
    "When we are children, we learn the **set** of natural numbers first:\n",
    "\n",
    "$$\\mathbb{N} = \\{0, 1, 2, 3, ...\\}$$\n",
    "\n",
    "From 0 to infinity and so on. A set is a collection of distinct and different objects. These natural numbers are the building blocks of all later mathematics. Note that if we add two natural numbers together, we can find another natural number in the set. However we can find two numbers in $\\mathbb{N}$ such that their sum is no longer in the set:\n",
    "\n",
    "$0 \\in \\mathbb{N}$\n",
    "\n",
    "$1 \\in \\mathbb{N}$\n",
    "\n",
    "$0-1 = -1 \\notin \\mathbb{N}$\n",
    "\n",
    "This fact means that the natural numbers do not have all mathematical operations available to them and so do not form a *closed* **set,** that is, we can think of mathematical operations that take us outside the set. \n",
    "\n",
    "We can improve this situation by adding the negatives of each number to the set, forming the set of **integers** \n",
    "$\\mathbb{Z} = \\{...-3, -2, -1, 0, 1, 2, 3\\}$. \n",
    "\n",
    "$\\mathbb{Z}$ is special because it is closed under many conditions:\n",
    "\n",
    "1. (addition + is associative) Z is an abelian **group** under addition, meaning that (a + b) + c = a + (b + c) for all a, b, c in Z .\n",
    "\n",
    "2. (addition + is commutative) a + b = b + a for all a, b in Z.\n",
    "\n",
    "3. There is an element 0 in Z such that a + 0 = a for all a in Z (0 is the additive identity).\n",
    "\n",
    "4. For each a in Z there exists −a in Z such that a + (−a) = 0 (−a is the additive inverse of a).\n",
    "\n",
    "5. (multiplication ⋅ is associative) (a ⋅ b) ⋅ c = a ⋅ (b ⋅ c) for all a, b, c in Z .\n",
    "        \n",
    "6. There is an element 1 in Z such that a ⋅ 1 = a and 1 ⋅ a = a for all a in Z (1 is the multiplicative identity).[5]\n",
    "\n",
    "7. Multiplication is **distributive** with respect to addition:\n",
    "\n",
    "        a ⋅ (b + c) = (a ⋅ b) + (a ⋅ c) for all a, b, c in R (left distributivity).\n",
    "        \n",
    "        (b + c) ⋅ a = (b ⋅ a) + (c ⋅ a) for all a, b, c in R (right distributivity).\n",
    "\n",
    "(from [wikipedia](https://en.wikipedia.org/wiki/Ring_%28mathematics%29))\n",
    "\n",
    "Test these out for yourself. These properties make $\\mathbb{Z}$ a **ring**. However, note that you cannot do division and stay within $\\mathbb{Z}$, for example $-\\frac{3}{5} \\notin \\mathbb{Z}$, even though -3 and 5 are both members of $\\mathbb{Z}$.\n",
    "\n",
    "Suppose that we add every possible fraction of members of $\\mathbb{Z}$ into $\\mathbb{Z}$. This new set would be $\\mathbb{Q}$, the set of all possible rational numbers, the numbers expressable in terms of fractions of integers. We can take any member of $\\mathbb{Q}$ and divide it by any other member, and still retrieve a member of $\\mathbb{Q}$. Thus $\\mathbb{Q}$ is closed under division and forms a **field,** subject to the following axioms:\n",
    "\n",
    "1. (Associativity of addition.) Addition $(+)$ is an associative operation on $F$.\n",
    "        \n",
    "2. (Existence of additive identity.) There is an identity element for addition.\n",
    "\n",
    "3. (Existence of Zero.) We know that this identity is unique, and we will denote it by $0$.\n",
    "    \n",
    "4. (Existence of additive inverses.) Every element $x$ of $F$ is invertible for $+$.\n",
    "\n",
    "5. We know that the additive inverse for $x$ is unique, and we will denote it by $-x$.\n",
    "    \n",
    "6. (Commutativity of multiplication.) Multiplication $(\\cdot)$ is a commutative operation on $F$.\n",
    "    \n",
    "7. (Associativity of multiplication.) Multiplication is an associative operation on $F$.\n",
    "\n",
    "8. (Existence of multiplicative identity.) There is an identity element for multiplication.\n",
    "\n",
    "9. (Existence of Unity.) We know that this identity is unique, and we will denote it by $1$.\n",
    "\n",
    "10. (Existence of multiplicative inverses.) Every element $x$ of $F$ except possibly for $0$ is invertible for $\\cdot$.\n",
    "\n",
    "11. We know that the multiplicative inverse for $x$ is unique, and we will denote it by $x^{-1}$. We do not assume $0$ is not invertible. We just do not assume that it is.\n",
    "\n",
    "12. (Distributive law.) For all $x,y,z$ in $F$, $x\\cdot(y+z)=(x\\cdot y)+(x\\cdot z)$.\n",
    "\n",
    "13. (Zero-one law.) The additive identity and multiplicative identity are distinct; i.e., $0\\neq 1$.\n",
    "\n",
    "These of course are simply the natural properties of commonly used fractions, familiar to grade-school students. \n",
    "\n",
    "It turns out that $\\mathbb{Q}$ is a subset of the real numbers, $\\mathbb{R}$, which include all numbers that cannot be expressed within the set $\\mathbb{Q}$, the irrational numbers. Irrational numbers are numbers that do not have simple representation in the scope of fractions. Commonly known irrational numbers are $\\pi$, $\\phi$ and $e$. These cannot for many reasons be represented as fractions (although many have tried!).\n",
    "\n",
    "$\\mathbb{R}$ has all the properties of $\\mathbb{Q}$ but includes many more numbers, actually infinitely more numbers between each member of $\\mathbb{Q}$, as any number in $\\mathbb{R}$ can have an infinite number of nonzero digits both before and after the decimal place.\n"
   ]
  },
  {
   "cell_type": "markdown",
   "metadata": {},
   "source": [
    "## 2. [The Number Line](https://en.wikipedia.org/wiki/Number_line)\n",
    "\n",
    "The set of concepts described above lead to a simple abstraction of a field, in that it can be described as a more-or-less continuous line, the most important feature of which is the point 0, relatively in the middle of the line, with negative and positive infinity spreading out along each side of the 0. Typically this structure, the number line, is drawn with negative infinity to the left of the zero and positive infinity to the right.\n",
    "\n",
    "Numbers are commonly represented as relative points on the line, and it is common to see a single number drawn in as a dot or point. The number line also allows for the representation of a set of points up to, but not including a specific number, in this case the number in question is commonly drawn as a hollow circle. \n",
    "\n",
    "### Intervals\n",
    "\n",
    "Groups of numbers on the number line are typically represented with line segments, called intervals. Intervals that include a given number are represented with brackets, such as the interval of numbers from 1. to 5. inclusive: [1,5].\n",
    "\n",
    "Intervals that do not include the number itself are represented with parenthesis: (1, 5). This interval includes all the numbers below the value of 2. and above the value of 1., without including 1. itself, (i.e. 1.0000000001 and 1.0000000000000000435). \n",
    "\n",
    "### Comparisons\n",
    "\n",
    "If a particular number is farther to the right on the number line than is another number, then the first number is greater than the second. The distance between them is the magnitude of their difference. \n",
    "\n",
    "This operation of visual comparison can be used to perform elementary operations on these numbers (see the link) and leads directly to the plotting of numbers in the Cartesian coordinate system. \n",
    "\n",
    "### [The Cartesian coordinate system](https://en.wikipedia.org/wiki/Cartesian_coordinate_system)\n",
    "\n",
    "The cartesian **coordinate system** is a direct extension of the concept of the number line, allowing a mapping of a pair of descriptors (x,y) for a single point to a visual representation. The **coordinate system** is created by laying two number lines across each other at (usually) right angles. Each reference line is called a coordinate axis or just \"axis\" of the system, and the point where they meet is its origin, usually at ordered pair (0, 0). The coordinates can also be defined as the positions of the perpendicular projections of the point onto the two axes, expressed as signed distances from the origin.\n",
    "\n",
    "Many different coordinate systems are possible, however the cartesian system is perhaps the oldest and definitely the best known of these. \n",
    "\n",
    "#### Dimensionality and Cartesian Coordinates\n",
    "\n",
    "Cartesian coordinates are used to plot coordinates of two dimensions, but can be generalized to three dimensions (so as to include volume) so that the points are defined with three variables (x, y, z) or even more dimensions. Four or greater dimensions provides a challenge for an individual to visualize, but can be understood in much the same way. \n",
    "\n",
    "\n"
   ]
  },
  {
   "cell_type": "markdown",
   "metadata": {},
   "source": [
    "## 3. Symbolic Manipulation\n",
    "\n",
    "The content that would ostensibly go in this section is too vast to completely cover in any kind of detail. Instead, we have attached a [worksheet](./algebra_review.pdf\n",
    ") for you to work through, with answers in back, provided by the mathcentre of the UK. Be sure you have mastered the contents of this sheet."
   ]
  },
  {
   "cell_type": "code",
   "execution_count": 1,
   "metadata": {
    "collapsed": false
   },
   "outputs": [
    {
     "data": {
      "text/plain": [
       "'Finished this section'"
      ]
     },
     "execution_count": 1,
     "metadata": {},
     "output_type": "execute_result"
    }
   ],
   "source": [
    "\"Finished this section\""
   ]
  },
  {
   "cell_type": "code",
   "execution_count": null,
   "metadata": {
    "collapsed": true
   },
   "outputs": [],
   "source": []
  }
 ],
 "metadata": {
  "kernelspec": {
   "display_name": "Python [Root]",
   "language": "python",
   "name": "Python [Root]"
  },
  "language_info": {
   "codemirror_mode": {
    "name": "ipython",
    "version": 3
   },
   "file_extension": ".py",
   "mimetype": "text/x-python",
   "name": "python",
   "nbconvert_exporter": "python",
   "pygments_lexer": "ipython3",
   "version": "3.5.2"
  }
 },
 "nbformat": 4,
 "nbformat_minor": 0
}
