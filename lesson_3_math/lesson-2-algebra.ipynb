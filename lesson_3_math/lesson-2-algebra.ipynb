{
 "cells": [
  {
   "cell_type": "markdown",
   "metadata": {},
   "source": [
    "# Lesson 2: Algebra"
   ]
  },
  {
   "cell_type": "markdown",
   "metadata": {},
   "source": [
    "## Polynomials  \n",
    "Let's start off with polynomials with 1 variable. They arise in the form where each term is ax^n where n is either positive or zero integer. Examples of things that aren't polynomials are when n is negative or not an integer.  a is called the coefficient; the degree of the polynomial is the largest n in the polynomial.  \n",
    "\n",
    "First example:  \n",
    "3x   degree: 1  \n",
    "x ^ 4 - 2x ^ 3 - 5    degree: 4  \n",
    "5  degree: 0 because it is equivalent to 5x ^ 0\n",
    "\n",
    "### The Polynomial Field\n",
    "\n"
   ]
  },
  {
   "cell_type": "markdown",
   "metadata": {},
   "source": [
    "## Exponents   \n",
    "a ^ n = a * a * a * a... * a (n times)\n",
    "Rules of exponents:  \n",
    "a ^ m * a ^ n = a ^ (m + n)  \n",
    "a ^ m / a ^ n = a ^ (m - n)\n",
    "(a ^ m) ^ n = a ^ (mn)  \n",
    "(ab) ^ n = a ^ m * b ^ n  \n",
    "a ^ -n = 1 / a ^ n  \n",
    "a ^ 0 = 1 (as long as a != 0). The reasoning is that a ^ n / a^ n = a ^ (n - n) = a ^ 0 = 1  "
   ]
  },
  {
   "cell_type": "markdown",
   "metadata": {},
   "source": [
    "## Radicals  \n",
    "a ^ (1/n) = $\\sqrt[n]{a}$  \n",
    "n is called the index, a is called the radicand, and $\\sqrt{\\phantom{a}}$\n",
    "\n",
    "\n",
    "$\\sqrt[3]{64} = 64 ^ {1/3} = 4$  \n",
    "\n"
   ]
  },
  {
   "cell_type": "markdown",
   "metadata": {},
   "source": [
    "## Complex Numbers\n",
    "If we tried to get sqrt(-9), we don't any up with a real number because nothing squared can equal -9. That's where complex numbers come in.  \n",
    "In dealing with radicals of negative numbers, you want to extract the -1 first:\n",
    "sqrt(-9) = sqrt(-1 * 9) = sqrt(-1) * sqrt(9) = 3 * sqrt(-1). Math has defined sqrt(-1) as i, which stands for imaginary number.  \n",
    "All numbers (real or imaginary or a combination) are complex numbers of the form a + bi  \n",
    "where a is the real part and bi is the imaginary part.  \n",
    "For example, the number 64 is a real number as well as complex because it can take the form 64 + 0i.  \n",
    "sqrt(-25) is imaginary and complex since it takes the form 0 + 5i.  \n"
   ]
  },
  {
   "cell_type": "markdown",
   "metadata": {},
   "source": [
    "## Graphing  \n",
    "We'll work in the rectangular (or Cartesian) coordinate system, the system that is the most common. (stick plot here) There are four quadrants that are created by a horizontal x-axis and a vertical y-axis. The quadrants are labeled counterclockwise, which is most things in math also works.  \n",
    "Given an (x, y) pair, you can locate the point on the graph.  "
   ]
  },
  {
   "cell_type": "code",
   "execution_count": 1,
   "metadata": {
    "collapsed": true
   },
   "outputs": [],
   "source": [
    "import matplotlib.pyplot as plt\n",
    "%matplotlib inline"
   ]
  },
  {
   "cell_type": "code",
   "execution_count": 5,
   "metadata": {
    "collapsed": false
   },
   "outputs": [
    {
     "data": {
      "text/plain": [
       "<matplotlib.collections.PathCollection at 0x7a98240>"
      ]
     },
     "execution_count": 5,
     "metadata": {},
     "output_type": "execute_result"
    },
    {
     "data": {
      "image/png": "[encoded data removed]",
      "text/plain": [
       "<matplotlib.figure.Figure at 0x77aa828>"
      ]
     },
     "metadata": {},
     "output_type": "display_data"
    }
   ],
   "source": [
    "plt.scatter([1, -1],[1, -1], c='white')"
   ]
  },
  {
   "cell_type": "markdown",
   "metadata": {},
   "source": [
    "## Functions  \n",
    "A function is a relation for where each x-value is associated with at most 1 y-value. To visually determine if an equation is a function, the Vertical Line Test says that if you can draw a vertical line on the graph that touches 2 points in the equation, then the equation is not a function.  \n",
    "For example, the unit circle is defined as x ^ 2 + y ^ 1. If y = 0, then x can take the values -1 or 1, so a circle is not a function.  \n",
    "Suppose, you have y = 3, which draws a horizontal line that intersects the y-axis at 3. This is a function because for each x, there's only 1 y-value associated to it, which in this case is always 3.\n",
    "However, x = 5, which draws a vertical line intersecting the x-axis at 5 is not a function, because x only takes the value at 5. The associated values for y can take on any number.  "
   ]
  },
  {
   "cell_type": "code",
   "execution_count": 11,
   "metadata": {
    "collapsed": false
   },
   "outputs": [
    {
     "data": {
      "text/plain": [
       "[<matplotlib.lines.Line2D at 0x83e87f0>]"
      ]
     },
     "execution_count": 11,
     "metadata": {},
     "output_type": "execute_result"
    },
    {
     "data": {
      "image/png": "[encoded data removed]",
      "text/plain": [
       "<matplotlib.figure.Figure at 0x8157f60>"
      ]
     },
     "metadata": {},
     "output_type": "display_data"
    }
   ],
   "source": [
    "import math\n",
    "x = [element / float(10) for element in range(-100, 100)]\n",
    "y = [math.sin(element) for element in x]\n",
    "plt.plot(x, y)"
   ]
  },
  {
   "cell_type": "markdown",
   "metadata": {},
   "source": [
    "## Polynomial Functions  \n",
    "Polynomial functions are just a relation between x and y where terms involving x will form a polynomial.  \n",
    "For example, y = x ^ 2 - 4 x  + 4\n",
    "A root or zero of a polynomial is any x value that makes y = 0.  \n",
    "For example, in the last polynomial x = -2 because y = x ^ 2 - 4x + 4 = (x + 2) ^ 2. If y = 0, then 0 = (x + 2) ^ 2, and x = -2. All polynomials of degree n have n number of roots. In this polynomial, it was of degree 2 and we actually do have 2 roots--we have -2 twice! We are guaranteed n roots, but the roots are not guaranteed to be unique."
   ]
  },
  {
   "cell_type": "markdown",
   "metadata": {},
   "source": [
    "## Exponential and Logarithm Functions  \n",
    "An exponential function takes the form y = b ^ x where b > 0 and b != 1. b is called the base and x can be any real number. Basically, we want a smooth curve. The only case where we don't get a curve is when x = 0. Notice that b is a fixed number (constant) and the x is the changing variable.  \n",
    "For example, take a look at y = 2 ^ x. When the base > 1, then the curve will slow upward.  \n"
   ]
  },
  {
   "cell_type": "code",
   "execution_count": 17,
   "metadata": {
    "collapsed": false
   },
   "outputs": [
    {
     "data": {
      "image/png": "[encoded data removed]",
      "text/plain": [
       "<matplotlib.figure.Figure at 0x8f33550>"
      ]
     },
     "metadata": {},
     "output_type": "display_data"
    }
   ],
   "source": [
    "x = range(-10, 5)\n",
    "y = [2 ** element for element in x]\n",
    "plt.plot(x, y);"
   ]
  },
  {
   "cell_type": "markdown",
   "metadata": {},
   "source": [
    "Suppose 0 < base < 1, then the curve will slow downward. For example, y = (1 / 2) ^ x + 5. The adding of a constant just moves the curve up vertically by 5 units."
   ]
  },
  {
   "cell_type": "code",
   "execution_count": 21,
   "metadata": {
    "collapsed": false
   },
   "outputs": [
    {
     "data": {
      "image/png": "[encoded data removed]",
      "text/plain": [
       "<matplotlib.figure.Figure at 0x96955c0>"
      ]
     },
     "metadata": {},
     "output_type": "display_data"
    }
   ],
   "source": [
    "x = range(-5 , 10)\n",
    "y = [0.5 ** element + 5 for element in x]\n",
    "plt.plot(x, y);"
   ]
  },
  {
   "cell_type": "markdown",
   "metadata": {},
   "source": [
    "## Linear Systems"
   ]
  },
  {
   "cell_type": "markdown",
   "metadata": {},
   "source": [
    "## Solutions to Equations"
   ]
  },
  {
   "cell_type": "code",
   "execution_count": null,
   "metadata": {
    "collapsed": true
   },
   "outputs": [],
   "source": []
  }
 ],
 "metadata": {
  "kernelspec": {
   "display_name": "Python 2",
   "language": "python",
   "name": "python2"
  },
  "language_info": {
   "codemirror_mode": {
    "name": "ipython",
    "version": 2
   },
   "file_extension": ".py",
   "mimetype": "text/x-python",
   "name": "python",
   "nbconvert_exporter": "python",
   "pygments_lexer": "ipython2",
   "version": "2.7.11"
  }
 },
 "nbformat": 4,
 "nbformat_minor": 0
}
