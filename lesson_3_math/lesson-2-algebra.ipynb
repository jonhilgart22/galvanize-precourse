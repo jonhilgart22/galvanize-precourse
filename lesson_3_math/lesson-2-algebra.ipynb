{
 "cells": [
  {
   "cell_type": "markdown",
   "metadata": {},
   "source": [
    "# Lesson 2: Algebra"
   ]
  },
  {
   "cell_type": "markdown",
   "metadata": {},
   "source": [
    "Let's go through a quick review of algebra. Make sure you know most of this material by heart or can figure out the answer very quickly. \n",
    "More resources:\n",
    "http://tutorial.math.lamar.edu/Classes/Alg/Alg.aspx"
   ]
  },
  {
   "cell_type": "markdown",
   "metadata": {},
   "source": [
    "## Polynomials  \n",
    "Let's start off with polynomials with 1 variable. They arise in the form where each term is $ax^n$ where $\\it{n}$ is either a positive integer or zero. Examples of things that aren't polynomials are when $\\it{n}$ is negative or not an integer.  $\\it{a}$ is called the coefficient; the degree of the polynomial is the largest $\\it{n}$ in the polynomial. We often write a polynomial with terms of decreasing degree because it's easier to read. \n",
    "\n",
    "Examples:  \n",
    "degree 0: $5$ because it is equivalent to $5x ^ 0$  \n",
    "degree 1: $3x$  \n",
    "degree 4: $x ^ 4 - 2x ^ 3 - 5$  \n"
   ]
  },
  {
   "cell_type": "code",
   "execution_count": 1,
   "metadata": {
    "collapsed": false
   },
   "outputs": [
    {
     "data": {
      "text/plain": [
       "'got it'"
      ]
     },
     "execution_count": 1,
     "metadata": {},
     "output_type": "execute_result"
    }
   ],
   "source": [
    "\"got it\""
   ]
  },
  {
   "cell_type": "markdown",
   "metadata": {},
   "source": [
    "## Exponents   \n",
    "Exponenents, as you know, are simply shorthand for multiplying something by itself many times.  \n",
    "$a ^ n = a * a * a * a... * a $   (n times)  \n",
    "<br>\n",
    "Rules of exponents:  \n",
    "$a ^ m * a ^ n = a ^ {m + n}$  \n",
    "$a ^ m / a ^ n = a ^ {m - n}$  \n",
    "$(a ^ m) ^ n = a ^ {(mn)}$  \n",
    "$(ab) ^ n = a ^ m * b ^ n$  \n",
    "$a ^ {-n} = 1 / a ^ n$  \n",
    "$a ^ 0 = 1$ (as long as $a \\neq 0$). The reasoning is that $a ^ n / a^ n = a ^ {n - n} = a ^ 0 = 1$  \n",
    "\n",
    "This material is covered in the [review sheet](./algebra_review.pdf)  \n",
    "\n",
    "#### Your turn:  \n",
    "1. $3 ^ {2.5} * 3 ^ {1.5}$   = 3 ^ {4.0}\n",
    "2. $5 ^ 4 / 5 ^ {-1}$    =  5 ^ 5 \n",
    "3. $4 ^ 4 * 2 ^ 8$   = 2 ^ 16\n",
    "4. ${(5 * 3)} ^ 3$   = 15 ^ 3\n",
    "5. $9 ^ {-2}$ = 1/9^2"
   ]
  },
  {
   "cell_type": "code",
   "execution_count": 3,
   "metadata": {
    "collapsed": false
   },
   "outputs": [
    {
     "name": "stdout",
     "output_type": "stream",
     "text": [
      "81\n",
      "81.0\n",
      "81.0\n",
      "81.0\n",
      "2.0\n"
     ]
    }
   ],
   "source": [
    "# In Python, exponentiation is denoted **\n",
    "# Notice if I change the base or the exponent to a float, then the resulting answer will also be a float.\n",
    "print(3 ** 4)\n",
    "print(3 ** 4.0)\n",
    "print (3.0 ** 4)\n",
    "print (3.0 ** 4.0)\n",
    "print (4 ** 0.5 )# Even though answer is really an integer, Python will calculate it as a float."
   ]
  },
  {
   "cell_type": "code",
   "execution_count": 5,
   "metadata": {
    "collapsed": false
   },
   "outputs": [
    {
     "data": {
      "text/plain": [
       "'got it'"
      ]
     },
     "execution_count": 5,
     "metadata": {},
     "output_type": "execute_result"
    }
   ],
   "source": [
    "\"got it\""
   ]
  },
  {
   "cell_type": "markdown",
   "metadata": {},
   "source": [
    "## Radicals  \n",
    "More resources: http://tutorial.math.lamar.edu/Classes/Alg/Radicals.aspx\n",
    "\n",
    "We are familiar with square roots but that can be generalized to be any index other than 2. Radicals are really just another way to write exponents.  \n",
    "$\\sqrt{a} = a ^ {1/2}$  Index 2 is assumed when it is left out.  \n",
    "$\\sqrt[n]{a} = a ^ {1/n} $  \n",
    "Just for trivia knowledge: $\\it{n}$ is called the index, $\\it{a}$ is called the radicand, and $\\sqrt{\\phantom{a}}$ is the radical.\n",
    "\n",
    "\n",
    "$\\sqrt[3]{64} = 64 ^ {1/3} = 4$  \n",
    "\n",
    "#### Your turn: \n",
    "1. ${(1 / 64)} ^ {1/3}$  = 1 / 4\n",
    "2. $8 ^ {1 / 3} * 2 ^ 3$ =  2^4"
   ]
  },
  {
   "cell_type": "code",
   "execution_count": 6,
   "metadata": {
    "collapsed": false
   },
   "outputs": [
    {
     "name": "stdout",
     "output_type": "stream",
     "text": [
      "3.9999999999999996\n",
      "3.9999999999999996\n"
     ]
    }
   ],
   "source": [
    "print(64 ** (1 / 3)) # In Python 2, you would get the wrong answer because in Python 2,  1 / 3 gives an integer\n",
    "#result of 0\n",
    "# Hence, you are actually calculating 64 ^ 0 = 1. In Python 3, all division is considered float,\n",
    "#so 1 /3 in Python 3 will result in 0.3333333\n",
    "\n",
    "print(64 ** (1.0 / 3)) # correct answer by making a float out of either numerator or denominator"
   ]
  },
  {
   "cell_type": "code",
   "execution_count": 7,
   "metadata": {
    "collapsed": false
   },
   "outputs": [
    {
     "data": {
      "text/plain": [
       "'got it'"
      ]
     },
     "execution_count": 7,
     "metadata": {},
     "output_type": "execute_result"
    }
   ],
   "source": [
    "\"got it\""
   ]
  },
  {
   "cell_type": "markdown",
   "metadata": {},
   "source": [
    "## Complex Numbers  \n",
    "More resources: http://tutorial.math.lamar.edu/Classes/Alg/ComplexNumbers.aspx  \n",
    "\n",
    "If we tried to calculate $\\sqrt {-9}$, we don't any up with a real number because nothing squared can equal -9. That's where complex numbers come in.  \n",
    "In dealing with radicals of negative numbers, you want to extract the -1 first:  \n",
    "$\\sqrt {-9} = \\sqrt{(-1 * 9)} = sqrt(-1) * \\sqrt(9) = \\sqrt{-1} * 3$. Math has defined $\\sqrt{-1} = i$, which stands for the imaginary number.  \n",
    "<br>\n",
    "All numbers (real or imaginary or a combination) are complex numbers of the form $a + bi$ where $a$ is the real part and $bi$ is the imaginary part.  \n",
    "<br>\n",
    "Examples:  \n",
    "64 is a real number as well as complex because it can take the form 64 + 0i  \n",
    "$\\sqrt{-25}$ is imaginary and complex since it takes the form 0 + 5i.  \n"
   ]
  },
  {
   "cell_type": "code",
   "execution_count": 8,
   "metadata": {
    "collapsed": false
   },
   "outputs": [
    {
     "data": {
      "text/plain": [
       "'real, complex, imaginary'"
      ]
     },
     "execution_count": 8,
     "metadata": {},
     "output_type": "execute_result"
    }
   ],
   "source": [
    "\"real, complex, imaginary\""
   ]
  },
  {
   "cell_type": "markdown",
   "metadata": {},
   "source": [
    "## Graphing  \n",
    "More resources: http://tutorial.math.lamar.edu/Classes/Alg/Graphing_Functions.aspx  \n",
    "\n",
    "We'll work in the rectangular (or Cartesian) coordinate system, the system that is the most common. (stick plot here) There are four quadrants that are created by a horizontal x-axis and a vertical y-axis. The quadrants are labeled counterclockwise, which is how most things in math works.  \n",
    "Given an (x, y) pair, you can locate the point on the graph.  "
   ]
  },
  {
   "cell_type": "code",
   "execution_count": 9,
   "metadata": {
    "collapsed": false,
    "scrolled": false
   },
   "outputs": [
    {
     "name": "stderr",
     "output_type": "stream",
     "text": [
      "/Users/jonathanhilgart/anaconda/lib/python3.5/site-packages/matplotlib/font_manager.py:273: UserWarning: Matplotlib is building the font cache using fc-list. This may take a moment.\n",
      "  warnings.warn('Matplotlib is building the font cache using fc-list. This may take a moment.')\n",
      "/Users/jonathanhilgart/anaconda/lib/python3.5/site-packages/matplotlib/font_manager.py:273: UserWarning: Matplotlib is building the font cache using fc-list. This may take a moment.\n",
      "  warnings.warn('Matplotlib is building the font cache using fc-list. This may take a moment.')\n"
     ]
    },
    {
     "data": {
      "image/png": "[encoded data removed]",
      "text/plain": [
       "<matplotlib.figure.Figure at 0x104080c88>"
      ]
     },
     "metadata": {},
     "output_type": "display_data"
    }
   ],
   "source": [
    "import matplotlib.pyplot as plt\n",
    "%matplotlib inline\n",
    "x = [1, -1, -1, 1]\n",
    "y = [1, 1, -1, -1]\n",
    "\n",
    "fig = plt.figure()\n",
    "ax = fig.add_subplot(111)\n",
    "ax.set_xlim(-2,2)\n",
    "ax.set_ylim(-2,2)\n",
    "plt.scatter(x, y, marker='.')\n",
    "plt.title(\"Quadrants\")\n",
    "for quadrant, (a, b) in enumerate(zip(x, y), 1): \n",
    "    plt.text(a, b, str(quadrant))\n",
    "plt.axvline(x=0)\n",
    "plt.axhline(y=0);\n",
    "plt.show()"
   ]
  },
  {
   "cell_type": "markdown",
   "metadata": {},
   "source": [
    "#### Your turn: \n",
    "1. Plot $x^2 + 5$\n",
    "2. Plot $2^x$\n",
    "3. Plot $\\sqrt {x}$"
   ]
  },
  {
   "cell_type": "code",
   "execution_count": 47,
   "metadata": {
    "collapsed": false
   },
   "outputs": [
    {
     "data": {
      "text/plain": [
       "<matplotlib.collections.PathCollection at 0x112e16908>"
      ]
     },
     "execution_count": 47,
     "metadata": {},
     "output_type": "execute_result"
    },
    {
     "data": {
      "image/png": "[encoded data removed]",
      "text/plain": [
       "<matplotlib.figure.Figure at 0x112057d30>"
      ]
     },
     "metadata": {},
     "output_type": "display_data"
    },
    {
     "data": {
      "image/png": "[encoded data removed]",
      "text/plain": [
       "<matplotlib.figure.Figure at 0x112aa12e8>"
      ]
     },
     "metadata": {},
     "output_type": "display_data"
    },
    {
     "data": {
      "image/png": "[encoded data removed]",
      "text/plain": [
       "<matplotlib.figure.Figure at 0x112d50908>"
      ]
     },
     "metadata": {},
     "output_type": "display_data"
    }
   ],
   "source": [
    "import random\n",
    "import math\n",
    "#Plot X**2+5\n",
    "\n",
    "x = random.sample(range(-100,100), 100)\n",
    "y = [item**2+5 for item in x]\n",
    "plt.figure()\n",
    "plt.scatter(x,y)\n",
    "#plt.scatter(x,y)\n",
    "\n",
    "#Plt 2^x\n",
    "\n",
    "plt.figure()\n",
    "a = random.sample(range(10), 10)\n",
    "b = [2**item for item in a]\n",
    "plt.scatter(a,b)\n",
    "\n",
    "# PLt Sqrt(x)\n",
    "\n",
    "plt.figure()\n",
    "r = random.sample(range(100), 100)\n",
    "d= [math.sqrt(r) for r in r]\n",
    "plt.scatter (r,d)"
   ]
  },
  {
   "cell_type": "markdown",
   "metadata": {},
   "source": [
    "## Functions  \n",
    "\n",
    "A function is a relation for where each x-value is associated with at most 1 y-value. To visually determine if an equation is a function, the Vertical Line Test says that if you can draw a vertical line on the graph that touches 2 points in the equation, then the equation is not a function.  \n",
    "<br>\n",
    "Examples:  \n",
    "Suppose, you have y = 3, which draws a horizontal line that intersects the y-axis at 3. This is a function because for each x, there's only 1 y-value associated to it, which in this case is always 3.  \n",
    "\n",
    "However, x = 5 (which draws a vertical line intersecting the x-axis at 5) is not a function, because x only takes the value at 5. The associated values for y can take on any number.  \n",
    "\n",
    "The unit circle is defined as $x ^ 2 + y ^ 2 = 1$. If $x = 0.6$, then y can take the values -0.8 or 0.8, so a circle is not a function.  "
   ]
  },
  {
   "cell_type": "code",
   "execution_count": 4,
   "metadata": {
    "collapsed": false
   },
   "outputs": [
    {
     "data": {
      "image/png": "[encoded data removed]",
      "text/plain": [
       "<matplotlib.figure.Figure at 0x20fd9fa9be0>"
      ]
     },
     "metadata": {},
     "output_type": "display_data"
    }
   ],
   "source": [
    "# Python can't directly plot equations, so we have to make it plot the points that lie \n",
    "# on that equation and then connect the dots!\n",
    "\n",
    "x = [element / 100.0 for element in range(-100, 101)]\n",
    "y_top = [(1 - element ** 2) ** 0.5 for element in x]\n",
    "y_bottom = [-(1 - element ** 2) ** 0.5 for element in x]\n",
    "\n",
    "fig = plt.figure()\n",
    "ax = fig.add_subplot(111)\n",
    "ax.set_xlim(-1.5, 1.5)\n",
    "ax.set_ylim(-1.5, 1.5)\n",
    "\n",
    "plt.plot(x, y_top)\n",
    "plt.plot(x, y_bottom)\n",
    "plt.axvline(x=0.6)\n",
    "plt.title(\"Not a function!\");"
   ]
  },
  {
   "cell_type": "code",
   "execution_count": 5,
   "metadata": {
    "collapsed": false
   },
   "outputs": [
    {
     "data": {
      "image/png": "[encoded data removed]",
      "text/plain": [
       "<matplotlib.figure.Figure at 0x20fd9f93cc0>"
      ]
     },
     "metadata": {},
     "output_type": "display_data"
    }
   ],
   "source": [
    "# sine is a trigonometric FUNCTION\n",
    "import math\n",
    "x = [element / float(10) for element in range(-100, 100)]\n",
    "y = [math.sin(element) for element in x]\n",
    "plt.plot(x, y);"
   ]
  },
  {
   "cell_type": "code",
   "execution_count": 48,
   "metadata": {
    "collapsed": false
   },
   "outputs": [
    {
     "data": {
      "text/plain": [
       "'got it - function has one y for every x value '"
      ]
     },
     "execution_count": 48,
     "metadata": {},
     "output_type": "execute_result"
    }
   ],
   "source": [
    "\"got it - function has one y for every x value \""
   ]
  },
  {
   "cell_type": "markdown",
   "metadata": {},
   "source": [
    "## Polynomial Functions  \n",
    "More resources: http://tutorial.math.lamar.edu/Classes/Alg/PolynomialFunctions.aspx  \n",
    "\n",
    "Polynomial functions are just a relation between x and y where terms involving x will form a polynomial. Algebraically, a root (or zero) of a polynomial is any x value that makes y = 0. Geometrically, the root is where the function intersects the x-axis (where y-value is 0). All polynomials of degree $n$ have $n$ number of roots.   \n",
    "\n",
    "Example 1:  \n",
    "Let's take a look at the polynomial function $y = x ^ 2 - 2x - 3$\n",
    "The root occurs at $x = -1$ and $x = 3$ because $y = x ^ 2 - 2x - 3 = (x + 1)(x - 3)$. If $y = 0$, then $x + 1 = 0$ or $x - 3 = 0$. In this polynomial, it was of degree 2 and we have 2 roots. $x = -1$ or $x = 3$."
   ]
  },
  {
   "cell_type": "code",
   "execution_count": 49,
   "metadata": {
    "collapsed": false,
    "scrolled": true
   },
   "outputs": [
    {
     "data": {
      "image/png": "[encoded data removed]",
      "text/plain": [
       "<matplotlib.figure.Figure at 0x110e95cc0>"
      ]
     },
     "metadata": {},
     "output_type": "display_data"
    }
   ],
   "source": [
    "x = range(-2, 5)\n",
    "y = [element ** 2 - 2 * element - 3 for element in x]\n",
    "plt.plot(x, y)\n",
    "plt.axvline(x=0)\n",
    "plt.axhline(y=0)\n",
    "plt.title(\"2 Intersections of the x-axis!\");"
   ]
  },
  {
   "cell_type": "markdown",
   "metadata": {},
   "source": [
    "Example 2:  \n",
    "Let's look at the polynomial function $y = x ^ 2 + 4x + 4$  \n",
    "The root occurs at $x = -2$ because $y = x ^ 2 + 4x + 4 = (x + 2) ^ 2$. If $y = 0$, then $0 = (x + 2) ^ 2$, and $x = -2$. All polynomials of degree n have n number of roots. In this polynomial, it was of degree 2 and we actually do have 2 roots--we have -2 twice! We are guaranteed $n$ roots, but the roots are not guaranteed to be unique."
   ]
  },
  {
   "cell_type": "code",
   "execution_count": 7,
   "metadata": {
    "collapsed": false,
    "scrolled": true
   },
   "outputs": [
    {
     "data": {
      "image/png": "[encoded data removed]",
      "text/plain": [
       "<matplotlib.figure.Figure at 0x20fdbecd550>"
      ]
     },
     "metadata": {},
     "output_type": "display_data"
    }
   ],
   "source": [
    "x = range(-4, 2)\n",
    "y = [element ** 2 + 4 * element + 4 for element in x]\n",
    "plt.plot(x, y)\n",
    "plt.title('\"2\" Intersections at x = -2');"
   ]
  },
  {
   "cell_type": "code",
   "execution_count": 50,
   "metadata": {
    "collapsed": false
   },
   "outputs": [
    {
     "data": {
      "text/plain": [
       "'got it'"
      ]
     },
     "execution_count": 50,
     "metadata": {},
     "output_type": "execute_result"
    }
   ],
   "source": [
    "\"got it\""
   ]
  },
  {
   "cell_type": "markdown",
   "metadata": {},
   "source": [
    "## Exponential Functions  \n",
    "More resources: http://tutorial.math.lamar.edu/Classes/Alg/ExpAndLog.aspx  \n",
    "\n",
    "An exponential function takes the form $y = b ^ x$ where $b > 0$ and $b \\neq 1$. Basically, we want a smooth curve. The only case where we don't get a curve is when $x = 0$. Notice that $b$ is a fixed number (constant) and the $x$ is the changing variable.  \n",
    "Trivia: $b$ is called the base and $x$ can be any real number. \n",
    "<br>\n",
    "For example, take a look at $y = 2 ^ x$. When the $b > 1$, then the curve will slope upward.  "
   ]
  },
  {
   "cell_type": "code",
   "execution_count": 8,
   "metadata": {
    "collapsed": false
   },
   "outputs": [
    {
     "data": {
      "image/png": "[encoded data removed]",
      "text/plain": [
       "<matplotlib.figure.Figure at 0x20fdc06ab00>"
      ]
     },
     "metadata": {},
     "output_type": "display_data"
    }
   ],
   "source": [
    "x = range(-10, 5)\n",
    "y = [2 ** element for element in x]\n",
    "plt.plot(x, y);"
   ]
  },
  {
   "cell_type": "markdown",
   "metadata": {},
   "source": [
    "Suppose $0 < b < 1$, then the curve will slope downward. For example, $y = {\\frac{4} {5}} ^ x + 5$. The adding of a constant just moves the curve up vertically by 5 units."
   ]
  },
  {
   "cell_type": "code",
   "execution_count": 9,
   "metadata": {
    "collapsed": false
   },
   "outputs": [
    {
     "data": {
      "image/png": "[encoded data removed]",
      "text/plain": [
       "<matplotlib.figure.Figure at 0x7b794e0>"
      ]
     },
     "metadata": {},
     "output_type": "display_data"
    }
   ],
   "source": [
    "x = range(-5 , 10)\n",
    "y = [0.8 ** element + 5 for element in x]\n",
    "plt.plot(x, y);"
   ]
  },
  {
   "cell_type": "code",
   "execution_count": 51,
   "metadata": {
    "collapsed": false
   },
   "outputs": [
    {
     "data": {
      "text/plain": [
       "'got it'"
      ]
     },
     "execution_count": 51,
     "metadata": {},
     "output_type": "execute_result"
    }
   ],
   "source": [
    "\"got it\""
   ]
  },
  {
   "cell_type": "markdown",
   "metadata": {},
   "source": [
    "## Logarithm Functions  \n",
    "More resources: http://tutorial.math.lamar.edu/Classes/Alg/ExpAndLog.aspx  \n",
    "\n",
    "Logarithms are like the \"opposite\" of exponents--to be specific, they are inverses of each other.  \n",
    "\n",
    "In exponents, $y = b ^ x$. In logarithms, we switch the x and y: $x = b ^ y$. However, we want to \"isolate\" y to one side, so we write $y = \\log_b x$--remember that both have the same relation between x and y; it's only a notational difference.  \n",
    "$x$ can only take positive values and the logarithm functions are undefined for $x \\leq 0$. \n",
    "\n",
    "Rules of logarithms are derived from rules of exponents:  \n",
    "$\\log_b x ^ y = y * \\log_b x$  \n",
    "$\\log_b x ^ {1/y} = 1 / y * \\log_b x$  \n",
    "$\\log_b {(1/x)} = \\log_b (x ^ {-1}) = -1 * \\log_b x $\n",
    "\n",
    "$\\log_b x * \\log_b y = \\log_b {(x + y)} $  (notice the base must be the same)  \n",
    "$\\log_b x / \\log_b y = \\log_b {(x - y)} $  (notice the base must be the same)  \n",
    "\n",
    "$\\log_b b = 1$  because if $x = b ^ y$ and $x = b$, then $y = 1$.  \n",
    "$\\log_b 1 = 0$  because if $x = b ^ y$ and $x = 1$, then $y = 0$.  \n",
    "  \n",
    "If the base $b = e$ (natural number), then the shorthand notation $\\log_e x = \\ln x$--this is called the natural log. The confusing part is that different fields use log with their respective base assumed. For example, in statistics and math, log really means with base e, so we are really working with natural log instead of log with base 10. In computer science, log might readily assume the base is 2.  \n",
    "<br>\n",
    "Let's take a look at y = ln x. As x approaches 0 from the positive side, y will be very small (very negative).  "
   ]
  },
  {
   "cell_type": "markdown",
   "metadata": {},
   "source": [
    "#### Your turn: \n",
    "1. $ln(e)$   = 1\n",
    "2. Can you write $ln(e ^ 2)$ in a different way? = 2*ln(e) = 2\n",
    "3. $ln(e) * ln(e)$   = 1\n",
    "4. $ln(3) * ln(2)$  = ln(5)\n",
    "\n",
    "5. Does $ln(3) / ln(3)$ exist?  yes = 1"
   ]
  },
  {
   "cell_type": "code",
   "execution_count": 9,
   "metadata": {
    "collapsed": false
   },
   "outputs": [
    {
     "data": {
      "image/png": "[encoded data removed]",
      "text/plain": [
       "<matplotlib.figure.Figure at 0x20fdc2dfd30>"
      ]
     },
     "metadata": {},
     "output_type": "display_data"
    }
   ],
   "source": [
    "import math\n",
    "x = [element / float(100) for element in range(1, 1000)]\n",
    "y = [math.log(element) for element in x]\n",
    "plt.plot(x, y);"
   ]
  },
  {
   "cell_type": "code",
   "execution_count": 52,
   "metadata": {
    "collapsed": false
   },
   "outputs": [
    {
     "data": {
      "text/plain": [
       "'got it'"
      ]
     },
     "execution_count": 52,
     "metadata": {},
     "output_type": "execute_result"
    }
   ],
   "source": [
    "\"got it\""
   ]
  },
  {
   "cell_type": "markdown",
   "metadata": {},
   "source": [
    "## Linear Systems  \n",
    "More resources: http://tutorial.math.lamar.edu/Classes/Alg/Systems.aspx  \n",
    "\n",
    "A system of linear equations is a collection of two or more linear equations. Well, what is a linear equation? Algebraically, a linear equation means that all the variables have only degree 1. Geometrically, a linear system of two variables draws out a straight line. Hence, a linear system of equations is just drawing multiple lines.  \n",
    "A linear system of two equations with two variables looks like this:  \n",
    "$$ax + by = p$$\n",
    "$$cd + dy = q$$  "
   ]
  },
  {
   "cell_type": "markdown",
   "metadata": {},
   "source": [
    "For example, if we have $y = x + 5$ and $y = 3x - 6$. We can write it as:   \n",
    "$$x - y = -5$$\n",
    "$$3x - y = 6$$"
   ]
  },
  {
   "cell_type": "code",
   "execution_count": 12,
   "metadata": {
    "collapsed": false,
    "scrolled": true
   },
   "outputs": [
    {
     "data": {
      "image/png": "[encoded data removed]",
      "text/plain": [
       "<matplotlib.figure.Figure at 0x20fdc997dd8>"
      ]
     },
     "metadata": {},
     "output_type": "display_data"
    }
   ],
   "source": [
    "x = range(-5, 15)\n",
    "y1 = [element + 5 for element in x]\n",
    "y2 = [3 * element - 6 for element in x]\n",
    "plt.plot(x, y1, label=\"x - y = -5\")\n",
    "plt.plot(x, y2, label=\"3x - y = 6\")\n",
    "plt.legend(loc=2);"
   ]
  },
  {
   "cell_type": "code",
   "execution_count": 53,
   "metadata": {
    "collapsed": false
   },
   "outputs": [
    {
     "data": {
      "text/plain": [
       "'got it'"
      ]
     },
     "execution_count": 53,
     "metadata": {},
     "output_type": "execute_result"
    }
   ],
   "source": [
    "\"got it\""
   ]
  },
  {
   "cell_type": "markdown",
   "metadata": {},
   "source": [
    "## Solutions to Equations  \n",
    "Algebraically, solutions to a system of linear equations is what unique value each variable takes such that all the linear equations are valid. Geometrically, it's where all the lines intersect.  \n",
    "<br>\n",
    "For example, in the graph above, the intersection occurs at $x = 5.5$ and $y = 10.5$. In general, a system of equations has either 0, 1, or infinite solutions.  \n",
    "<br>\n",
    "Geometrically, 0 solutions occur when 2 lines are parallel--there is no intersection.  \n",
    "1 solution occurs when 2 lines intersect.  \n",
    "2 solutions occur when the 2 lines are really the same line."
   ]
  },
  {
   "cell_type": "code",
   "execution_count": 54,
   "metadata": {
    "collapsed": false
   },
   "outputs": [
    {
     "data": {
      "image/png": "[encoded data removed]",
      "text/plain": [
       "<matplotlib.figure.Figure at 0x112d451d0>"
      ]
     },
     "metadata": {},
     "output_type": "display_data"
    }
   ],
   "source": [
    "x = range(10)\n",
    "y1 = [2 * element for element in x]\n",
    "y2 = [2 * element + 5 for element in x]\n",
    "plt.plot(x, y1, label=\"y = 2x\")\n",
    "plt.plot(x, y2, label=\"y = 2x + 5\")\n",
    "plt.title(\"No intersection: 0 solutions because lines parallel\")\n",
    "plt.legend(loc=2)\n",
    "plt.plot();"
   ]
  },
  {
   "cell_type": "code",
   "execution_count": 14,
   "metadata": {
    "collapsed": false
   },
   "outputs": [
    {
     "data": {
      "image/png": "[encoded data removed]",
      "text/plain": [
       "<matplotlib.figure.Figure at 0x20fdcaf4208>"
      ]
     },
     "metadata": {},
     "output_type": "display_data"
    }
   ],
   "source": [
    "x = range(-5, 5)\n",
    "y1 = [2 * element for element in x]\n",
    "y2 = [-2 * element + 5 for element in x]\n",
    "plt.plot(x, y1, label=\"y = 2x\")\n",
    "plt.plot(x, y2, label=\"y = -2x + 5\")\n",
    "plt.title(\"1 intersection: 1 solution because lines not parallel\")\n",
    "plt.legend(loc=2)\n",
    "plt.plot();"
   ]
  },
  {
   "cell_type": "code",
   "execution_count": 15,
   "metadata": {
    "collapsed": false
   },
   "outputs": [
    {
     "data": {
      "image/png": "[encoded data removed]",
      "text/plain": [
       "<matplotlib.figure.Figure at 0x20fddb829b0>"
      ]
     },
     "metadata": {},
     "output_type": "display_data"
    }
   ],
   "source": [
    "x = range(-5, 5)\n",
    "y1 = [2 * element for element in x]\n",
    "y2 = [2 * element for element in x]\n",
    "plt.plot(x, y1, label=\"y = 2x\")\n",
    "plt.plot(x, y2, label=\"2y = 4x\")\n",
    "plt.title(\"Infinite intersections: Infinite solutions because equations are really identical\")\n",
    "plt.legend(loc=2)\n",
    "plt.plot();"
   ]
  },
  {
   "cell_type": "markdown",
   "metadata": {},
   "source": [
    "#### Your turn: \n",
    "1. What is the x and y value that solve. You can either use graphical method or alegebra if you remember how.   \n",
    "$$5x + 2y = 9$$\n",
    "$$2x - 3y = -4$$  \n",
    "x= -2 + 3/2y\n",
    "\n",
    "-10 +15/2y + 2y = 9\n",
    "15/2y +2y = 19\n",
    "15+4y**2 = 38y\n",
    "4y**2 - 38y +15 = 0\n",
    "\n",
    "y = ( 38 +/- sqrt(38*38 - 16*15) )/8\n",
    "\n",
    "y=9.09 , .41\n",
    "x=-1.836 , 1.76\n",
    "\n",
    "\n",
    "2. By looking at the following equations, how many solution(s) are there to this system of equations. Verify your answer with a graph.  \n",
    "$$5x - y = -5$$   y = 5 + 5x\n",
    "$$5x + y = -5$$  y = -5 - 5x\n",
    "one solution\n",
    "\n",
    "3. By looking at the following equations, how many solution(s) are there to this system of equations. Verify your answer with a graph.  \n",
    "$$7x - 4y = 10$$ y = -10/4 + 7/4x\n",
    "$$21x - 12y = 30$$  y = -30/12 + 21/12x\n",
    "\n",
    "Infinite solutions, same line\n",
    "\n",
    "4. By looking at the following equations, how many solution(s) are there to this system of equations. Verify your answer with a graph.  \n",
    "$$3x - 3y = 12$$  y = -4 + x\n",
    "$$6x - 6y = 36$$  y = -6 + x\n",
    "\n",
    "no solutions, parrellel lines\n",
    "\n",
    "5. Does the following system of equations have a solution? Verify with a graph.  \n",
    "$$3x - 2y = 4$$\n",
    "$$6x - 4y = 8$$\n",
    "$$6x + 4y = 8$$\n",
    "\n",
    "No solution"
   ]
  },
  {
   "cell_type": "code",
   "execution_count": 55,
   "metadata": {
    "collapsed": false
   },
   "outputs": [
    {
     "data": {
      "text/plain": [
       "[<matplotlib.lines.Line2D at 0x111760048>]"
      ]
     },
     "execution_count": 55,
     "metadata": {},
     "output_type": "execute_result"
    },
    {
     "data": {
      "image/png": "[encoded data removed]",
      "text/plain": [
       "<matplotlib.figure.Figure at 0x112a85ef0>"
      ]
     },
     "metadata": {},
     "output_type": "display_data"
    }
   ],
   "source": [
    "#problem two\n",
    "x = range(-5, 5)\n",
    "y1 = [5 * element + 5 for element in x]\n",
    "y2 = [-5 * element - 5 for element in x]\n",
    "plt.figure()\n",
    "plt.plot(x,y1)\n",
    "plt.plot(x,y2)\n"
   ]
  },
  {
   "cell_type": "code",
   "execution_count": 58,
   "metadata": {
    "collapsed": false
   },
   "outputs": [
    {
     "data": {
      "text/plain": [
       "[<matplotlib.lines.Line2D at 0x10ab289e8>]"
      ]
     },
     "execution_count": 58,
     "metadata": {},
     "output_type": "execute_result"
    },
    {
     "data": {
      "text/plain": [
       "<matplotlib.figure.Figure at 0x10d4cfef0>"
      ]
     },
     "metadata": {},
     "output_type": "display_data"
    },
    {
     "data": {
      "image/png": "[encoded data removed]",
      "text/plain": [
       "<matplotlib.figure.Figure at 0x110f95668>"
      ]
     },
     "metadata": {},
     "output_type": "display_data"
    }
   ],
   "source": [
    "#problem three\n",
    "plt.figure()\n",
    "x = range(-5, 5)\n",
    "y1 = [7/4* element - (10/4) for element in x]\n",
    "y2 = [21/12 * element - (30/12) for element in x]\n",
    "plt.figure()\n",
    "plt.plot(x,y1)\n",
    "plt.plot(x,y2)\n",
    "\n"
   ]
  },
  {
   "cell_type": "code",
   "execution_count": 59,
   "metadata": {
    "collapsed": false
   },
   "outputs": [
    {
     "data": {
      "text/plain": [
       "[<matplotlib.lines.Line2D at 0x111356a90>]"
      ]
     },
     "execution_count": 59,
     "metadata": {},
     "output_type": "execute_result"
    },
    {
     "data": {
      "text/plain": [
       "<matplotlib.figure.Figure at 0x10f9d4978>"
      ]
     },
     "metadata": {},
     "output_type": "display_data"
    },
    {
     "data": {
      "image/png": "[encoded data removed]",
      "text/plain": [
       "<matplotlib.figure.Figure at 0x111777710>"
      ]
     },
     "metadata": {},
     "output_type": "display_data"
    }
   ],
   "source": [
    "#problem four\n",
    "plt.figure()\n",
    "x = range(-5, 5)\n",
    "y1 = [ element - (4) for element in x]\n",
    "y2 = [element - (6) for element in x]\n",
    "plt.figure()\n",
    "plt.plot(x,y1)\n",
    "plt.plot(x,y2)\n",
    "\n",
    "\n"
   ]
  },
  {
   "cell_type": "code",
   "execution_count": 61,
   "metadata": {
    "collapsed": false
   },
   "outputs": [
    {
     "data": {
      "text/plain": [
       "[<matplotlib.lines.Line2D at 0x112fc9e48>]"
      ]
     },
     "execution_count": 61,
     "metadata": {},
     "output_type": "execute_result"
    },
    {
     "data": {
      "text/plain": [
       "<matplotlib.figure.Figure at 0x11252b470>"
      ]
     },
     "metadata": {},
     "output_type": "display_data"
    },
    {
     "data": {
      "image/png": "[encoded data removed]",
      "text/plain": [
       "<matplotlib.figure.Figure at 0x11252bc50>"
      ]
     },
     "metadata": {},
     "output_type": "display_data"
    }
   ],
   "source": [
    "#Problem five\n",
    "plt.figure()\n",
    "x = range(-10, 10)\n",
    "y1 = [ (3/2)*element - (2) for element in x]\n",
    "y2 = [(4/6)*element - (2) for element in x]\n",
    "y3 = [ (4/6)*element + (2) for element in x]\n",
    "plt.figure()\n",
    "plt.plot(x,y1)\n",
    "plt.plot(x,y2)\n",
    "plt.plot(x,y3)\n",
    "\n",
    "\n"
   ]
  },
  {
   "cell_type": "markdown",
   "metadata": {},
   "source": [
    "## Conic Sections: \n",
    "Please be familiar with conic sections: parabola, hyperbola, and ellipse. Conic sections are the intersection of a plane and a cone (specifically a double-napped cone).  \n",
    "Browse through http://www.sparknotes.com/math/precalc/conicsections/"
   ]
  },
  {
   "cell_type": "markdown",
   "metadata": {},
   "source": [
    "## Congrats!  \n",
    "You've finished a broad review of algebra topics. Hope you are pumped to review some calculus!"
   ]
  }
 ],
 "metadata": {
  "kernelspec": {
   "display_name": "Python [Root]",
   "language": "python",
   "name": "Python [Root]"
  },
  "language_info": {
   "codemirror_mode": {
    "name": "ipython",
    "version": 3
   },
   "file_extension": ".py",
   "mimetype": "text/x-python",
   "name": "python",
   "nbconvert_exporter": "python",
   "pygments_lexer": "ipython3",
   "version": "3.5.2"
  }
 },
 "nbformat": 4,
 "nbformat_minor": 0
}
